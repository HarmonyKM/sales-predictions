{
  "nbformat": 4,
  "nbformat_minor": 0,
  "metadata": {
    "colab": {
      "name": "Sales Predictions.ipynb",
      "provenance": [],
      "mount_file_id": "https://github.com/HarmonyKM/sales-predictions/blob/main/Sales_Predictions.ipynb",
      "authorship_tag": "ABX9TyPOaDMrVnsQfcDzIizHamRI",
      "include_colab_link": true
    },
    "kernelspec": {
      "name": "python3",
      "display_name": "Python 3"
    },
    "language_info": {
      "name": "python"
    }
  },
  "cells": [
    {
      "cell_type": "markdown",
      "metadata": {
        "id": "view-in-github",
        "colab_type": "text"
      },
      "source": [
        "<a href=\"https://colab.research.google.com/github/HarmonyKM/sales-predictions/blob/main/Sales_Predictions.ipynb\" target=\"_parent\"><img src=\"https://colab.research.google.com/assets/colab-badge.svg\" alt=\"Open In Colab\"/></a>"
      ]
    },
    {
      "cell_type": "markdown",
      "source": [
        "# **Exploratory Data Analysis**\n",
        "\n",
        "**PROJECT 1**\n",
        "- **Harmony Gasologa**"
      ],
      "metadata": {
        "id": "kCXHlkVGjryW"
      }
    },
    {
      "cell_type": "code",
      "source": [
        "import pandas as pd\n",
        "import numpy as np\n",
        "import matplotlib.pyplot as plt\n",
        "import seaborn as sns\n",
        "filename = '/content/drive/MyDrive/sales_predictions.csv'"
      ],
      "metadata": {
        "id": "U_3K-kw-svTZ"
      },
      "execution_count": 156,
      "outputs": []
    },
    {
      "cell_type": "code",
      "source": [
        "df =pd.read_csv(filename)\n",
        "df.head()"
      ],
      "metadata": {
        "colab": {
          "base_uri": "https://localhost:8080/",
          "height": 353
        },
        "id": "1KPQV-ois6Ai",
        "outputId": "df163b46-c882-4719-aeb7-0186f973382d"
      },
      "execution_count": 157,
      "outputs": [
        {
          "output_type": "execute_result",
          "data": {
            "text/plain": [
              "  Item_Identifier  Item_Weight Item_Fat_Content  Item_Visibility  \\\n",
              "0           FDA15         9.30          Low Fat         0.016047   \n",
              "1           DRC01         5.92          Regular         0.019278   \n",
              "2           FDN15        17.50          Low Fat         0.016760   \n",
              "3           FDX07        19.20          Regular         0.000000   \n",
              "4           NCD19         8.93          Low Fat         0.000000   \n",
              "\n",
              "               Item_Type  Item_MRP Outlet_Identifier  \\\n",
              "0                  Dairy  249.8092            OUT049   \n",
              "1            Soft Drinks   48.2692            OUT018   \n",
              "2                   Meat  141.6180            OUT049   \n",
              "3  Fruits and Vegetables  182.0950            OUT010   \n",
              "4              Household   53.8614            OUT013   \n",
              "\n",
              "   Outlet_Establishment_Year Outlet_Size Outlet_Location_Type  \\\n",
              "0                       1999      Medium               Tier 1   \n",
              "1                       2009      Medium               Tier 3   \n",
              "2                       1999      Medium               Tier 1   \n",
              "3                       1998         NaN               Tier 3   \n",
              "4                       1987        High               Tier 3   \n",
              "\n",
              "         Outlet_Type  Item_Outlet_Sales  \n",
              "0  Supermarket Type1          3735.1380  \n",
              "1  Supermarket Type2           443.4228  \n",
              "2  Supermarket Type1          2097.2700  \n",
              "3      Grocery Store           732.3800  \n",
              "4  Supermarket Type1           994.7052  "
            ],
            "text/html": [
              "\n",
              "  <div id=\"df-4ecad710-2437-4185-9b85-330588c472fe\">\n",
              "    <div class=\"colab-df-container\">\n",
              "      <div>\n",
              "<style scoped>\n",
              "    .dataframe tbody tr th:only-of-type {\n",
              "        vertical-align: middle;\n",
              "    }\n",
              "\n",
              "    .dataframe tbody tr th {\n",
              "        vertical-align: top;\n",
              "    }\n",
              "\n",
              "    .dataframe thead th {\n",
              "        text-align: right;\n",
              "    }\n",
              "</style>\n",
              "<table border=\"1\" class=\"dataframe\">\n",
              "  <thead>\n",
              "    <tr style=\"text-align: right;\">\n",
              "      <th></th>\n",
              "      <th>Item_Identifier</th>\n",
              "      <th>Item_Weight</th>\n",
              "      <th>Item_Fat_Content</th>\n",
              "      <th>Item_Visibility</th>\n",
              "      <th>Item_Type</th>\n",
              "      <th>Item_MRP</th>\n",
              "      <th>Outlet_Identifier</th>\n",
              "      <th>Outlet_Establishment_Year</th>\n",
              "      <th>Outlet_Size</th>\n",
              "      <th>Outlet_Location_Type</th>\n",
              "      <th>Outlet_Type</th>\n",
              "      <th>Item_Outlet_Sales</th>\n",
              "    </tr>\n",
              "  </thead>\n",
              "  <tbody>\n",
              "    <tr>\n",
              "      <th>0</th>\n",
              "      <td>FDA15</td>\n",
              "      <td>9.30</td>\n",
              "      <td>Low Fat</td>\n",
              "      <td>0.016047</td>\n",
              "      <td>Dairy</td>\n",
              "      <td>249.8092</td>\n",
              "      <td>OUT049</td>\n",
              "      <td>1999</td>\n",
              "      <td>Medium</td>\n",
              "      <td>Tier 1</td>\n",
              "      <td>Supermarket Type1</td>\n",
              "      <td>3735.1380</td>\n",
              "    </tr>\n",
              "    <tr>\n",
              "      <th>1</th>\n",
              "      <td>DRC01</td>\n",
              "      <td>5.92</td>\n",
              "      <td>Regular</td>\n",
              "      <td>0.019278</td>\n",
              "      <td>Soft Drinks</td>\n",
              "      <td>48.2692</td>\n",
              "      <td>OUT018</td>\n",
              "      <td>2009</td>\n",
              "      <td>Medium</td>\n",
              "      <td>Tier 3</td>\n",
              "      <td>Supermarket Type2</td>\n",
              "      <td>443.4228</td>\n",
              "    </tr>\n",
              "    <tr>\n",
              "      <th>2</th>\n",
              "      <td>FDN15</td>\n",
              "      <td>17.50</td>\n",
              "      <td>Low Fat</td>\n",
              "      <td>0.016760</td>\n",
              "      <td>Meat</td>\n",
              "      <td>141.6180</td>\n",
              "      <td>OUT049</td>\n",
              "      <td>1999</td>\n",
              "      <td>Medium</td>\n",
              "      <td>Tier 1</td>\n",
              "      <td>Supermarket Type1</td>\n",
              "      <td>2097.2700</td>\n",
              "    </tr>\n",
              "    <tr>\n",
              "      <th>3</th>\n",
              "      <td>FDX07</td>\n",
              "      <td>19.20</td>\n",
              "      <td>Regular</td>\n",
              "      <td>0.000000</td>\n",
              "      <td>Fruits and Vegetables</td>\n",
              "      <td>182.0950</td>\n",
              "      <td>OUT010</td>\n",
              "      <td>1998</td>\n",
              "      <td>NaN</td>\n",
              "      <td>Tier 3</td>\n",
              "      <td>Grocery Store</td>\n",
              "      <td>732.3800</td>\n",
              "    </tr>\n",
              "    <tr>\n",
              "      <th>4</th>\n",
              "      <td>NCD19</td>\n",
              "      <td>8.93</td>\n",
              "      <td>Low Fat</td>\n",
              "      <td>0.000000</td>\n",
              "      <td>Household</td>\n",
              "      <td>53.8614</td>\n",
              "      <td>OUT013</td>\n",
              "      <td>1987</td>\n",
              "      <td>High</td>\n",
              "      <td>Tier 3</td>\n",
              "      <td>Supermarket Type1</td>\n",
              "      <td>994.7052</td>\n",
              "    </tr>\n",
              "  </tbody>\n",
              "</table>\n",
              "</div>\n",
              "      <button class=\"colab-df-convert\" onclick=\"convertToInteractive('df-4ecad710-2437-4185-9b85-330588c472fe')\"\n",
              "              title=\"Convert this dataframe to an interactive table.\"\n",
              "              style=\"display:none;\">\n",
              "        \n",
              "  <svg xmlns=\"http://www.w3.org/2000/svg\" height=\"24px\"viewBox=\"0 0 24 24\"\n",
              "       width=\"24px\">\n",
              "    <path d=\"M0 0h24v24H0V0z\" fill=\"none\"/>\n",
              "    <path d=\"M18.56 5.44l.94 2.06.94-2.06 2.06-.94-2.06-.94-.94-2.06-.94 2.06-2.06.94zm-11 1L8.5 8.5l.94-2.06 2.06-.94-2.06-.94L8.5 2.5l-.94 2.06-2.06.94zm10 10l.94 2.06.94-2.06 2.06-.94-2.06-.94-.94-2.06-.94 2.06-2.06.94z\"/><path d=\"M17.41 7.96l-1.37-1.37c-.4-.4-.92-.59-1.43-.59-.52 0-1.04.2-1.43.59L10.3 9.45l-7.72 7.72c-.78.78-.78 2.05 0 2.83L4 21.41c.39.39.9.59 1.41.59.51 0 1.02-.2 1.41-.59l7.78-7.78 2.81-2.81c.8-.78.8-2.07 0-2.86zM5.41 20L4 18.59l7.72-7.72 1.47 1.35L5.41 20z\"/>\n",
              "  </svg>\n",
              "      </button>\n",
              "      \n",
              "  <style>\n",
              "    .colab-df-container {\n",
              "      display:flex;\n",
              "      flex-wrap:wrap;\n",
              "      gap: 12px;\n",
              "    }\n",
              "\n",
              "    .colab-df-convert {\n",
              "      background-color: #E8F0FE;\n",
              "      border: none;\n",
              "      border-radius: 50%;\n",
              "      cursor: pointer;\n",
              "      display: none;\n",
              "      fill: #1967D2;\n",
              "      height: 32px;\n",
              "      padding: 0 0 0 0;\n",
              "      width: 32px;\n",
              "    }\n",
              "\n",
              "    .colab-df-convert:hover {\n",
              "      background-color: #E2EBFA;\n",
              "      box-shadow: 0px 1px 2px rgba(60, 64, 67, 0.3), 0px 1px 3px 1px rgba(60, 64, 67, 0.15);\n",
              "      fill: #174EA6;\n",
              "    }\n",
              "\n",
              "    [theme=dark] .colab-df-convert {\n",
              "      background-color: #3B4455;\n",
              "      fill: #D2E3FC;\n",
              "    }\n",
              "\n",
              "    [theme=dark] .colab-df-convert:hover {\n",
              "      background-color: #434B5C;\n",
              "      box-shadow: 0px 1px 3px 1px rgba(0, 0, 0, 0.15);\n",
              "      filter: drop-shadow(0px 1px 2px rgba(0, 0, 0, 0.3));\n",
              "      fill: #FFFFFF;\n",
              "    }\n",
              "  </style>\n",
              "\n",
              "      <script>\n",
              "        const buttonEl =\n",
              "          document.querySelector('#df-4ecad710-2437-4185-9b85-330588c472fe button.colab-df-convert');\n",
              "        buttonEl.style.display =\n",
              "          google.colab.kernel.accessAllowed ? 'block' : 'none';\n",
              "\n",
              "        async function convertToInteractive(key) {\n",
              "          const element = document.querySelector('#df-4ecad710-2437-4185-9b85-330588c472fe');\n",
              "          const dataTable =\n",
              "            await google.colab.kernel.invokeFunction('convertToInteractive',\n",
              "                                                     [key], {});\n",
              "          if (!dataTable) return;\n",
              "\n",
              "          const docLinkHtml = 'Like what you see? Visit the ' +\n",
              "            '<a target=\"_blank\" href=https://colab.research.google.com/notebooks/data_table.ipynb>data table notebook</a>'\n",
              "            + ' to learn more about interactive tables.';\n",
              "          element.innerHTML = '';\n",
              "          dataTable['output_type'] = 'display_data';\n",
              "          await google.colab.output.renderOutput(dataTable, element);\n",
              "          const docLink = document.createElement('div');\n",
              "          docLink.innerHTML = docLinkHtml;\n",
              "          element.appendChild(docLink);\n",
              "        }\n",
              "      </script>\n",
              "    </div>\n",
              "  </div>\n",
              "  "
            ]
          },
          "metadata": {},
          "execution_count": 157
        }
      ]
    },
    {
      "cell_type": "markdown",
      "source": [
        "### **1. How many rows and columns?**"
      ],
      "metadata": {
        "id": "nnrN6LbXjoGa"
      }
    },
    {
      "cell_type": "code",
      "source": [
        "#1. To find how many rows and columns, & 2.What are the datatypes \n",
        "df.info()\n",
        "\n",
        "#Output tells us we have 8523 rows and 12 columns\n",
        "\n",
        "#The output also tells us that there are 4 columns with the dtype float64, 1 column with the dtype int64 and 7 columns with the dtype object"
      ],
      "metadata": {
        "id": "xemdL5Pmh2h-",
        "outputId": "9cf04bb2-b0b6-40fb-b11c-57dd063c185f",
        "colab": {
          "base_uri": "https://localhost:8080/"
        }
      },
      "execution_count": 158,
      "outputs": [
        {
          "output_type": "stream",
          "name": "stdout",
          "text": [
            "<class 'pandas.core.frame.DataFrame'>\n",
            "RangeIndex: 8523 entries, 0 to 8522\n",
            "Data columns (total 12 columns):\n",
            " #   Column                     Non-Null Count  Dtype  \n",
            "---  ------                     --------------  -----  \n",
            " 0   Item_Identifier            8523 non-null   object \n",
            " 1   Item_Weight                7060 non-null   float64\n",
            " 2   Item_Fat_Content           8523 non-null   object \n",
            " 3   Item_Visibility            8523 non-null   float64\n",
            " 4   Item_Type                  8523 non-null   object \n",
            " 5   Item_MRP                   8523 non-null   float64\n",
            " 6   Outlet_Identifier          8523 non-null   object \n",
            " 7   Outlet_Establishment_Year  8523 non-null   int64  \n",
            " 8   Outlet_Size                6113 non-null   object \n",
            " 9   Outlet_Location_Type       8523 non-null   object \n",
            " 10  Outlet_Type                8523 non-null   object \n",
            " 11  Item_Outlet_Sales          8523 non-null   float64\n",
            "dtypes: float64(4), int64(1), object(7)\n",
            "memory usage: 799.2+ KB\n"
          ]
        }
      ]
    },
    {
      "cell_type": "markdown",
      "source": [
        "### **2. What are the datatypes of each Variable**\n",
        "\n",
        "*from the output above we have:*\n",
        "\n",
        "- 4 columns with the datatype float64\n",
        "- 1 column with the datatype int64\n",
        "- 7 columns with the datatype object"
      ],
      "metadata": {
        "id": "O7q5znB6kHEd"
      }
    },
    {
      "cell_type": "markdown",
      "source": [
        "### **3. Are there duplicates? if so, drop any duplicates**"
      ],
      "metadata": {
        "id": "GcfITCMmlRE1"
      }
    },
    {
      "cell_type": "code",
      "source": [
        "#Check for duplicates\n",
        "df.duplicated().sum()"
      ],
      "metadata": {
        "id": "fbzt0Y-akF4d",
        "outputId": "67678893-1d94-40f8-cf67-60867ba7adbb",
        "colab": {
          "base_uri": "https://localhost:8080/"
        }
      },
      "execution_count": 159,
      "outputs": [
        {
          "output_type": "execute_result",
          "data": {
            "text/plain": [
              "0"
            ]
          },
          "metadata": {},
          "execution_count": 159
        }
      ]
    },
    {
      "cell_type": "markdown",
      "source": [
        "### **4. Identify missing values**"
      ],
      "metadata": {
        "id": "J6sQQFG9l02P"
      }
    },
    {
      "cell_type": "code",
      "source": [
        "#Check for missing values\n",
        "df.isna().sum()\n",
        "\n",
        "#Output revealed Item Weight & Outlet Size have missing Values"
      ],
      "metadata": {
        "id": "E09wHJsNlkJK",
        "outputId": "71754bf4-fe0b-43b0-cd8b-fc348813cbc7",
        "colab": {
          "base_uri": "https://localhost:8080/"
        }
      },
      "execution_count": 160,
      "outputs": [
        {
          "output_type": "execute_result",
          "data": {
            "text/plain": [
              "Item_Identifier                 0\n",
              "Item_Weight                  1463\n",
              "Item_Fat_Content                0\n",
              "Item_Visibility                 0\n",
              "Item_Type                       0\n",
              "Item_MRP                        0\n",
              "Outlet_Identifier               0\n",
              "Outlet_Establishment_Year       0\n",
              "Outlet_Size                  2410\n",
              "Outlet_Location_Type            0\n",
              "Outlet_Type                     0\n",
              "Item_Outlet_Sales               0\n",
              "dtype: int64"
            ]
          },
          "metadata": {},
          "execution_count": 160
        }
      ]
    },
    {
      "cell_type": "markdown",
      "source": [
        "###**5. Decide on how to address the missing values, and do it &** \n",
        "*6. Confirm that there are no missing values after addressing them*"
      ],
      "metadata": {
        "id": "kw1_snd7nplG"
      }
    },
    {
      "cell_type": "code",
      "source": [
        "#I will replace the the missing values with the average of the Item_Weights column\n",
        "weight_mean = df['Item_Weight'].mean()\n",
        "df['Item_Weight'].fillna('weight_mean', inplace=True)\n",
        "\n",
        "#Verify change for Item_Weight column was succesful and there are no missing values\n",
        "df.isna().sum()"
      ],
      "metadata": {
        "id": "NXbEO85pmabU",
        "outputId": "af306810-82cd-4a9c-ff1f-844c39408d64",
        "colab": {
          "base_uri": "https://localhost:8080/"
        }
      },
      "execution_count": 161,
      "outputs": [
        {
          "output_type": "execute_result",
          "data": {
            "text/plain": [
              "Item_Identifier                 0\n",
              "Item_Weight                     0\n",
              "Item_Fat_Content                0\n",
              "Item_Visibility                 0\n",
              "Item_Type                       0\n",
              "Item_MRP                        0\n",
              "Outlet_Identifier               0\n",
              "Outlet_Establishment_Year       0\n",
              "Outlet_Size                  2410\n",
              "Outlet_Location_Type            0\n",
              "Outlet_Type                     0\n",
              "Item_Outlet_Sales               0\n",
              "dtype: int64"
            ]
          },
          "metadata": {},
          "execution_count": 161
        }
      ]
    },
    {
      "cell_type": "code",
      "source": [
        "#These missing values may be material and since I am not an expert I will use my judgment to replace missing values with the word 'Missing' in the Outlet_Size column.\n",
        "\n",
        "#To replace missing values with the word 'Missing'\n",
        "df['Outlet_Size'].fillna('Missing', inplace=True)\n",
        "\n",
        "#Verifying change for Outlet_Size column was successful and there are no missing values\n",
        "df.isna().sum()"
      ],
      "metadata": {
        "colab": {
          "base_uri": "https://localhost:8080/"
        },
        "id": "PKELDmf9rZ74",
        "outputId": "b0f52372-efcd-48aa-f36f-dd24a0d99fb7"
      },
      "execution_count": 162,
      "outputs": [
        {
          "output_type": "execute_result",
          "data": {
            "text/plain": [
              "Item_Identifier              0\n",
              "Item_Weight                  0\n",
              "Item_Fat_Content             0\n",
              "Item_Visibility              0\n",
              "Item_Type                    0\n",
              "Item_MRP                     0\n",
              "Outlet_Identifier            0\n",
              "Outlet_Establishment_Year    0\n",
              "Outlet_Size                  0\n",
              "Outlet_Location_Type         0\n",
              "Outlet_Type                  0\n",
              "Item_Outlet_Sales            0\n",
              "dtype: int64"
            ]
          },
          "metadata": {},
          "execution_count": 162
        }
      ]
    },
    {
      "cell_type": "code",
      "source": [
        "df['Item_Weight'].describe()\n",
        "#We have an error in the column"
      ],
      "metadata": {
        "id": "UzudNnkjyFXQ",
        "outputId": "58e7d554-dfa9-40a0-c5d5-3bafb5aad712",
        "colab": {
          "base_uri": "https://localhost:8080/"
        }
      },
      "execution_count": 163,
      "outputs": [
        {
          "output_type": "execute_result",
          "data": {
            "text/plain": [
              "count            8523\n",
              "unique            416\n",
              "top       weight_mean\n",
              "freq             1463\n",
              "Name: Item_Weight, dtype: object"
            ]
          },
          "metadata": {},
          "execution_count": 163
        }
      ]
    },
    {
      "cell_type": "markdown",
      "source": [
        "### **6. Confirm that there are no missing values after addressing them**"
      ],
      "metadata": {
        "id": "HTPBTbqZyt-m"
      }
    },
    {
      "cell_type": "code",
      "source": [
        "# Replace the incorrect value in Item Weight and try again to change the type\n",
        "df['Item_Weight'] = df['Item_Weight'].replace('weight_mean', 12.857645184135976)\n",
        "df['Item_Weight'] = df['Item_Weight'].astype(float)\n",
        "df.info()\n",
        "\n",
        "#Error has been fixed, with the Item Weight now returnins as a float64"
      ],
      "metadata": {
        "id": "t5dfIhgwyTtI",
        "outputId": "88e602e1-efab-480b-b703-03702119f7c2",
        "colab": {
          "base_uri": "https://localhost:8080/"
        }
      },
      "execution_count": 164,
      "outputs": [
        {
          "output_type": "stream",
          "name": "stdout",
          "text": [
            "<class 'pandas.core.frame.DataFrame'>\n",
            "RangeIndex: 8523 entries, 0 to 8522\n",
            "Data columns (total 12 columns):\n",
            " #   Column                     Non-Null Count  Dtype  \n",
            "---  ------                     --------------  -----  \n",
            " 0   Item_Identifier            8523 non-null   object \n",
            " 1   Item_Weight                8523 non-null   float64\n",
            " 2   Item_Fat_Content           8523 non-null   object \n",
            " 3   Item_Visibility            8523 non-null   float64\n",
            " 4   Item_Type                  8523 non-null   object \n",
            " 5   Item_MRP                   8523 non-null   float64\n",
            " 6   Outlet_Identifier          8523 non-null   object \n",
            " 7   Outlet_Establishment_Year  8523 non-null   int64  \n",
            " 8   Outlet_Size                8523 non-null   object \n",
            " 9   Outlet_Location_Type       8523 non-null   object \n",
            " 10  Outlet_Type                8523 non-null   object \n",
            " 11  Item_Outlet_Sales          8523 non-null   float64\n",
            "dtypes: float64(4), int64(1), object(7)\n",
            "memory usage: 799.2+ KB\n"
          ]
        }
      ]
    },
    {
      "cell_type": "code",
      "source": [
        "#The Outlet_Size measures the size of the store in terms of area covered and this is vital data should they expand. I will not drop but i will fill with \"Missing\"\n",
        "df['Outlet_Size'].fillna('Missing', inplace=True)\n",
        "\n",
        "#Verify change for Outlet_Size column was succesful and there are no missing values\n",
        "df.isna().sum()"
      ],
      "metadata": {
        "id": "txeZCmtct5-g",
        "outputId": "7c64fdd0-fdab-454a-8e30-8cfc00f49e77",
        "colab": {
          "base_uri": "https://localhost:8080/"
        }
      },
      "execution_count": 165,
      "outputs": [
        {
          "output_type": "execute_result",
          "data": {
            "text/plain": [
              "Item_Identifier              0\n",
              "Item_Weight                  0\n",
              "Item_Fat_Content             0\n",
              "Item_Visibility              0\n",
              "Item_Type                    0\n",
              "Item_MRP                     0\n",
              "Outlet_Identifier            0\n",
              "Outlet_Establishment_Year    0\n",
              "Outlet_Size                  0\n",
              "Outlet_Location_Type         0\n",
              "Outlet_Type                  0\n",
              "Item_Outlet_Sales            0\n",
              "dtype: int64"
            ]
          },
          "metadata": {},
          "execution_count": 165
        }
      ]
    },
    {
      "cell_type": "markdown",
      "source": [
        "### **7. Find and fix any inconsistencies**"
      ],
      "metadata": {
        "id": "irp-aGrwvaXV"
      }
    },
    {
      "cell_type": "code",
      "source": [
        "df.head(40)\n",
        "\n",
        "#Output reveals the data in the Item_Fat_Content is inconsistent"
      ],
      "metadata": {
        "id": "2btOYa7pvB5h",
        "outputId": "d511b614-6fc4-47b4-f69e-0cefd92d8285",
        "colab": {
          "base_uri": "https://localhost:8080/",
          "height": 1000
        }
      },
      "execution_count": 166,
      "outputs": [
        {
          "output_type": "execute_result",
          "data": {
            "text/plain": [
              "   Item_Identifier  Item_Weight Item_Fat_Content  Item_Visibility  \\\n",
              "0            FDA15     9.300000          Low Fat         0.016047   \n",
              "1            DRC01     5.920000          Regular         0.019278   \n",
              "2            FDN15    17.500000          Low Fat         0.016760   \n",
              "3            FDX07    19.200000          Regular         0.000000   \n",
              "4            NCD19     8.930000          Low Fat         0.000000   \n",
              "5            FDP36    10.395000          Regular         0.000000   \n",
              "6            FDO10    13.650000          Regular         0.012741   \n",
              "7            FDP10    12.857645          Low Fat         0.127470   \n",
              "8            FDH17    16.200000          Regular         0.016687   \n",
              "9            FDU28    19.200000          Regular         0.094450   \n",
              "10           FDY07    11.800000          Low Fat         0.000000   \n",
              "11           FDA03    18.500000          Regular         0.045464   \n",
              "12           FDX32    15.100000          Regular         0.100014   \n",
              "13           FDS46    17.600000          Regular         0.047257   \n",
              "14           FDF32    16.350000          Low Fat         0.068024   \n",
              "15           FDP49     9.000000          Regular         0.069089   \n",
              "16           NCB42    11.800000          Low Fat         0.008596   \n",
              "17           FDP49     9.000000          Regular         0.069196   \n",
              "18           DRI11    12.857645          Low Fat         0.034238   \n",
              "19           FDU02    13.350000          Low Fat         0.102492   \n",
              "20           FDN22    18.850000          Regular         0.138190   \n",
              "21           FDW12    12.857645          Regular         0.035400   \n",
              "22           NCB30    14.600000          Low Fat         0.025698   \n",
              "23           FDC37    12.857645          Low Fat         0.057557   \n",
              "24           FDR28    13.850000          Regular         0.025896   \n",
              "25           NCD06    13.000000          Low Fat         0.099887   \n",
              "26           FDV10     7.645000          Regular         0.066693   \n",
              "27           DRJ59    11.650000          low fat         0.019356   \n",
              "28           FDE51     5.925000          Regular         0.161467   \n",
              "29           FDC14    12.857645          Regular         0.072222   \n",
              "30           FDV38    19.250000          Low Fat         0.170349   \n",
              "31           NCS17    18.600000          Low Fat         0.080829   \n",
              "32           FDP33    18.700000          Low Fat         0.000000   \n",
              "33           FDO23    17.850000          Low Fat         0.000000   \n",
              "34           DRH01    17.500000          Low Fat         0.097904   \n",
              "35           NCX29    10.000000          Low Fat         0.089291   \n",
              "36           FDV20    12.857645          Regular         0.059512   \n",
              "37           DRZ11     8.850000          Regular         0.113124   \n",
              "38           FDX10    12.857645          Regular         0.123111   \n",
              "39           FDB34    12.857645          Low Fat         0.026481   \n",
              "\n",
              "                Item_Type  Item_MRP Outlet_Identifier  \\\n",
              "0                   Dairy  249.8092            OUT049   \n",
              "1             Soft Drinks   48.2692            OUT018   \n",
              "2                    Meat  141.6180            OUT049   \n",
              "3   Fruits and Vegetables  182.0950            OUT010   \n",
              "4               Household   53.8614            OUT013   \n",
              "5            Baking Goods   51.4008            OUT018   \n",
              "6             Snack Foods   57.6588            OUT013   \n",
              "7             Snack Foods  107.7622            OUT027   \n",
              "8            Frozen Foods   96.9726            OUT045   \n",
              "9            Frozen Foods  187.8214            OUT017   \n",
              "10  Fruits and Vegetables   45.5402            OUT049   \n",
              "11                  Dairy  144.1102            OUT046   \n",
              "12  Fruits and Vegetables  145.4786            OUT049   \n",
              "13            Snack Foods  119.6782            OUT046   \n",
              "14  Fruits and Vegetables  196.4426            OUT013   \n",
              "15              Breakfast   56.3614            OUT046   \n",
              "16     Health and Hygiene  115.3492            OUT018   \n",
              "17              Breakfast   54.3614            OUT049   \n",
              "18            Hard Drinks  113.2834            OUT027   \n",
              "19                  Dairy  230.5352            OUT035   \n",
              "20            Snack Foods  250.8724            OUT013   \n",
              "21           Baking Goods  144.5444            OUT027   \n",
              "22              Household  196.5084            OUT035   \n",
              "23           Baking Goods  107.6938            OUT019   \n",
              "24           Frozen Foods  165.0210            OUT046   \n",
              "25              Household   45.9060            OUT017   \n",
              "26            Snack Foods   42.3112            OUT035   \n",
              "27            Hard Drinks   39.1164            OUT013   \n",
              "28                  Dairy   45.5086            OUT010   \n",
              "29                 Canned   43.6454            OUT019   \n",
              "30                  Dairy   55.7956            OUT010   \n",
              "31     Health and Hygiene   96.4436            OUT018   \n",
              "32            Snack Foods  256.6672            OUT018   \n",
              "33                 Breads   93.1436            OUT045   \n",
              "34            Soft Drinks  174.8738            OUT046   \n",
              "35     Health and Hygiene  146.7102            OUT049   \n",
              "36  Fruits and Vegetables  128.0678            OUT027   \n",
              "37            Soft Drinks  122.5388            OUT018   \n",
              "38            Snack Foods   36.9874            OUT027   \n",
              "39            Snack Foods   87.6198            OUT027   \n",
              "\n",
              "    Outlet_Establishment_Year Outlet_Size Outlet_Location_Type  \\\n",
              "0                        1999      Medium               Tier 1   \n",
              "1                        2009      Medium               Tier 3   \n",
              "2                        1999      Medium               Tier 1   \n",
              "3                        1998     Missing               Tier 3   \n",
              "4                        1987        High               Tier 3   \n",
              "5                        2009      Medium               Tier 3   \n",
              "6                        1987        High               Tier 3   \n",
              "7                        1985      Medium               Tier 3   \n",
              "8                        2002     Missing               Tier 2   \n",
              "9                        2007     Missing               Tier 2   \n",
              "10                       1999      Medium               Tier 1   \n",
              "11                       1997       Small               Tier 1   \n",
              "12                       1999      Medium               Tier 1   \n",
              "13                       1997       Small               Tier 1   \n",
              "14                       1987        High               Tier 3   \n",
              "15                       1997       Small               Tier 1   \n",
              "16                       2009      Medium               Tier 3   \n",
              "17                       1999      Medium               Tier 1   \n",
              "18                       1985      Medium               Tier 3   \n",
              "19                       2004       Small               Tier 2   \n",
              "20                       1987        High               Tier 3   \n",
              "21                       1985      Medium               Tier 3   \n",
              "22                       2004       Small               Tier 2   \n",
              "23                       1985       Small               Tier 1   \n",
              "24                       1997       Small               Tier 1   \n",
              "25                       2007     Missing               Tier 2   \n",
              "26                       2004       Small               Tier 2   \n",
              "27                       1987        High               Tier 3   \n",
              "28                       1998     Missing               Tier 3   \n",
              "29                       1985       Small               Tier 1   \n",
              "30                       1998     Missing               Tier 3   \n",
              "31                       2009      Medium               Tier 3   \n",
              "32                       2009      Medium               Tier 3   \n",
              "33                       2002     Missing               Tier 2   \n",
              "34                       1997       Small               Tier 1   \n",
              "35                       1999      Medium               Tier 1   \n",
              "36                       1985      Medium               Tier 3   \n",
              "37                       2009      Medium               Tier 3   \n",
              "38                       1985      Medium               Tier 3   \n",
              "39                       1985      Medium               Tier 3   \n",
              "\n",
              "          Outlet_Type  Item_Outlet_Sales  \n",
              "0   Supermarket Type1          3735.1380  \n",
              "1   Supermarket Type2           443.4228  \n",
              "2   Supermarket Type1          2097.2700  \n",
              "3       Grocery Store           732.3800  \n",
              "4   Supermarket Type1           994.7052  \n",
              "5   Supermarket Type2           556.6088  \n",
              "6   Supermarket Type1           343.5528  \n",
              "7   Supermarket Type3          4022.7636  \n",
              "8   Supermarket Type1          1076.5986  \n",
              "9   Supermarket Type1          4710.5350  \n",
              "10  Supermarket Type1          1516.0266  \n",
              "11  Supermarket Type1          2187.1530  \n",
              "12  Supermarket Type1          1589.2646  \n",
              "13  Supermarket Type1          2145.2076  \n",
              "14  Supermarket Type1          1977.4260  \n",
              "15  Supermarket Type1          1547.3192  \n",
              "16  Supermarket Type2          1621.8888  \n",
              "17  Supermarket Type1           718.3982  \n",
              "18  Supermarket Type3          2303.6680  \n",
              "19  Supermarket Type1          2748.4224  \n",
              "20  Supermarket Type1          3775.0860  \n",
              "21  Supermarket Type3          4064.0432  \n",
              "22  Supermarket Type1          1587.2672  \n",
              "23      Grocery Store           214.3876  \n",
              "24  Supermarket Type1          4078.0250  \n",
              "25  Supermarket Type1           838.9080  \n",
              "26  Supermarket Type1          1065.2800  \n",
              "27  Supermarket Type1           308.9312  \n",
              "28      Grocery Store           178.4344  \n",
              "29      Grocery Store           125.8362  \n",
              "30      Grocery Store           163.7868  \n",
              "31  Supermarket Type2          2741.7644  \n",
              "32  Supermarket Type2          3068.0064  \n",
              "33  Supermarket Type1          2174.5028  \n",
              "34  Supermarket Type1          2085.2856  \n",
              "35  Supermarket Type1          3791.0652  \n",
              "36  Supermarket Type3          2797.6916  \n",
              "37  Supermarket Type2          1609.9044  \n",
              "38  Supermarket Type3           388.1614  \n",
              "39  Supermarket Type3          2180.4950  "
            ],
            "text/html": [
              "\n",
              "  <div id=\"df-c2dc420e-57de-4b0d-a8e6-4110a8accad4\">\n",
              "    <div class=\"colab-df-container\">\n",
              "      <div>\n",
              "<style scoped>\n",
              "    .dataframe tbody tr th:only-of-type {\n",
              "        vertical-align: middle;\n",
              "    }\n",
              "\n",
              "    .dataframe tbody tr th {\n",
              "        vertical-align: top;\n",
              "    }\n",
              "\n",
              "    .dataframe thead th {\n",
              "        text-align: right;\n",
              "    }\n",
              "</style>\n",
              "<table border=\"1\" class=\"dataframe\">\n",
              "  <thead>\n",
              "    <tr style=\"text-align: right;\">\n",
              "      <th></th>\n",
              "      <th>Item_Identifier</th>\n",
              "      <th>Item_Weight</th>\n",
              "      <th>Item_Fat_Content</th>\n",
              "      <th>Item_Visibility</th>\n",
              "      <th>Item_Type</th>\n",
              "      <th>Item_MRP</th>\n",
              "      <th>Outlet_Identifier</th>\n",
              "      <th>Outlet_Establishment_Year</th>\n",
              "      <th>Outlet_Size</th>\n",
              "      <th>Outlet_Location_Type</th>\n",
              "      <th>Outlet_Type</th>\n",
              "      <th>Item_Outlet_Sales</th>\n",
              "    </tr>\n",
              "  </thead>\n",
              "  <tbody>\n",
              "    <tr>\n",
              "      <th>0</th>\n",
              "      <td>FDA15</td>\n",
              "      <td>9.300000</td>\n",
              "      <td>Low Fat</td>\n",
              "      <td>0.016047</td>\n",
              "      <td>Dairy</td>\n",
              "      <td>249.8092</td>\n",
              "      <td>OUT049</td>\n",
              "      <td>1999</td>\n",
              "      <td>Medium</td>\n",
              "      <td>Tier 1</td>\n",
              "      <td>Supermarket Type1</td>\n",
              "      <td>3735.1380</td>\n",
              "    </tr>\n",
              "    <tr>\n",
              "      <th>1</th>\n",
              "      <td>DRC01</td>\n",
              "      <td>5.920000</td>\n",
              "      <td>Regular</td>\n",
              "      <td>0.019278</td>\n",
              "      <td>Soft Drinks</td>\n",
              "      <td>48.2692</td>\n",
              "      <td>OUT018</td>\n",
              "      <td>2009</td>\n",
              "      <td>Medium</td>\n",
              "      <td>Tier 3</td>\n",
              "      <td>Supermarket Type2</td>\n",
              "      <td>443.4228</td>\n",
              "    </tr>\n",
              "    <tr>\n",
              "      <th>2</th>\n",
              "      <td>FDN15</td>\n",
              "      <td>17.500000</td>\n",
              "      <td>Low Fat</td>\n",
              "      <td>0.016760</td>\n",
              "      <td>Meat</td>\n",
              "      <td>141.6180</td>\n",
              "      <td>OUT049</td>\n",
              "      <td>1999</td>\n",
              "      <td>Medium</td>\n",
              "      <td>Tier 1</td>\n",
              "      <td>Supermarket Type1</td>\n",
              "      <td>2097.2700</td>\n",
              "    </tr>\n",
              "    <tr>\n",
              "      <th>3</th>\n",
              "      <td>FDX07</td>\n",
              "      <td>19.200000</td>\n",
              "      <td>Regular</td>\n",
              "      <td>0.000000</td>\n",
              "      <td>Fruits and Vegetables</td>\n",
              "      <td>182.0950</td>\n",
              "      <td>OUT010</td>\n",
              "      <td>1998</td>\n",
              "      <td>Missing</td>\n",
              "      <td>Tier 3</td>\n",
              "      <td>Grocery Store</td>\n",
              "      <td>732.3800</td>\n",
              "    </tr>\n",
              "    <tr>\n",
              "      <th>4</th>\n",
              "      <td>NCD19</td>\n",
              "      <td>8.930000</td>\n",
              "      <td>Low Fat</td>\n",
              "      <td>0.000000</td>\n",
              "      <td>Household</td>\n",
              "      <td>53.8614</td>\n",
              "      <td>OUT013</td>\n",
              "      <td>1987</td>\n",
              "      <td>High</td>\n",
              "      <td>Tier 3</td>\n",
              "      <td>Supermarket Type1</td>\n",
              "      <td>994.7052</td>\n",
              "    </tr>\n",
              "    <tr>\n",
              "      <th>5</th>\n",
              "      <td>FDP36</td>\n",
              "      <td>10.395000</td>\n",
              "      <td>Regular</td>\n",
              "      <td>0.000000</td>\n",
              "      <td>Baking Goods</td>\n",
              "      <td>51.4008</td>\n",
              "      <td>OUT018</td>\n",
              "      <td>2009</td>\n",
              "      <td>Medium</td>\n",
              "      <td>Tier 3</td>\n",
              "      <td>Supermarket Type2</td>\n",
              "      <td>556.6088</td>\n",
              "    </tr>\n",
              "    <tr>\n",
              "      <th>6</th>\n",
              "      <td>FDO10</td>\n",
              "      <td>13.650000</td>\n",
              "      <td>Regular</td>\n",
              "      <td>0.012741</td>\n",
              "      <td>Snack Foods</td>\n",
              "      <td>57.6588</td>\n",
              "      <td>OUT013</td>\n",
              "      <td>1987</td>\n",
              "      <td>High</td>\n",
              "      <td>Tier 3</td>\n",
              "      <td>Supermarket Type1</td>\n",
              "      <td>343.5528</td>\n",
              "    </tr>\n",
              "    <tr>\n",
              "      <th>7</th>\n",
              "      <td>FDP10</td>\n",
              "      <td>12.857645</td>\n",
              "      <td>Low Fat</td>\n",
              "      <td>0.127470</td>\n",
              "      <td>Snack Foods</td>\n",
              "      <td>107.7622</td>\n",
              "      <td>OUT027</td>\n",
              "      <td>1985</td>\n",
              "      <td>Medium</td>\n",
              "      <td>Tier 3</td>\n",
              "      <td>Supermarket Type3</td>\n",
              "      <td>4022.7636</td>\n",
              "    </tr>\n",
              "    <tr>\n",
              "      <th>8</th>\n",
              "      <td>FDH17</td>\n",
              "      <td>16.200000</td>\n",
              "      <td>Regular</td>\n",
              "      <td>0.016687</td>\n",
              "      <td>Frozen Foods</td>\n",
              "      <td>96.9726</td>\n",
              "      <td>OUT045</td>\n",
              "      <td>2002</td>\n",
              "      <td>Missing</td>\n",
              "      <td>Tier 2</td>\n",
              "      <td>Supermarket Type1</td>\n",
              "      <td>1076.5986</td>\n",
              "    </tr>\n",
              "    <tr>\n",
              "      <th>9</th>\n",
              "      <td>FDU28</td>\n",
              "      <td>19.200000</td>\n",
              "      <td>Regular</td>\n",
              "      <td>0.094450</td>\n",
              "      <td>Frozen Foods</td>\n",
              "      <td>187.8214</td>\n",
              "      <td>OUT017</td>\n",
              "      <td>2007</td>\n",
              "      <td>Missing</td>\n",
              "      <td>Tier 2</td>\n",
              "      <td>Supermarket Type1</td>\n",
              "      <td>4710.5350</td>\n",
              "    </tr>\n",
              "    <tr>\n",
              "      <th>10</th>\n",
              "      <td>FDY07</td>\n",
              "      <td>11.800000</td>\n",
              "      <td>Low Fat</td>\n",
              "      <td>0.000000</td>\n",
              "      <td>Fruits and Vegetables</td>\n",
              "      <td>45.5402</td>\n",
              "      <td>OUT049</td>\n",
              "      <td>1999</td>\n",
              "      <td>Medium</td>\n",
              "      <td>Tier 1</td>\n",
              "      <td>Supermarket Type1</td>\n",
              "      <td>1516.0266</td>\n",
              "    </tr>\n",
              "    <tr>\n",
              "      <th>11</th>\n",
              "      <td>FDA03</td>\n",
              "      <td>18.500000</td>\n",
              "      <td>Regular</td>\n",
              "      <td>0.045464</td>\n",
              "      <td>Dairy</td>\n",
              "      <td>144.1102</td>\n",
              "      <td>OUT046</td>\n",
              "      <td>1997</td>\n",
              "      <td>Small</td>\n",
              "      <td>Tier 1</td>\n",
              "      <td>Supermarket Type1</td>\n",
              "      <td>2187.1530</td>\n",
              "    </tr>\n",
              "    <tr>\n",
              "      <th>12</th>\n",
              "      <td>FDX32</td>\n",
              "      <td>15.100000</td>\n",
              "      <td>Regular</td>\n",
              "      <td>0.100014</td>\n",
              "      <td>Fruits and Vegetables</td>\n",
              "      <td>145.4786</td>\n",
              "      <td>OUT049</td>\n",
              "      <td>1999</td>\n",
              "      <td>Medium</td>\n",
              "      <td>Tier 1</td>\n",
              "      <td>Supermarket Type1</td>\n",
              "      <td>1589.2646</td>\n",
              "    </tr>\n",
              "    <tr>\n",
              "      <th>13</th>\n",
              "      <td>FDS46</td>\n",
              "      <td>17.600000</td>\n",
              "      <td>Regular</td>\n",
              "      <td>0.047257</td>\n",
              "      <td>Snack Foods</td>\n",
              "      <td>119.6782</td>\n",
              "      <td>OUT046</td>\n",
              "      <td>1997</td>\n",
              "      <td>Small</td>\n",
              "      <td>Tier 1</td>\n",
              "      <td>Supermarket Type1</td>\n",
              "      <td>2145.2076</td>\n",
              "    </tr>\n",
              "    <tr>\n",
              "      <th>14</th>\n",
              "      <td>FDF32</td>\n",
              "      <td>16.350000</td>\n",
              "      <td>Low Fat</td>\n",
              "      <td>0.068024</td>\n",
              "      <td>Fruits and Vegetables</td>\n",
              "      <td>196.4426</td>\n",
              "      <td>OUT013</td>\n",
              "      <td>1987</td>\n",
              "      <td>High</td>\n",
              "      <td>Tier 3</td>\n",
              "      <td>Supermarket Type1</td>\n",
              "      <td>1977.4260</td>\n",
              "    </tr>\n",
              "    <tr>\n",
              "      <th>15</th>\n",
              "      <td>FDP49</td>\n",
              "      <td>9.000000</td>\n",
              "      <td>Regular</td>\n",
              "      <td>0.069089</td>\n",
              "      <td>Breakfast</td>\n",
              "      <td>56.3614</td>\n",
              "      <td>OUT046</td>\n",
              "      <td>1997</td>\n",
              "      <td>Small</td>\n",
              "      <td>Tier 1</td>\n",
              "      <td>Supermarket Type1</td>\n",
              "      <td>1547.3192</td>\n",
              "    </tr>\n",
              "    <tr>\n",
              "      <th>16</th>\n",
              "      <td>NCB42</td>\n",
              "      <td>11.800000</td>\n",
              "      <td>Low Fat</td>\n",
              "      <td>0.008596</td>\n",
              "      <td>Health and Hygiene</td>\n",
              "      <td>115.3492</td>\n",
              "      <td>OUT018</td>\n",
              "      <td>2009</td>\n",
              "      <td>Medium</td>\n",
              "      <td>Tier 3</td>\n",
              "      <td>Supermarket Type2</td>\n",
              "      <td>1621.8888</td>\n",
              "    </tr>\n",
              "    <tr>\n",
              "      <th>17</th>\n",
              "      <td>FDP49</td>\n",
              "      <td>9.000000</td>\n",
              "      <td>Regular</td>\n",
              "      <td>0.069196</td>\n",
              "      <td>Breakfast</td>\n",
              "      <td>54.3614</td>\n",
              "      <td>OUT049</td>\n",
              "      <td>1999</td>\n",
              "      <td>Medium</td>\n",
              "      <td>Tier 1</td>\n",
              "      <td>Supermarket Type1</td>\n",
              "      <td>718.3982</td>\n",
              "    </tr>\n",
              "    <tr>\n",
              "      <th>18</th>\n",
              "      <td>DRI11</td>\n",
              "      <td>12.857645</td>\n",
              "      <td>Low Fat</td>\n",
              "      <td>0.034238</td>\n",
              "      <td>Hard Drinks</td>\n",
              "      <td>113.2834</td>\n",
              "      <td>OUT027</td>\n",
              "      <td>1985</td>\n",
              "      <td>Medium</td>\n",
              "      <td>Tier 3</td>\n",
              "      <td>Supermarket Type3</td>\n",
              "      <td>2303.6680</td>\n",
              "    </tr>\n",
              "    <tr>\n",
              "      <th>19</th>\n",
              "      <td>FDU02</td>\n",
              "      <td>13.350000</td>\n",
              "      <td>Low Fat</td>\n",
              "      <td>0.102492</td>\n",
              "      <td>Dairy</td>\n",
              "      <td>230.5352</td>\n",
              "      <td>OUT035</td>\n",
              "      <td>2004</td>\n",
              "      <td>Small</td>\n",
              "      <td>Tier 2</td>\n",
              "      <td>Supermarket Type1</td>\n",
              "      <td>2748.4224</td>\n",
              "    </tr>\n",
              "    <tr>\n",
              "      <th>20</th>\n",
              "      <td>FDN22</td>\n",
              "      <td>18.850000</td>\n",
              "      <td>Regular</td>\n",
              "      <td>0.138190</td>\n",
              "      <td>Snack Foods</td>\n",
              "      <td>250.8724</td>\n",
              "      <td>OUT013</td>\n",
              "      <td>1987</td>\n",
              "      <td>High</td>\n",
              "      <td>Tier 3</td>\n",
              "      <td>Supermarket Type1</td>\n",
              "      <td>3775.0860</td>\n",
              "    </tr>\n",
              "    <tr>\n",
              "      <th>21</th>\n",
              "      <td>FDW12</td>\n",
              "      <td>12.857645</td>\n",
              "      <td>Regular</td>\n",
              "      <td>0.035400</td>\n",
              "      <td>Baking Goods</td>\n",
              "      <td>144.5444</td>\n",
              "      <td>OUT027</td>\n",
              "      <td>1985</td>\n",
              "      <td>Medium</td>\n",
              "      <td>Tier 3</td>\n",
              "      <td>Supermarket Type3</td>\n",
              "      <td>4064.0432</td>\n",
              "    </tr>\n",
              "    <tr>\n",
              "      <th>22</th>\n",
              "      <td>NCB30</td>\n",
              "      <td>14.600000</td>\n",
              "      <td>Low Fat</td>\n",
              "      <td>0.025698</td>\n",
              "      <td>Household</td>\n",
              "      <td>196.5084</td>\n",
              "      <td>OUT035</td>\n",
              "      <td>2004</td>\n",
              "      <td>Small</td>\n",
              "      <td>Tier 2</td>\n",
              "      <td>Supermarket Type1</td>\n",
              "      <td>1587.2672</td>\n",
              "    </tr>\n",
              "    <tr>\n",
              "      <th>23</th>\n",
              "      <td>FDC37</td>\n",
              "      <td>12.857645</td>\n",
              "      <td>Low Fat</td>\n",
              "      <td>0.057557</td>\n",
              "      <td>Baking Goods</td>\n",
              "      <td>107.6938</td>\n",
              "      <td>OUT019</td>\n",
              "      <td>1985</td>\n",
              "      <td>Small</td>\n",
              "      <td>Tier 1</td>\n",
              "      <td>Grocery Store</td>\n",
              "      <td>214.3876</td>\n",
              "    </tr>\n",
              "    <tr>\n",
              "      <th>24</th>\n",
              "      <td>FDR28</td>\n",
              "      <td>13.850000</td>\n",
              "      <td>Regular</td>\n",
              "      <td>0.025896</td>\n",
              "      <td>Frozen Foods</td>\n",
              "      <td>165.0210</td>\n",
              "      <td>OUT046</td>\n",
              "      <td>1997</td>\n",
              "      <td>Small</td>\n",
              "      <td>Tier 1</td>\n",
              "      <td>Supermarket Type1</td>\n",
              "      <td>4078.0250</td>\n",
              "    </tr>\n",
              "    <tr>\n",
              "      <th>25</th>\n",
              "      <td>NCD06</td>\n",
              "      <td>13.000000</td>\n",
              "      <td>Low Fat</td>\n",
              "      <td>0.099887</td>\n",
              "      <td>Household</td>\n",
              "      <td>45.9060</td>\n",
              "      <td>OUT017</td>\n",
              "      <td>2007</td>\n",
              "      <td>Missing</td>\n",
              "      <td>Tier 2</td>\n",
              "      <td>Supermarket Type1</td>\n",
              "      <td>838.9080</td>\n",
              "    </tr>\n",
              "    <tr>\n",
              "      <th>26</th>\n",
              "      <td>FDV10</td>\n",
              "      <td>7.645000</td>\n",
              "      <td>Regular</td>\n",
              "      <td>0.066693</td>\n",
              "      <td>Snack Foods</td>\n",
              "      <td>42.3112</td>\n",
              "      <td>OUT035</td>\n",
              "      <td>2004</td>\n",
              "      <td>Small</td>\n",
              "      <td>Tier 2</td>\n",
              "      <td>Supermarket Type1</td>\n",
              "      <td>1065.2800</td>\n",
              "    </tr>\n",
              "    <tr>\n",
              "      <th>27</th>\n",
              "      <td>DRJ59</td>\n",
              "      <td>11.650000</td>\n",
              "      <td>low fat</td>\n",
              "      <td>0.019356</td>\n",
              "      <td>Hard Drinks</td>\n",
              "      <td>39.1164</td>\n",
              "      <td>OUT013</td>\n",
              "      <td>1987</td>\n",
              "      <td>High</td>\n",
              "      <td>Tier 3</td>\n",
              "      <td>Supermarket Type1</td>\n",
              "      <td>308.9312</td>\n",
              "    </tr>\n",
              "    <tr>\n",
              "      <th>28</th>\n",
              "      <td>FDE51</td>\n",
              "      <td>5.925000</td>\n",
              "      <td>Regular</td>\n",
              "      <td>0.161467</td>\n",
              "      <td>Dairy</td>\n",
              "      <td>45.5086</td>\n",
              "      <td>OUT010</td>\n",
              "      <td>1998</td>\n",
              "      <td>Missing</td>\n",
              "      <td>Tier 3</td>\n",
              "      <td>Grocery Store</td>\n",
              "      <td>178.4344</td>\n",
              "    </tr>\n",
              "    <tr>\n",
              "      <th>29</th>\n",
              "      <td>FDC14</td>\n",
              "      <td>12.857645</td>\n",
              "      <td>Regular</td>\n",
              "      <td>0.072222</td>\n",
              "      <td>Canned</td>\n",
              "      <td>43.6454</td>\n",
              "      <td>OUT019</td>\n",
              "      <td>1985</td>\n",
              "      <td>Small</td>\n",
              "      <td>Tier 1</td>\n",
              "      <td>Grocery Store</td>\n",
              "      <td>125.8362</td>\n",
              "    </tr>\n",
              "    <tr>\n",
              "      <th>30</th>\n",
              "      <td>FDV38</td>\n",
              "      <td>19.250000</td>\n",
              "      <td>Low Fat</td>\n",
              "      <td>0.170349</td>\n",
              "      <td>Dairy</td>\n",
              "      <td>55.7956</td>\n",
              "      <td>OUT010</td>\n",
              "      <td>1998</td>\n",
              "      <td>Missing</td>\n",
              "      <td>Tier 3</td>\n",
              "      <td>Grocery Store</td>\n",
              "      <td>163.7868</td>\n",
              "    </tr>\n",
              "    <tr>\n",
              "      <th>31</th>\n",
              "      <td>NCS17</td>\n",
              "      <td>18.600000</td>\n",
              "      <td>Low Fat</td>\n",
              "      <td>0.080829</td>\n",
              "      <td>Health and Hygiene</td>\n",
              "      <td>96.4436</td>\n",
              "      <td>OUT018</td>\n",
              "      <td>2009</td>\n",
              "      <td>Medium</td>\n",
              "      <td>Tier 3</td>\n",
              "      <td>Supermarket Type2</td>\n",
              "      <td>2741.7644</td>\n",
              "    </tr>\n",
              "    <tr>\n",
              "      <th>32</th>\n",
              "      <td>FDP33</td>\n",
              "      <td>18.700000</td>\n",
              "      <td>Low Fat</td>\n",
              "      <td>0.000000</td>\n",
              "      <td>Snack Foods</td>\n",
              "      <td>256.6672</td>\n",
              "      <td>OUT018</td>\n",
              "      <td>2009</td>\n",
              "      <td>Medium</td>\n",
              "      <td>Tier 3</td>\n",
              "      <td>Supermarket Type2</td>\n",
              "      <td>3068.0064</td>\n",
              "    </tr>\n",
              "    <tr>\n",
              "      <th>33</th>\n",
              "      <td>FDO23</td>\n",
              "      <td>17.850000</td>\n",
              "      <td>Low Fat</td>\n",
              "      <td>0.000000</td>\n",
              "      <td>Breads</td>\n",
              "      <td>93.1436</td>\n",
              "      <td>OUT045</td>\n",
              "      <td>2002</td>\n",
              "      <td>Missing</td>\n",
              "      <td>Tier 2</td>\n",
              "      <td>Supermarket Type1</td>\n",
              "      <td>2174.5028</td>\n",
              "    </tr>\n",
              "    <tr>\n",
              "      <th>34</th>\n",
              "      <td>DRH01</td>\n",
              "      <td>17.500000</td>\n",
              "      <td>Low Fat</td>\n",
              "      <td>0.097904</td>\n",
              "      <td>Soft Drinks</td>\n",
              "      <td>174.8738</td>\n",
              "      <td>OUT046</td>\n",
              "      <td>1997</td>\n",
              "      <td>Small</td>\n",
              "      <td>Tier 1</td>\n",
              "      <td>Supermarket Type1</td>\n",
              "      <td>2085.2856</td>\n",
              "    </tr>\n",
              "    <tr>\n",
              "      <th>35</th>\n",
              "      <td>NCX29</td>\n",
              "      <td>10.000000</td>\n",
              "      <td>Low Fat</td>\n",
              "      <td>0.089291</td>\n",
              "      <td>Health and Hygiene</td>\n",
              "      <td>146.7102</td>\n",
              "      <td>OUT049</td>\n",
              "      <td>1999</td>\n",
              "      <td>Medium</td>\n",
              "      <td>Tier 1</td>\n",
              "      <td>Supermarket Type1</td>\n",
              "      <td>3791.0652</td>\n",
              "    </tr>\n",
              "    <tr>\n",
              "      <th>36</th>\n",
              "      <td>FDV20</td>\n",
              "      <td>12.857645</td>\n",
              "      <td>Regular</td>\n",
              "      <td>0.059512</td>\n",
              "      <td>Fruits and Vegetables</td>\n",
              "      <td>128.0678</td>\n",
              "      <td>OUT027</td>\n",
              "      <td>1985</td>\n",
              "      <td>Medium</td>\n",
              "      <td>Tier 3</td>\n",
              "      <td>Supermarket Type3</td>\n",
              "      <td>2797.6916</td>\n",
              "    </tr>\n",
              "    <tr>\n",
              "      <th>37</th>\n",
              "      <td>DRZ11</td>\n",
              "      <td>8.850000</td>\n",
              "      <td>Regular</td>\n",
              "      <td>0.113124</td>\n",
              "      <td>Soft Drinks</td>\n",
              "      <td>122.5388</td>\n",
              "      <td>OUT018</td>\n",
              "      <td>2009</td>\n",
              "      <td>Medium</td>\n",
              "      <td>Tier 3</td>\n",
              "      <td>Supermarket Type2</td>\n",
              "      <td>1609.9044</td>\n",
              "    </tr>\n",
              "    <tr>\n",
              "      <th>38</th>\n",
              "      <td>FDX10</td>\n",
              "      <td>12.857645</td>\n",
              "      <td>Regular</td>\n",
              "      <td>0.123111</td>\n",
              "      <td>Snack Foods</td>\n",
              "      <td>36.9874</td>\n",
              "      <td>OUT027</td>\n",
              "      <td>1985</td>\n",
              "      <td>Medium</td>\n",
              "      <td>Tier 3</td>\n",
              "      <td>Supermarket Type3</td>\n",
              "      <td>388.1614</td>\n",
              "    </tr>\n",
              "    <tr>\n",
              "      <th>39</th>\n",
              "      <td>FDB34</td>\n",
              "      <td>12.857645</td>\n",
              "      <td>Low Fat</td>\n",
              "      <td>0.026481</td>\n",
              "      <td>Snack Foods</td>\n",
              "      <td>87.6198</td>\n",
              "      <td>OUT027</td>\n",
              "      <td>1985</td>\n",
              "      <td>Medium</td>\n",
              "      <td>Tier 3</td>\n",
              "      <td>Supermarket Type3</td>\n",
              "      <td>2180.4950</td>\n",
              "    </tr>\n",
              "  </tbody>\n",
              "</table>\n",
              "</div>\n",
              "      <button class=\"colab-df-convert\" onclick=\"convertToInteractive('df-c2dc420e-57de-4b0d-a8e6-4110a8accad4')\"\n",
              "              title=\"Convert this dataframe to an interactive table.\"\n",
              "              style=\"display:none;\">\n",
              "        \n",
              "  <svg xmlns=\"http://www.w3.org/2000/svg\" height=\"24px\"viewBox=\"0 0 24 24\"\n",
              "       width=\"24px\">\n",
              "    <path d=\"M0 0h24v24H0V0z\" fill=\"none\"/>\n",
              "    <path d=\"M18.56 5.44l.94 2.06.94-2.06 2.06-.94-2.06-.94-.94-2.06-.94 2.06-2.06.94zm-11 1L8.5 8.5l.94-2.06 2.06-.94-2.06-.94L8.5 2.5l-.94 2.06-2.06.94zm10 10l.94 2.06.94-2.06 2.06-.94-2.06-.94-.94-2.06-.94 2.06-2.06.94z\"/><path d=\"M17.41 7.96l-1.37-1.37c-.4-.4-.92-.59-1.43-.59-.52 0-1.04.2-1.43.59L10.3 9.45l-7.72 7.72c-.78.78-.78 2.05 0 2.83L4 21.41c.39.39.9.59 1.41.59.51 0 1.02-.2 1.41-.59l7.78-7.78 2.81-2.81c.8-.78.8-2.07 0-2.86zM5.41 20L4 18.59l7.72-7.72 1.47 1.35L5.41 20z\"/>\n",
              "  </svg>\n",
              "      </button>\n",
              "      \n",
              "  <style>\n",
              "    .colab-df-container {\n",
              "      display:flex;\n",
              "      flex-wrap:wrap;\n",
              "      gap: 12px;\n",
              "    }\n",
              "\n",
              "    .colab-df-convert {\n",
              "      background-color: #E8F0FE;\n",
              "      border: none;\n",
              "      border-radius: 50%;\n",
              "      cursor: pointer;\n",
              "      display: none;\n",
              "      fill: #1967D2;\n",
              "      height: 32px;\n",
              "      padding: 0 0 0 0;\n",
              "      width: 32px;\n",
              "    }\n",
              "\n",
              "    .colab-df-convert:hover {\n",
              "      background-color: #E2EBFA;\n",
              "      box-shadow: 0px 1px 2px rgba(60, 64, 67, 0.3), 0px 1px 3px 1px rgba(60, 64, 67, 0.15);\n",
              "      fill: #174EA6;\n",
              "    }\n",
              "\n",
              "    [theme=dark] .colab-df-convert {\n",
              "      background-color: #3B4455;\n",
              "      fill: #D2E3FC;\n",
              "    }\n",
              "\n",
              "    [theme=dark] .colab-df-convert:hover {\n",
              "      background-color: #434B5C;\n",
              "      box-shadow: 0px 1px 3px 1px rgba(0, 0, 0, 0.15);\n",
              "      filter: drop-shadow(0px 1px 2px rgba(0, 0, 0, 0.3));\n",
              "      fill: #FFFFFF;\n",
              "    }\n",
              "  </style>\n",
              "\n",
              "      <script>\n",
              "        const buttonEl =\n",
              "          document.querySelector('#df-c2dc420e-57de-4b0d-a8e6-4110a8accad4 button.colab-df-convert');\n",
              "        buttonEl.style.display =\n",
              "          google.colab.kernel.accessAllowed ? 'block' : 'none';\n",
              "\n",
              "        async function convertToInteractive(key) {\n",
              "          const element = document.querySelector('#df-c2dc420e-57de-4b0d-a8e6-4110a8accad4');\n",
              "          const dataTable =\n",
              "            await google.colab.kernel.invokeFunction('convertToInteractive',\n",
              "                                                     [key], {});\n",
              "          if (!dataTable) return;\n",
              "\n",
              "          const docLinkHtml = 'Like what you see? Visit the ' +\n",
              "            '<a target=\"_blank\" href=https://colab.research.google.com/notebooks/data_table.ipynb>data table notebook</a>'\n",
              "            + ' to learn more about interactive tables.';\n",
              "          element.innerHTML = '';\n",
              "          dataTable['output_type'] = 'display_data';\n",
              "          await google.colab.output.renderOutput(dataTable, element);\n",
              "          const docLink = document.createElement('div');\n",
              "          docLink.innerHTML = docLinkHtml;\n",
              "          element.appendChild(docLink);\n",
              "        }\n",
              "      </script>\n",
              "    </div>\n",
              "  </div>\n",
              "  "
            ]
          },
          "metadata": {},
          "execution_count": 166
        }
      ]
    },
    {
      "cell_type": "code",
      "source": [
        "#Check the unique values and counts of the 'Item_Fat_Content' column\n",
        "df['Item_Fat_Content'].value_counts()"
      ],
      "metadata": {
        "id": "MgvoWEf1vkIv",
        "outputId": "bea30541-7dea-4eeb-f492-4dd53cc4874f",
        "colab": {
          "base_uri": "https://localhost:8080/"
        }
      },
      "execution_count": 167,
      "outputs": [
        {
          "output_type": "execute_result",
          "data": {
            "text/plain": [
              "Low Fat    5089\n",
              "Regular    2889\n",
              "LF          316\n",
              "reg         117\n",
              "low fat     112\n",
              "Name: Item_Fat_Content, dtype: int64"
            ]
          },
          "metadata": {},
          "execution_count": 167
        }
      ]
    },
    {
      "cell_type": "code",
      "source": [
        "#Fixing inconsistent categories of data LF to Low Fat\n",
        "df['Item_Fat_Content'] = df['Item_Fat_Content'].replace('LF', 'Low Fat')\n",
        "df['Item_Fat_Content'].value_counts()"
      ],
      "metadata": {
        "id": "LAQiF3uBxEPr",
        "outputId": "9107dbc6-d1c4-4b90-dc70-9434258c46ad",
        "colab": {
          "base_uri": "https://localhost:8080/"
        }
      },
      "execution_count": 168,
      "outputs": [
        {
          "output_type": "execute_result",
          "data": {
            "text/plain": [
              "Low Fat    5405\n",
              "Regular    2889\n",
              "reg         117\n",
              "low fat     112\n",
              "Name: Item_Fat_Content, dtype: int64"
            ]
          },
          "metadata": {},
          "execution_count": 168
        }
      ]
    },
    {
      "cell_type": "code",
      "source": [
        "#Fixing inconsistent categories of data low fat to Low Fat\n",
        "df['Item_Fat_Content'] = df['Item_Fat_Content'].replace('low fat', 'Low Fat')\n",
        "df['Item_Fat_Content'].value_counts()"
      ],
      "metadata": {
        "id": "pXbR2lFBxgu9",
        "outputId": "17a887ff-611c-467b-e7e6-228ad85fc654",
        "colab": {
          "base_uri": "https://localhost:8080/"
        }
      },
      "execution_count": 169,
      "outputs": [
        {
          "output_type": "execute_result",
          "data": {
            "text/plain": [
              "Low Fat    5517\n",
              "Regular    2889\n",
              "reg         117\n",
              "Name: Item_Fat_Content, dtype: int64"
            ]
          },
          "metadata": {},
          "execution_count": 169
        }
      ]
    },
    {
      "cell_type": "code",
      "source": [
        "#Fixing inconsistent categories of data reg to Regular\n",
        "df['Item_Fat_Content'] = df['Item_Fat_Content'].replace('reg', 'Regular')\n",
        "df['Item_Fat_Content'].value_counts()"
      ],
      "metadata": {
        "id": "WsD5B3Lvx5mu",
        "outputId": "328c1502-07fb-41db-ea03-a6d57a6f9d63",
        "colab": {
          "base_uri": "https://localhost:8080/"
        }
      },
      "execution_count": 170,
      "outputs": [
        {
          "output_type": "execute_result",
          "data": {
            "text/plain": [
              "Low Fat    5517\n",
              "Regular    3006\n",
              "Name: Item_Fat_Content, dtype: int64"
            ]
          },
          "metadata": {},
          "execution_count": 170
        }
      ]
    },
    {
      "cell_type": "markdown",
      "source": [
        "### **8. For any numerical columns, obtain the summary statistics of each**"
      ],
      "metadata": {
        "id": "TX2sX83Oysw4"
      }
    },
    {
      "cell_type": "code",
      "source": [
        "#To show summary statistics for each column, limiting to 2 decimal places\n",
        "df.describe().round(2)"
      ],
      "metadata": {
        "id": "w_3VqKU3yLem",
        "outputId": "89cfdfed-603a-422c-a106-8abb0f06595f",
        "colab": {
          "base_uri": "https://localhost:8080/",
          "height": 297
        }
      },
      "execution_count": 171,
      "outputs": [
        {
          "output_type": "execute_result",
          "data": {
            "text/plain": [
              "       Item_Weight  Item_Visibility  Item_MRP  Outlet_Establishment_Year  \\\n",
              "count      8523.00          8523.00   8523.00                    8523.00   \n",
              "mean         12.86             0.07    140.99                    1997.83   \n",
              "std           4.23             0.05     62.28                       8.37   \n",
              "min           4.56             0.00     31.29                    1985.00   \n",
              "25%           9.31             0.03     93.83                    1987.00   \n",
              "50%          12.86             0.05    143.01                    1999.00   \n",
              "75%          16.00             0.09    185.64                    2004.00   \n",
              "max          21.35             0.33    266.89                    2009.00   \n",
              "\n",
              "       Item_Outlet_Sales  \n",
              "count            8523.00  \n",
              "mean             2181.29  \n",
              "std              1706.50  \n",
              "min                33.29  \n",
              "25%               834.25  \n",
              "50%              1794.33  \n",
              "75%              3101.30  \n",
              "max             13086.96  "
            ],
            "text/html": [
              "\n",
              "  <div id=\"df-6fc448b2-9986-40ad-8a2a-7a8296bc06f0\">\n",
              "    <div class=\"colab-df-container\">\n",
              "      <div>\n",
              "<style scoped>\n",
              "    .dataframe tbody tr th:only-of-type {\n",
              "        vertical-align: middle;\n",
              "    }\n",
              "\n",
              "    .dataframe tbody tr th {\n",
              "        vertical-align: top;\n",
              "    }\n",
              "\n",
              "    .dataframe thead th {\n",
              "        text-align: right;\n",
              "    }\n",
              "</style>\n",
              "<table border=\"1\" class=\"dataframe\">\n",
              "  <thead>\n",
              "    <tr style=\"text-align: right;\">\n",
              "      <th></th>\n",
              "      <th>Item_Weight</th>\n",
              "      <th>Item_Visibility</th>\n",
              "      <th>Item_MRP</th>\n",
              "      <th>Outlet_Establishment_Year</th>\n",
              "      <th>Item_Outlet_Sales</th>\n",
              "    </tr>\n",
              "  </thead>\n",
              "  <tbody>\n",
              "    <tr>\n",
              "      <th>count</th>\n",
              "      <td>8523.00</td>\n",
              "      <td>8523.00</td>\n",
              "      <td>8523.00</td>\n",
              "      <td>8523.00</td>\n",
              "      <td>8523.00</td>\n",
              "    </tr>\n",
              "    <tr>\n",
              "      <th>mean</th>\n",
              "      <td>12.86</td>\n",
              "      <td>0.07</td>\n",
              "      <td>140.99</td>\n",
              "      <td>1997.83</td>\n",
              "      <td>2181.29</td>\n",
              "    </tr>\n",
              "    <tr>\n",
              "      <th>std</th>\n",
              "      <td>4.23</td>\n",
              "      <td>0.05</td>\n",
              "      <td>62.28</td>\n",
              "      <td>8.37</td>\n",
              "      <td>1706.50</td>\n",
              "    </tr>\n",
              "    <tr>\n",
              "      <th>min</th>\n",
              "      <td>4.56</td>\n",
              "      <td>0.00</td>\n",
              "      <td>31.29</td>\n",
              "      <td>1985.00</td>\n",
              "      <td>33.29</td>\n",
              "    </tr>\n",
              "    <tr>\n",
              "      <th>25%</th>\n",
              "      <td>9.31</td>\n",
              "      <td>0.03</td>\n",
              "      <td>93.83</td>\n",
              "      <td>1987.00</td>\n",
              "      <td>834.25</td>\n",
              "    </tr>\n",
              "    <tr>\n",
              "      <th>50%</th>\n",
              "      <td>12.86</td>\n",
              "      <td>0.05</td>\n",
              "      <td>143.01</td>\n",
              "      <td>1999.00</td>\n",
              "      <td>1794.33</td>\n",
              "    </tr>\n",
              "    <tr>\n",
              "      <th>75%</th>\n",
              "      <td>16.00</td>\n",
              "      <td>0.09</td>\n",
              "      <td>185.64</td>\n",
              "      <td>2004.00</td>\n",
              "      <td>3101.30</td>\n",
              "    </tr>\n",
              "    <tr>\n",
              "      <th>max</th>\n",
              "      <td>21.35</td>\n",
              "      <td>0.33</td>\n",
              "      <td>266.89</td>\n",
              "      <td>2009.00</td>\n",
              "      <td>13086.96</td>\n",
              "    </tr>\n",
              "  </tbody>\n",
              "</table>\n",
              "</div>\n",
              "      <button class=\"colab-df-convert\" onclick=\"convertToInteractive('df-6fc448b2-9986-40ad-8a2a-7a8296bc06f0')\"\n",
              "              title=\"Convert this dataframe to an interactive table.\"\n",
              "              style=\"display:none;\">\n",
              "        \n",
              "  <svg xmlns=\"http://www.w3.org/2000/svg\" height=\"24px\"viewBox=\"0 0 24 24\"\n",
              "       width=\"24px\">\n",
              "    <path d=\"M0 0h24v24H0V0z\" fill=\"none\"/>\n",
              "    <path d=\"M18.56 5.44l.94 2.06.94-2.06 2.06-.94-2.06-.94-.94-2.06-.94 2.06-2.06.94zm-11 1L8.5 8.5l.94-2.06 2.06-.94-2.06-.94L8.5 2.5l-.94 2.06-2.06.94zm10 10l.94 2.06.94-2.06 2.06-.94-2.06-.94-.94-2.06-.94 2.06-2.06.94z\"/><path d=\"M17.41 7.96l-1.37-1.37c-.4-.4-.92-.59-1.43-.59-.52 0-1.04.2-1.43.59L10.3 9.45l-7.72 7.72c-.78.78-.78 2.05 0 2.83L4 21.41c.39.39.9.59 1.41.59.51 0 1.02-.2 1.41-.59l7.78-7.78 2.81-2.81c.8-.78.8-2.07 0-2.86zM5.41 20L4 18.59l7.72-7.72 1.47 1.35L5.41 20z\"/>\n",
              "  </svg>\n",
              "      </button>\n",
              "      \n",
              "  <style>\n",
              "    .colab-df-container {\n",
              "      display:flex;\n",
              "      flex-wrap:wrap;\n",
              "      gap: 12px;\n",
              "    }\n",
              "\n",
              "    .colab-df-convert {\n",
              "      background-color: #E8F0FE;\n",
              "      border: none;\n",
              "      border-radius: 50%;\n",
              "      cursor: pointer;\n",
              "      display: none;\n",
              "      fill: #1967D2;\n",
              "      height: 32px;\n",
              "      padding: 0 0 0 0;\n",
              "      width: 32px;\n",
              "    }\n",
              "\n",
              "    .colab-df-convert:hover {\n",
              "      background-color: #E2EBFA;\n",
              "      box-shadow: 0px 1px 2px rgba(60, 64, 67, 0.3), 0px 1px 3px 1px rgba(60, 64, 67, 0.15);\n",
              "      fill: #174EA6;\n",
              "    }\n",
              "\n",
              "    [theme=dark] .colab-df-convert {\n",
              "      background-color: #3B4455;\n",
              "      fill: #D2E3FC;\n",
              "    }\n",
              "\n",
              "    [theme=dark] .colab-df-convert:hover {\n",
              "      background-color: #434B5C;\n",
              "      box-shadow: 0px 1px 3px 1px rgba(0, 0, 0, 0.15);\n",
              "      filter: drop-shadow(0px 1px 2px rgba(0, 0, 0, 0.3));\n",
              "      fill: #FFFFFF;\n",
              "    }\n",
              "  </style>\n",
              "\n",
              "      <script>\n",
              "        const buttonEl =\n",
              "          document.querySelector('#df-6fc448b2-9986-40ad-8a2a-7a8296bc06f0 button.colab-df-convert');\n",
              "        buttonEl.style.display =\n",
              "          google.colab.kernel.accessAllowed ? 'block' : 'none';\n",
              "\n",
              "        async function convertToInteractive(key) {\n",
              "          const element = document.querySelector('#df-6fc448b2-9986-40ad-8a2a-7a8296bc06f0');\n",
              "          const dataTable =\n",
              "            await google.colab.kernel.invokeFunction('convertToInteractive',\n",
              "                                                     [key], {});\n",
              "          if (!dataTable) return;\n",
              "\n",
              "          const docLinkHtml = 'Like what you see? Visit the ' +\n",
              "            '<a target=\"_blank\" href=https://colab.research.google.com/notebooks/data_table.ipynb>data table notebook</a>'\n",
              "            + ' to learn more about interactive tables.';\n",
              "          element.innerHTML = '';\n",
              "          dataTable['output_type'] = 'display_data';\n",
              "          await google.colab.output.renderOutput(dataTable, element);\n",
              "          const docLink = document.createElement('div');\n",
              "          docLink.innerHTML = docLinkHtml;\n",
              "          element.appendChild(docLink);\n",
              "        }\n",
              "      </script>\n",
              "    </div>\n",
              "  </div>\n",
              "  "
            ]
          },
          "metadata": {},
          "execution_count": 171
        }
      ]
    },
    {
      "cell_type": "markdown",
      "source": [
        "# **Part 3**\n",
        "\n",
        "- **Histogram, Boxplot & Heatmap**"
      ],
      "metadata": {
        "id": "egUjIv1cynZb"
      }
    },
    {
      "cell_type": "markdown",
      "source": [
        "## **Histograms**"
      ],
      "metadata": {
        "id": "NTUzqdW3yszw"
      }
    },
    {
      "cell_type": "code",
      "source": [
        "#To plot a Histogram of the Item Weight\n",
        "\n",
        "df['Item_Weight'].hist(bins = 'auto', color = 'red', edgecolor = 'black', label = 'Weight');\n",
        "plt.title('Item Weight Distribution', fontsize = 20)\n",
        "plt.xlabel('Item Weight', fontsize = 15);\n",
        "plt.ylabel('Count', fontsize = 15);\n",
        "plt.legend();"
      ],
      "metadata": {
        "id": "Mayr7CmazJpw",
        "colab": {
          "base_uri": "https://localhost:8080/",
          "height": 305
        },
        "outputId": "5f8091c4-9056-4ed4-c155-fa0cf3370814"
      },
      "execution_count": 172,
      "outputs": [
        {
          "output_type": "display_data",
          "data": {
            "text/plain": [
              "<Figure size 432x288 with 1 Axes>"
            ],
            "image/png": "[encoded data removed]"
          },
          "metadata": {}
        }
      ]
    },
    {
      "cell_type": "markdown",
      "source": [
        "**The histogram tells us that the Items that have a weight of 12.5 are the highest percentage of the total count**"
      ],
      "metadata": {
        "id": "hB2N8_D2sQ6v"
      }
    },
    {
      "cell_type": "code",
      "source": [
        "plt.style.use('dark_background')\n",
        "df['Item_Visibility'].hist(color = 'blue',\n",
        "                     bins = 'auto',\n",
        "                     edgecolor = 'black',\n",
        "                     label = 'Visibility',\n",
        "                     alpha = 0.6);                           \n",
        "plt.title('Item Visibility', fontsize = 20);\n",
        "plt.xlabel('Item Visibility', fontsize = 15);\n",
        "plt.ylabel('Count', fontsize = 15);\n",
        "plt.xticks(rotation = 45);\n",
        "plt.legend();"
      ],
      "metadata": {
        "id": "l5R0-YO7y0Dy",
        "outputId": "aa87e77a-7638-400b-c704-5ad68de0203c",
        "colab": {
          "base_uri": "https://localhost:8080/",
          "height": 318
        }
      },
      "execution_count": 173,
      "outputs": [
        {
          "output_type": "display_data",
          "data": {
            "text/plain": [
              "<Figure size 432x288 with 1 Axes>"
            ],
            "image/png": "[encoded data removed]"
          },
          "metadata": {}
        }
      ]
    },
    {
      "cell_type": "markdown",
      "source": [
        "## **Boxplot**"
      ],
      "metadata": {
        "id": "dg2cHwROy5Yw"
      }
    },
    {
      "cell_type": "markdown",
      "source": [
        "**To plot 2 different multivariate graphs showing the relationship between some of the columns(Outlet Type, Outlet Sales & MRP)**"
      ],
      "metadata": {
        "id": "FZL131putOFa"
      }
    },
    {
      "cell_type": "code",
      "source": [
        "from IPython.core.pylabtools import figsize\n",
        "mrp= df['Item_MRP']\n",
        "sales = df['Item_Outlet_Sales']\n",
        "fig,axes = plt.subplots(nrows=1,ncols=1, figsize=(10,10) )\n",
        "boxplots = axes.boxplot([mrp, sales], notch= True,labels = ['MRP','Outlet Sales'],\n",
        "             widths = .5,\n",
        "             patch_artist = True,\n",
        "             medianprops = dict(linestyle = '-',linewidth = 1, color = 'red'),\n",
        "             boxprops = dict(linestyle = '--', linewidth = 1, color = 'black'));"
      ],
      "metadata": {
        "id": "Ar4VufGpy7Mh",
        "outputId": "b52e937f-ee01-42a6-cced-76a1b5390b10",
        "colab": {
          "base_uri": "https://localhost:8080/",
          "height": 592
        }
      },
      "execution_count": 174,
      "outputs": [
        {
          "output_type": "display_data",
          "data": {
            "text/plain": [
              "<Figure size 720x720 with 1 Axes>"
            ],
            "image/png": "[encoded data removed]"
          },
          "metadata": {}
        }
      ]
    },
    {
      "cell_type": "markdown",
      "source": [
        "**This boxplot shows that the different outlet types buy products at a very low cost and sell for High margins**"
      ],
      "metadata": {
        "id": "u4GC2_ysuhhQ"
      }
    },
    {
      "cell_type": "code",
      "source": [
        "# To plot a boxplot graph of Item MRP and Item Outlet Sales\n",
        "fig, axes = plt.subplots(nrows = 1, ncols = 1, figsize = (8,5))\n",
        "MRP = df['Item_MRP']\n",
        "SALES = df['Item_Outlet_Sales']\n",
        "boxplots = axes.boxplot([SALES, MRP],\n",
        "                        notch = True,\n",
        "                        labels = ['SALES', 'MRP'],\n",
        "                        widths = .7,\n",
        "                        patch_artist = True,\n",
        "                        medianprops = dict(linestyle='-', linewidth=2, color='Yellow'),\n",
        "                        boxprops = dict(linestyle= '--', linewidth=2, color='black', facecolor = 'blue', alpha = .4));"
      ],
      "metadata": {
        "id": "R6WS6dZBy_sC",
        "outputId": "b6648a9f-16b0-4ff0-e666-2ec65dd6823d",
        "colab": {
          "base_uri": "https://localhost:8080/",
          "height": 320
        }
      },
      "execution_count": 175,
      "outputs": [
        {
          "output_type": "display_data",
          "data": {
            "text/plain": [
              "<Figure size 576x360 with 1 Axes>"
            ],
            "image/png": "[encoded data removed]"
          },
          "metadata": {}
        }
      ]
    },
    {
      "cell_type": "code",
      "source": [
        "#To plot a boxplot graph of Outlet Type and Item Outlet Sales\n",
        "import seaborn as sns\n",
        "sns.boxplot(x='Outlet_Type', y='Item_Outlet_Sales', data=df)\n",
        "plt.xticks(rotation = 45)"
      ],
      "metadata": {
        "colab": {
          "base_uri": "https://localhost:8080/",
          "height": 363
        },
        "id": "oC4MZ4tLuSu4",
        "outputId": "ab8b202e-cc38-4ffd-abb2-78830ce4ba10"
      },
      "execution_count": 176,
      "outputs": [
        {
          "output_type": "execute_result",
          "data": {
            "text/plain": [
              "(array([0, 1, 2, 3]), <a list of 4 Text major ticklabel objects>)"
            ]
          },
          "metadata": {},
          "execution_count": 176
        },
        {
          "output_type": "display_data",
          "data": {
            "text/plain": [
              "<Figure size 432x288 with 1 Axes>"
            ],
            "image/png": "[encoded data removed]"
          },
          "metadata": {}
        }
      ]
    },
    {
      "cell_type": "markdown",
      "source": [
        "**The boxplot graph of Outlet Type and Item Outlet Sales shows that each of the Supermarket Outlet Types have greater sales than the Grocery Store.**"
      ],
      "metadata": {
        "id": "yCvTv3fvuZtx"
      }
    },
    {
      "cell_type": "code",
      "source": [
        "from traitlets.traitlets import Type\n",
        "plt.style.use('seaborn-bright')\n",
        "sns.lineplot(x='Outlet_Type',y='Item_Outlet_Sales',data=df,label=f'OutletSales');\n",
        "plt.xlabel('OutletType');\n",
        "plt.ylabel('OutletSale');\n",
        "plt.xticks(rotation=40);\n",
        "plt.legend();"
      ],
      "metadata": {
        "id": "ggzLpcyszFBj",
        "outputId": "8c1699b2-1edb-4e1d-f9b9-9b04f65dea2b",
        "colab": {
          "base_uri": "https://localhost:8080/",
          "height": 343
        }
      },
      "execution_count": 177,
      "outputs": [
        {
          "output_type": "display_data",
          "data": {
            "text/plain": [
              "<Figure size 432x288 with 1 Axes>"
            ],
            "image/png": "[encoded data removed]"
          },
          "metadata": {}
        }
      ]
    },
    {
      "cell_type": "markdown",
      "source": [
        "## **Heatmaps**\n",
        "\n",
        "- *Correaltion between features*"
      ],
      "metadata": {
        "id": "5WZnwPpIzHsC"
      }
    },
    {
      "cell_type": "code",
      "source": [
        "import seaborn as sns\n",
        "corr=df.corr()\n",
        "sns.heatmap(corr, cmap = 'Greens');"
      ],
      "metadata": {
        "id": "pFpZGmImzK-J",
        "outputId": "ccd082fc-3426-4cbe-cd04-fd4ecf0bc463",
        "colab": {
          "base_uri": "https://localhost:8080/",
          "height": 392
        }
      },
      "execution_count": 178,
      "outputs": [
        {
          "output_type": "display_data",
          "data": {
            "text/plain": [
              "<Figure size 432x288 with 2 Axes>"
            ],
            "image/png": "[encoded data removed]"
          },
          "metadata": {}
        }
      ]
    },
    {
      "cell_type": "code",
      "source": [
        "sns.heatmap(corr, cmap = 'Greens', annot = True);"
      ],
      "metadata": {
        "id": "eAYiO2I5zRAw",
        "outputId": "86400cc6-3993-4a6f-af17-a97393fe078f",
        "colab": {
          "base_uri": "https://localhost:8080/",
          "height": 392
        }
      },
      "execution_count": 179,
      "outputs": [
        {
          "output_type": "display_data",
          "data": {
            "text/plain": [
              "<Figure size 432x288 with 2 Axes>"
            ],
            "image/png": "[encoded data removed]"
          },
          "metadata": {}
        }
      ]
    },
    {
      "cell_type": "markdown",
      "source": [
        "### **This heat map tells us that there is a moderate correlation between Item Outlet Sales and Item MRP**"
      ],
      "metadata": {
        "id": "LQ3LtsbTqQF4"
      }
    },
    {
      "cell_type": "markdown",
      "source": [
        "# **Part 4**"
      ],
      "metadata": {
        "id": "0qrtP5CwwBY4"
      }
    },
    {
      "cell_type": "markdown",
      "source": [
        "### **To create two more visualizations to show the distribution of Outlet Sales per Outlet Type**"
      ],
      "metadata": {
        "id": "SCViKOsqwD95"
      }
    },
    {
      "cell_type": "code",
      "source": [
        "# Creating a variable to summarize the visualization I am creating\n",
        "Sales_per_outlet_type = df.groupby(['Outlet_Type'])['Item_Outlet_Sales']"
      ],
      "metadata": {
        "id": "fsB6xBKZwIwC"
      },
      "execution_count": 180,
      "outputs": []
    },
    {
      "cell_type": "code",
      "source": [
        "Sales_per_outlet_type.describe()"
      ],
      "metadata": {
        "colab": {
          "base_uri": "https://localhost:8080/",
          "height": 204
        },
        "id": "-YhQyNmOwUdf",
        "outputId": "402f07db-67be-4ef9-fef4-1df4f003a3cb"
      },
      "execution_count": 181,
      "outputs": [
        {
          "output_type": "execute_result",
          "data": {
            "text/plain": [
              "                    count         mean          std       min         25%  \\\n",
              "Outlet_Type                                                                 \n",
              "Grocery Store      1083.0   339.828500   260.851582   33.2900   153.79980   \n",
              "Supermarket Type1  5577.0  2316.181148  1515.965558   73.2380  1151.16820   \n",
              "Supermarket Type2   928.0  1995.498739  1375.932889   69.2432   981.55565   \n",
              "Supermarket Type3   935.0  3694.038558  2127.760054  241.6854  2044.33890   \n",
              "\n",
              "                         50%         75%         max  \n",
              "Outlet_Type                                           \n",
              "Grocery Store       256.9988   458.73620   1775.6886  \n",
              "Supermarket Type1  1990.7420  3135.91800  10256.6490  \n",
              "Supermarket Type2  1655.1788  2702.64865   6768.5228  \n",
              "Supermarket Type3  3364.9532  4975.52340  13086.9648  "
            ],
            "text/html": [
              "\n",
              "  <div id=\"df-96b96386-794b-4794-8a6e-2c6ddcb4709e\">\n",
              "    <div class=\"colab-df-container\">\n",
              "      <div>\n",
              "<style scoped>\n",
              "    .dataframe tbody tr th:only-of-type {\n",
              "        vertical-align: middle;\n",
              "    }\n",
              "\n",
              "    .dataframe tbody tr th {\n",
              "        vertical-align: top;\n",
              "    }\n",
              "\n",
              "    .dataframe thead th {\n",
              "        text-align: right;\n",
              "    }\n",
              "</style>\n",
              "<table border=\"1\" class=\"dataframe\">\n",
              "  <thead>\n",
              "    <tr style=\"text-align: right;\">\n",
              "      <th></th>\n",
              "      <th>count</th>\n",
              "      <th>mean</th>\n",
              "      <th>std</th>\n",
              "      <th>min</th>\n",
              "      <th>25%</th>\n",
              "      <th>50%</th>\n",
              "      <th>75%</th>\n",
              "      <th>max</th>\n",
              "    </tr>\n",
              "    <tr>\n",
              "      <th>Outlet_Type</th>\n",
              "      <th></th>\n",
              "      <th></th>\n",
              "      <th></th>\n",
              "      <th></th>\n",
              "      <th></th>\n",
              "      <th></th>\n",
              "      <th></th>\n",
              "      <th></th>\n",
              "    </tr>\n",
              "  </thead>\n",
              "  <tbody>\n",
              "    <tr>\n",
              "      <th>Grocery Store</th>\n",
              "      <td>1083.0</td>\n",
              "      <td>339.828500</td>\n",
              "      <td>260.851582</td>\n",
              "      <td>33.2900</td>\n",
              "      <td>153.79980</td>\n",
              "      <td>256.9988</td>\n",
              "      <td>458.73620</td>\n",
              "      <td>1775.6886</td>\n",
              "    </tr>\n",
              "    <tr>\n",
              "      <th>Supermarket Type1</th>\n",
              "      <td>5577.0</td>\n",
              "      <td>2316.181148</td>\n",
              "      <td>1515.965558</td>\n",
              "      <td>73.2380</td>\n",
              "      <td>1151.16820</td>\n",
              "      <td>1990.7420</td>\n",
              "      <td>3135.91800</td>\n",
              "      <td>10256.6490</td>\n",
              "    </tr>\n",
              "    <tr>\n",
              "      <th>Supermarket Type2</th>\n",
              "      <td>928.0</td>\n",
              "      <td>1995.498739</td>\n",
              "      <td>1375.932889</td>\n",
              "      <td>69.2432</td>\n",
              "      <td>981.55565</td>\n",
              "      <td>1655.1788</td>\n",
              "      <td>2702.64865</td>\n",
              "      <td>6768.5228</td>\n",
              "    </tr>\n",
              "    <tr>\n",
              "      <th>Supermarket Type3</th>\n",
              "      <td>935.0</td>\n",
              "      <td>3694.038558</td>\n",
              "      <td>2127.760054</td>\n",
              "      <td>241.6854</td>\n",
              "      <td>2044.33890</td>\n",
              "      <td>3364.9532</td>\n",
              "      <td>4975.52340</td>\n",
              "      <td>13086.9648</td>\n",
              "    </tr>\n",
              "  </tbody>\n",
              "</table>\n",
              "</div>\n",
              "      <button class=\"colab-df-convert\" onclick=\"convertToInteractive('df-96b96386-794b-4794-8a6e-2c6ddcb4709e')\"\n",
              "              title=\"Convert this dataframe to an interactive table.\"\n",
              "              style=\"display:none;\">\n",
              "        \n",
              "  <svg xmlns=\"http://www.w3.org/2000/svg\" height=\"24px\"viewBox=\"0 0 24 24\"\n",
              "       width=\"24px\">\n",
              "    <path d=\"M0 0h24v24H0V0z\" fill=\"none\"/>\n",
              "    <path d=\"M18.56 5.44l.94 2.06.94-2.06 2.06-.94-2.06-.94-.94-2.06-.94 2.06-2.06.94zm-11 1L8.5 8.5l.94-2.06 2.06-.94-2.06-.94L8.5 2.5l-.94 2.06-2.06.94zm10 10l.94 2.06.94-2.06 2.06-.94-2.06-.94-.94-2.06-.94 2.06-2.06.94z\"/><path d=\"M17.41 7.96l-1.37-1.37c-.4-.4-.92-.59-1.43-.59-.52 0-1.04.2-1.43.59L10.3 9.45l-7.72 7.72c-.78.78-.78 2.05 0 2.83L4 21.41c.39.39.9.59 1.41.59.51 0 1.02-.2 1.41-.59l7.78-7.78 2.81-2.81c.8-.78.8-2.07 0-2.86zM5.41 20L4 18.59l7.72-7.72 1.47 1.35L5.41 20z\"/>\n",
              "  </svg>\n",
              "      </button>\n",
              "      \n",
              "  <style>\n",
              "    .colab-df-container {\n",
              "      display:flex;\n",
              "      flex-wrap:wrap;\n",
              "      gap: 12px;\n",
              "    }\n",
              "\n",
              "    .colab-df-convert {\n",
              "      background-color: #E8F0FE;\n",
              "      border: none;\n",
              "      border-radius: 50%;\n",
              "      cursor: pointer;\n",
              "      display: none;\n",
              "      fill: #1967D2;\n",
              "      height: 32px;\n",
              "      padding: 0 0 0 0;\n",
              "      width: 32px;\n",
              "    }\n",
              "\n",
              "    .colab-df-convert:hover {\n",
              "      background-color: #E2EBFA;\n",
              "      box-shadow: 0px 1px 2px rgba(60, 64, 67, 0.3), 0px 1px 3px 1px rgba(60, 64, 67, 0.15);\n",
              "      fill: #174EA6;\n",
              "    }\n",
              "\n",
              "    [theme=dark] .colab-df-convert {\n",
              "      background-color: #3B4455;\n",
              "      fill: #D2E3FC;\n",
              "    }\n",
              "\n",
              "    [theme=dark] .colab-df-convert:hover {\n",
              "      background-color: #434B5C;\n",
              "      box-shadow: 0px 1px 3px 1px rgba(0, 0, 0, 0.15);\n",
              "      filter: drop-shadow(0px 1px 2px rgba(0, 0, 0, 0.3));\n",
              "      fill: #FFFFFF;\n",
              "    }\n",
              "  </style>\n",
              "\n",
              "      <script>\n",
              "        const buttonEl =\n",
              "          document.querySelector('#df-96b96386-794b-4794-8a6e-2c6ddcb4709e button.colab-df-convert');\n",
              "        buttonEl.style.display =\n",
              "          google.colab.kernel.accessAllowed ? 'block' : 'none';\n",
              "\n",
              "        async function convertToInteractive(key) {\n",
              "          const element = document.querySelector('#df-96b96386-794b-4794-8a6e-2c6ddcb4709e');\n",
              "          const dataTable =\n",
              "            await google.colab.kernel.invokeFunction('convertToInteractive',\n",
              "                                                     [key], {});\n",
              "          if (!dataTable) return;\n",
              "\n",
              "          const docLinkHtml = 'Like what you see? Visit the ' +\n",
              "            '<a target=\"_blank\" href=https://colab.research.google.com/notebooks/data_table.ipynb>data table notebook</a>'\n",
              "            + ' to learn more about interactive tables.';\n",
              "          element.innerHTML = '';\n",
              "          dataTable['output_type'] = 'display_data';\n",
              "          await google.colab.output.renderOutput(dataTable, element);\n",
              "          const docLink = document.createElement('div');\n",
              "          docLink.innerHTML = docLinkHtml;\n",
              "          element.appendChild(docLink);\n",
              "        }\n",
              "      </script>\n",
              "    </div>\n",
              "  </div>\n",
              "  "
            ]
          },
          "metadata": {},
          "execution_count": 181
        }
      ]
    },
    {
      "cell_type": "code",
      "source": [
        "plt.style.available"
      ],
      "metadata": {
        "colab": {
          "base_uri": "https://localhost:8080/"
        },
        "id": "dZNFV5aewYZD",
        "outputId": "a01ac515-9e22-4b95-dc68-01d0b104af45"
      },
      "execution_count": 182,
      "outputs": [
        {
          "output_type": "execute_result",
          "data": {
            "text/plain": [
              "['Solarize_Light2',\n",
              " '_classic_test_patch',\n",
              " 'bmh',\n",
              " 'classic',\n",
              " 'dark_background',\n",
              " 'fast',\n",
              " 'fivethirtyeight',\n",
              " 'ggplot',\n",
              " 'grayscale',\n",
              " 'seaborn',\n",
              " 'seaborn-bright',\n",
              " 'seaborn-colorblind',\n",
              " 'seaborn-dark',\n",
              " 'seaborn-dark-palette',\n",
              " 'seaborn-darkgrid',\n",
              " 'seaborn-deep',\n",
              " 'seaborn-muted',\n",
              " 'seaborn-notebook',\n",
              " 'seaborn-paper',\n",
              " 'seaborn-pastel',\n",
              " 'seaborn-poster',\n",
              " 'seaborn-talk',\n",
              " 'seaborn-ticks',\n",
              " 'seaborn-white',\n",
              " 'seaborn-whitegrid',\n",
              " 'tableau-colorblind10']"
            ]
          },
          "metadata": {},
          "execution_count": 182
        }
      ]
    },
    {
      "cell_type": "markdown",
      "source": [
        "### **The First visualization will be a line plot using Matplotlib**"
      ],
      "metadata": {
        "id": "RQkGeUScwina"
      }
    },
    {
      "cell_type": "code",
      "source": [
        "from traitlets.traitlets import Type\n",
        "plt.style.use('dark_background')\n",
        "sns.lineplot(x='Outlet_Type',y='Item_Outlet_Sales',data=df,label=f'OutletSales')\n",
        "plt.xlabel('OutletType')\n",
        "plt.ylabel('OutletSale')\n",
        "plt.xticks(rotation=40)\n",
        "plt.legend()"
      ],
      "metadata": {
        "colab": {
          "base_uri": "https://localhost:8080/",
          "height": 356
        },
        "id": "Hn6BT9pMwgeC",
        "outputId": "bbcc5549-e5b7-4a5b-b116-7d2432ab97b7"
      },
      "execution_count": 183,
      "outputs": [
        {
          "output_type": "execute_result",
          "data": {
            "text/plain": [
              "<matplotlib.legend.Legend at 0x7ff37c607a90>"
            ]
          },
          "metadata": {},
          "execution_count": 183
        },
        {
          "output_type": "display_data",
          "data": {
            "text/plain": [
              "<Figure size 432x288 with 1 Axes>"
            ],
            "image/png": "[encoded data removed]"
          },
          "metadata": {}
        }
      ]
    },
    {
      "cell_type": "markdown",
      "source": [
        "The visualization above shows that the Grocery Store has the least amount of sales and the Supermarket type 3 has the most Sales."
      ],
      "metadata": {
        "id": "zTM3MvrOxxHL"
      }
    },
    {
      "cell_type": "markdown",
      "source": [
        "### **The second visualization will be a bar graph using Matplotlib**"
      ],
      "metadata": {
        "id": "TT6NRkEvx0lX"
      }
    },
    {
      "cell_type": "code",
      "source": [
        "plt.bar('Outlet_Type', 'Item_Outlet_Sales',data=df, label='OutletSales')\n",
        "plt.style.use('seaborn-pastel')\n",
        "plt.xlabel('Type of Outlet', fontsize = 16)\n",
        "plt.ylabel('Outlet Sales', fontsize = 16)\n",
        "plt.title('Sales Per Outlet Type', fontsize = 16)\n",
        "plt.xticks(rotation=45)\n",
        "plt.legend()"
      ],
      "metadata": {
        "colab": {
          "base_uri": "https://localhost:8080/",
          "height": 385
        },
        "id": "d4Y09SJWx6E-",
        "outputId": "1f5bedc5-6a6b-4846-93c6-d3d489c69566"
      },
      "execution_count": 184,
      "outputs": [
        {
          "output_type": "execute_result",
          "data": {
            "text/plain": [
              "<matplotlib.legend.Legend at 0x7ff37abc00d0>"
            ]
          },
          "metadata": {},
          "execution_count": 184
        },
        {
          "output_type": "display_data",
          "data": {
            "text/plain": [
              "<Figure size 432x288 with 1 Axes>"
            ],
            "image/png": "[encoded data removed]"
          },
          "metadata": {}
        }
      ]
    },
    {
      "cell_type": "markdown",
      "source": [
        "This visualization above also shows that the Grocery Store has the least amount of sales and the Supermarket type 3 has the most Sales. In my opinion, this graph is easier to read and understand. Tried out the pastel chart style to see how it is."
      ],
      "metadata": {
        "id": "Qx2-_9TIx_XY"
      }
    },
    {
      "cell_type": "markdown",
      "source": [
        "# **Part 5** Machine Learning"
      ],
      "metadata": {
        "id": "HUCyX4OWGW90"
      }
    },
    {
      "cell_type": "markdown",
      "source": [
        "## **Load Libraries and inpsect data**"
      ],
      "metadata": {
        "id": "IwfQbgwPGh-K"
      }
    },
    {
      "cell_type": "markdown",
      "source": [
        "### **Import Libraries**"
      ],
      "metadata": {
        "id": "XcNQVXpuGqTj"
      }
    },
    {
      "cell_type": "code",
      "source": [
        "## Preprocessing\n",
        "\n",
        "from sklearn.preprocessing import StandardScaler, OneHotEncoder\n",
        "from sklearn.impute import SimpleImputer\n",
        "from sklearn.compose import make_column_transformer, make_column_selector\n",
        "from sklearn.pipeline import make_pipeline\n",
        "from sklearn.model_selection import train_test_split\n",
        "\n",
        "## Set global scikit-learn configuration \n",
        "from sklearn import set_config\n",
        "## Display estimators as a diagram\n",
        "set_config(display='diagram') # 'text' or 'diagram'}\n",
        "\n",
        "\n"
      ],
      "metadata": {
        "id": "LSnU1e-OGvbQ"
      },
      "execution_count": 185,
      "outputs": []
    },
    {
      "cell_type": "markdown",
      "source": [
        "### **2. Load the Data**"
      ],
      "metadata": {
        "id": "JVadaGeWHdxW"
      }
    },
    {
      "cell_type": "code",
      "source": [
        "path = '/content/drive/MyDrive/sales_predictions.csv'\n",
        "df = pd.read_csv(path)\n",
        "df.head()"
      ],
      "metadata": {
        "colab": {
          "base_uri": "https://localhost:8080/",
          "height": 353
        },
        "id": "WZx00rSHHjVI",
        "outputId": "889f4a28-7ae3-4b6d-ad34-0a1fdd396214"
      },
      "execution_count": 186,
      "outputs": [
        {
          "output_type": "execute_result",
          "data": {
            "text/plain": [
              "  Item_Identifier  Item_Weight Item_Fat_Content  Item_Visibility  \\\n",
              "0           FDA15         9.30          Low Fat         0.016047   \n",
              "1           DRC01         5.92          Regular         0.019278   \n",
              "2           FDN15        17.50          Low Fat         0.016760   \n",
              "3           FDX07        19.20          Regular         0.000000   \n",
              "4           NCD19         8.93          Low Fat         0.000000   \n",
              "\n",
              "               Item_Type  Item_MRP Outlet_Identifier  \\\n",
              "0                  Dairy  249.8092            OUT049   \n",
              "1            Soft Drinks   48.2692            OUT018   \n",
              "2                   Meat  141.6180            OUT049   \n",
              "3  Fruits and Vegetables  182.0950            OUT010   \n",
              "4              Household   53.8614            OUT013   \n",
              "\n",
              "   Outlet_Establishment_Year Outlet_Size Outlet_Location_Type  \\\n",
              "0                       1999      Medium               Tier 1   \n",
              "1                       2009      Medium               Tier 3   \n",
              "2                       1999      Medium               Tier 1   \n",
              "3                       1998         NaN               Tier 3   \n",
              "4                       1987        High               Tier 3   \n",
              "\n",
              "         Outlet_Type  Item_Outlet_Sales  \n",
              "0  Supermarket Type1          3735.1380  \n",
              "1  Supermarket Type2           443.4228  \n",
              "2  Supermarket Type1          2097.2700  \n",
              "3      Grocery Store           732.3800  \n",
              "4  Supermarket Type1           994.7052  "
            ],
            "text/html": [
              "\n",
              "  <div id=\"df-ee06d53f-04be-40af-8689-f785a8fe7f67\">\n",
              "    <div class=\"colab-df-container\">\n",
              "      <div>\n",
              "<style scoped>\n",
              "    .dataframe tbody tr th:only-of-type {\n",
              "        vertical-align: middle;\n",
              "    }\n",
              "\n",
              "    .dataframe tbody tr th {\n",
              "        vertical-align: top;\n",
              "    }\n",
              "\n",
              "    .dataframe thead th {\n",
              "        text-align: right;\n",
              "    }\n",
              "</style>\n",
              "<table border=\"1\" class=\"dataframe\">\n",
              "  <thead>\n",
              "    <tr style=\"text-align: right;\">\n",
              "      <th></th>\n",
              "      <th>Item_Identifier</th>\n",
              "      <th>Item_Weight</th>\n",
              "      <th>Item_Fat_Content</th>\n",
              "      <th>Item_Visibility</th>\n",
              "      <th>Item_Type</th>\n",
              "      <th>Item_MRP</th>\n",
              "      <th>Outlet_Identifier</th>\n",
              "      <th>Outlet_Establishment_Year</th>\n",
              "      <th>Outlet_Size</th>\n",
              "      <th>Outlet_Location_Type</th>\n",
              "      <th>Outlet_Type</th>\n",
              "      <th>Item_Outlet_Sales</th>\n",
              "    </tr>\n",
              "  </thead>\n",
              "  <tbody>\n",
              "    <tr>\n",
              "      <th>0</th>\n",
              "      <td>FDA15</td>\n",
              "      <td>9.30</td>\n",
              "      <td>Low Fat</td>\n",
              "      <td>0.016047</td>\n",
              "      <td>Dairy</td>\n",
              "      <td>249.8092</td>\n",
              "      <td>OUT049</td>\n",
              "      <td>1999</td>\n",
              "      <td>Medium</td>\n",
              "      <td>Tier 1</td>\n",
              "      <td>Supermarket Type1</td>\n",
              "      <td>3735.1380</td>\n",
              "    </tr>\n",
              "    <tr>\n",
              "      <th>1</th>\n",
              "      <td>DRC01</td>\n",
              "      <td>5.92</td>\n",
              "      <td>Regular</td>\n",
              "      <td>0.019278</td>\n",
              "      <td>Soft Drinks</td>\n",
              "      <td>48.2692</td>\n",
              "      <td>OUT018</td>\n",
              "      <td>2009</td>\n",
              "      <td>Medium</td>\n",
              "      <td>Tier 3</td>\n",
              "      <td>Supermarket Type2</td>\n",
              "      <td>443.4228</td>\n",
              "    </tr>\n",
              "    <tr>\n",
              "      <th>2</th>\n",
              "      <td>FDN15</td>\n",
              "      <td>17.50</td>\n",
              "      <td>Low Fat</td>\n",
              "      <td>0.016760</td>\n",
              "      <td>Meat</td>\n",
              "      <td>141.6180</td>\n",
              "      <td>OUT049</td>\n",
              "      <td>1999</td>\n",
              "      <td>Medium</td>\n",
              "      <td>Tier 1</td>\n",
              "      <td>Supermarket Type1</td>\n",
              "      <td>2097.2700</td>\n",
              "    </tr>\n",
              "    <tr>\n",
              "      <th>3</th>\n",
              "      <td>FDX07</td>\n",
              "      <td>19.20</td>\n",
              "      <td>Regular</td>\n",
              "      <td>0.000000</td>\n",
              "      <td>Fruits and Vegetables</td>\n",
              "      <td>182.0950</td>\n",
              "      <td>OUT010</td>\n",
              "      <td>1998</td>\n",
              "      <td>NaN</td>\n",
              "      <td>Tier 3</td>\n",
              "      <td>Grocery Store</td>\n",
              "      <td>732.3800</td>\n",
              "    </tr>\n",
              "    <tr>\n",
              "      <th>4</th>\n",
              "      <td>NCD19</td>\n",
              "      <td>8.93</td>\n",
              "      <td>Low Fat</td>\n",
              "      <td>0.000000</td>\n",
              "      <td>Household</td>\n",
              "      <td>53.8614</td>\n",
              "      <td>OUT013</td>\n",
              "      <td>1987</td>\n",
              "      <td>High</td>\n",
              "      <td>Tier 3</td>\n",
              "      <td>Supermarket Type1</td>\n",
              "      <td>994.7052</td>\n",
              "    </tr>\n",
              "  </tbody>\n",
              "</table>\n",
              "</div>\n",
              "      <button class=\"colab-df-convert\" onclick=\"convertToInteractive('df-ee06d53f-04be-40af-8689-f785a8fe7f67')\"\n",
              "              title=\"Convert this dataframe to an interactive table.\"\n",
              "              style=\"display:none;\">\n",
              "        \n",
              "  <svg xmlns=\"http://www.w3.org/2000/svg\" height=\"24px\"viewBox=\"0 0 24 24\"\n",
              "       width=\"24px\">\n",
              "    <path d=\"M0 0h24v24H0V0z\" fill=\"none\"/>\n",
              "    <path d=\"M18.56 5.44l.94 2.06.94-2.06 2.06-.94-2.06-.94-.94-2.06-.94 2.06-2.06.94zm-11 1L8.5 8.5l.94-2.06 2.06-.94-2.06-.94L8.5 2.5l-.94 2.06-2.06.94zm10 10l.94 2.06.94-2.06 2.06-.94-2.06-.94-.94-2.06-.94 2.06-2.06.94z\"/><path d=\"M17.41 7.96l-1.37-1.37c-.4-.4-.92-.59-1.43-.59-.52 0-1.04.2-1.43.59L10.3 9.45l-7.72 7.72c-.78.78-.78 2.05 0 2.83L4 21.41c.39.39.9.59 1.41.59.51 0 1.02-.2 1.41-.59l7.78-7.78 2.81-2.81c.8-.78.8-2.07 0-2.86zM5.41 20L4 18.59l7.72-7.72 1.47 1.35L5.41 20z\"/>\n",
              "  </svg>\n",
              "      </button>\n",
              "      \n",
              "  <style>\n",
              "    .colab-df-container {\n",
              "      display:flex;\n",
              "      flex-wrap:wrap;\n",
              "      gap: 12px;\n",
              "    }\n",
              "\n",
              "    .colab-df-convert {\n",
              "      background-color: #E8F0FE;\n",
              "      border: none;\n",
              "      border-radius: 50%;\n",
              "      cursor: pointer;\n",
              "      display: none;\n",
              "      fill: #1967D2;\n",
              "      height: 32px;\n",
              "      padding: 0 0 0 0;\n",
              "      width: 32px;\n",
              "    }\n",
              "\n",
              "    .colab-df-convert:hover {\n",
              "      background-color: #E2EBFA;\n",
              "      box-shadow: 0px 1px 2px rgba(60, 64, 67, 0.3), 0px 1px 3px 1px rgba(60, 64, 67, 0.15);\n",
              "      fill: #174EA6;\n",
              "    }\n",
              "\n",
              "    [theme=dark] .colab-df-convert {\n",
              "      background-color: #3B4455;\n",
              "      fill: #D2E3FC;\n",
              "    }\n",
              "\n",
              "    [theme=dark] .colab-df-convert:hover {\n",
              "      background-color: #434B5C;\n",
              "      box-shadow: 0px 1px 3px 1px rgba(0, 0, 0, 0.15);\n",
              "      filter: drop-shadow(0px 1px 2px rgba(0, 0, 0, 0.3));\n",
              "      fill: #FFFFFF;\n",
              "    }\n",
              "  </style>\n",
              "\n",
              "      <script>\n",
              "        const buttonEl =\n",
              "          document.querySelector('#df-ee06d53f-04be-40af-8689-f785a8fe7f67 button.colab-df-convert');\n",
              "        buttonEl.style.display =\n",
              "          google.colab.kernel.accessAllowed ? 'block' : 'none';\n",
              "\n",
              "        async function convertToInteractive(key) {\n",
              "          const element = document.querySelector('#df-ee06d53f-04be-40af-8689-f785a8fe7f67');\n",
              "          const dataTable =\n",
              "            await google.colab.kernel.invokeFunction('convertToInteractive',\n",
              "                                                     [key], {});\n",
              "          if (!dataTable) return;\n",
              "\n",
              "          const docLinkHtml = 'Like what you see? Visit the ' +\n",
              "            '<a target=\"_blank\" href=https://colab.research.google.com/notebooks/data_table.ipynb>data table notebook</a>'\n",
              "            + ' to learn more about interactive tables.';\n",
              "          element.innerHTML = '';\n",
              "          dataTable['output_type'] = 'display_data';\n",
              "          await google.colab.output.renderOutput(dataTable, element);\n",
              "          const docLink = document.createElement('div');\n",
              "          docLink.innerHTML = docLinkHtml;\n",
              "          element.appendChild(docLink);\n",
              "        }\n",
              "      </script>\n",
              "    </div>\n",
              "  </div>\n",
              "  "
            ]
          },
          "metadata": {},
          "execution_count": 186
        }
      ]
    },
    {
      "cell_type": "code",
      "source": [
        "# Make a copy of the original df to avoid any manipulations\n",
        "df_pp = df.copy()"
      ],
      "metadata": {
        "id": "_f9JpsT4HsSv"
      },
      "execution_count": 187,
      "outputs": []
    },
    {
      "cell_type": "markdown",
      "source": [
        "### **3. Explore the Data**"
      ],
      "metadata": {
        "id": "lupIFlyEHuV3"
      }
    },
    {
      "cell_type": "code",
      "source": [
        "# Look at the info from the data\n",
        "print(df_pp.info(), '\\n')\n",
        "print(df_pp.isna().sum())"
      ],
      "metadata": {
        "colab": {
          "base_uri": "https://localhost:8080/"
        },
        "id": "abAR7SdgIYsg",
        "outputId": "42f83872-6e6d-4736-9158-06e01ff28197"
      },
      "execution_count": 188,
      "outputs": [
        {
          "output_type": "stream",
          "name": "stdout",
          "text": [
            "<class 'pandas.core.frame.DataFrame'>\n",
            "RangeIndex: 8523 entries, 0 to 8522\n",
            "Data columns (total 12 columns):\n",
            " #   Column                     Non-Null Count  Dtype  \n",
            "---  ------                     --------------  -----  \n",
            " 0   Item_Identifier            8523 non-null   object \n",
            " 1   Item_Weight                7060 non-null   float64\n",
            " 2   Item_Fat_Content           8523 non-null   object \n",
            " 3   Item_Visibility            8523 non-null   float64\n",
            " 4   Item_Type                  8523 non-null   object \n",
            " 5   Item_MRP                   8523 non-null   float64\n",
            " 6   Outlet_Identifier          8523 non-null   object \n",
            " 7   Outlet_Establishment_Year  8523 non-null   int64  \n",
            " 8   Outlet_Size                6113 non-null   object \n",
            " 9   Outlet_Location_Type       8523 non-null   object \n",
            " 10  Outlet_Type                8523 non-null   object \n",
            " 11  Item_Outlet_Sales          8523 non-null   float64\n",
            "dtypes: float64(4), int64(1), object(7)\n",
            "memory usage: 799.2+ KB\n",
            "None \n",
            "\n",
            "Item_Identifier                 0\n",
            "Item_Weight                  1463\n",
            "Item_Fat_Content                0\n",
            "Item_Visibility                 0\n",
            "Item_Type                       0\n",
            "Item_MRP                        0\n",
            "Outlet_Identifier               0\n",
            "Outlet_Establishment_Year       0\n",
            "Outlet_Size                  2410\n",
            "Outlet_Location_Type            0\n",
            "Outlet_Type                     0\n",
            "Item_Outlet_Sales               0\n",
            "dtype: int64\n"
          ]
        }
      ]
    },
    {
      "cell_type": "markdown",
      "source": [
        "### **4. Fix Inconsistencies in Categorical data**"
      ],
      "metadata": {
        "id": "n9nWR96EIe-M"
      }
    },
    {
      "cell_type": "code",
      "source": [
        "df_pp['Item_Fat_Content'].value_counts()"
      ],
      "metadata": {
        "colab": {
          "base_uri": "https://localhost:8080/"
        },
        "id": "_Rz84qi2Iinf",
        "outputId": "cea55dcf-5d4a-480f-e6b4-b075ff73f2f5"
      },
      "execution_count": 189,
      "outputs": [
        {
          "output_type": "execute_result",
          "data": {
            "text/plain": [
              "Low Fat    5089\n",
              "Regular    2889\n",
              "LF          316\n",
              "reg         117\n",
              "low fat     112\n",
              "Name: Item_Fat_Content, dtype: int64"
            ]
          },
          "metadata": {},
          "execution_count": 189
        }
      ]
    },
    {
      "cell_type": "code",
      "source": [
        "df_pp['Item_Fat_Content'].replace(['LF'], ['Low Fat'], inplace=True)\n",
        "df_pp['Item_Fat_Content'].replace(['low fat'], ['Low Fat'], inplace=True)\n",
        "df_pp['Item_Fat_Content'].replace(['reg'], ['Regular'], inplace=True)\n",
        "df_pp['Item_Fat_Content'].value_counts()"
      ],
      "metadata": {
        "colab": {
          "base_uri": "https://localhost:8080/"
        },
        "id": "N7T5f9W2Ip51",
        "outputId": "44f3cdc3-10ad-4bc7-9344-de412bf89b2f"
      },
      "execution_count": 190,
      "outputs": [
        {
          "output_type": "execute_result",
          "data": {
            "text/plain": [
              "Low Fat    5517\n",
              "Regular    3006\n",
              "Name: Item_Fat_Content, dtype: int64"
            ]
          },
          "metadata": {},
          "execution_count": 190
        }
      ]
    },
    {
      "cell_type": "markdown",
      "source": [
        "## **Check for Duplicated, Missing, or Erroneous Data**"
      ],
      "metadata": {
        "id": "rtxMocexItoW"
      }
    },
    {
      "cell_type": "code",
      "source": [
        "# Display the sum of missing values\n",
        "df_pp.isna().sum().sum()"
      ],
      "metadata": {
        "colab": {
          "base_uri": "https://localhost:8080/"
        },
        "id": "6p7XOC67Iwb-",
        "outputId": "f38e71ac-ac87-44f9-a90b-05d79733b792"
      },
      "execution_count": 191,
      "outputs": [
        {
          "output_type": "execute_result",
          "data": {
            "text/plain": [
              "3873"
            ]
          },
          "metadata": {},
          "execution_count": 191
        }
      ]
    },
    {
      "cell_type": "code",
      "source": [
        "# Display the sum of missing values\n",
        "df_pp.isna().sum()"
      ],
      "metadata": {
        "colab": {
          "base_uri": "https://localhost:8080/"
        },
        "id": "u3m63_QMI0Y3",
        "outputId": "9c32a4ec-0ef0-4bf3-bb2a-21efd2811eec"
      },
      "execution_count": 192,
      "outputs": [
        {
          "output_type": "execute_result",
          "data": {
            "text/plain": [
              "Item_Identifier                 0\n",
              "Item_Weight                  1463\n",
              "Item_Fat_Content                0\n",
              "Item_Visibility                 0\n",
              "Item_Type                       0\n",
              "Item_MRP                        0\n",
              "Outlet_Identifier               0\n",
              "Outlet_Establishment_Year       0\n",
              "Outlet_Size                  2410\n",
              "Outlet_Location_Type            0\n",
              "Outlet_Type                     0\n",
              "Item_Outlet_Sales               0\n",
              "dtype: int64"
            ]
          },
          "metadata": {},
          "execution_count": 192
        }
      ]
    },
    {
      "cell_type": "markdown",
      "source": [
        "## **5. Drop Duplicates**"
      ],
      "metadata": {
        "id": "BuPMjzccI4VF"
      }
    },
    {
      "cell_type": "code",
      "source": [
        "# Check to see if there are any duplicated rows\n",
        "df_pp.duplicated().sum()"
      ],
      "metadata": {
        "colab": {
          "base_uri": "https://localhost:8080/"
        },
        "id": "mSlpcweZI6-b",
        "outputId": "8a4e7a84-4719-45c5-86d1-0516f915c1cf"
      },
      "execution_count": 193,
      "outputs": [
        {
          "output_type": "execute_result",
          "data": {
            "text/plain": [
              "0"
            ]
          },
          "metadata": {},
          "execution_count": 193
        }
      ]
    },
    {
      "cell_type": "code",
      "source": [
        "# Display descriptive statistics for all columns\n",
        "df_pp.describe()"
      ],
      "metadata": {
        "colab": {
          "base_uri": "https://localhost:8080/",
          "height": 297
        },
        "id": "UGCuo-a9J8Wf",
        "outputId": "53f52fd4-6724-42e7-b208-355ec87bdcc9"
      },
      "execution_count": 194,
      "outputs": [
        {
          "output_type": "execute_result",
          "data": {
            "text/plain": [
              "       Item_Weight  Item_Visibility     Item_MRP  Outlet_Establishment_Year  \\\n",
              "count  7060.000000      8523.000000  8523.000000                8523.000000   \n",
              "mean     12.857645         0.066132   140.992782                1997.831867   \n",
              "std       4.643456         0.051598    62.275067                   8.371760   \n",
              "min       4.555000         0.000000    31.290000                1985.000000   \n",
              "25%       8.773750         0.026989    93.826500                1987.000000   \n",
              "50%      12.600000         0.053931   143.012800                1999.000000   \n",
              "75%      16.850000         0.094585   185.643700                2004.000000   \n",
              "max      21.350000         0.328391   266.888400                2009.000000   \n",
              "\n",
              "       Item_Outlet_Sales  \n",
              "count        8523.000000  \n",
              "mean         2181.288914  \n",
              "std          1706.499616  \n",
              "min            33.290000  \n",
              "25%           834.247400  \n",
              "50%          1794.331000  \n",
              "75%          3101.296400  \n",
              "max         13086.964800  "
            ],
            "text/html": [
              "\n",
              "  <div id=\"df-00e4c6f1-c10f-4aab-8fca-d2f972c94b5b\">\n",
              "    <div class=\"colab-df-container\">\n",
              "      <div>\n",
              "<style scoped>\n",
              "    .dataframe tbody tr th:only-of-type {\n",
              "        vertical-align: middle;\n",
              "    }\n",
              "\n",
              "    .dataframe tbody tr th {\n",
              "        vertical-align: top;\n",
              "    }\n",
              "\n",
              "    .dataframe thead th {\n",
              "        text-align: right;\n",
              "    }\n",
              "</style>\n",
              "<table border=\"1\" class=\"dataframe\">\n",
              "  <thead>\n",
              "    <tr style=\"text-align: right;\">\n",
              "      <th></th>\n",
              "      <th>Item_Weight</th>\n",
              "      <th>Item_Visibility</th>\n",
              "      <th>Item_MRP</th>\n",
              "      <th>Outlet_Establishment_Year</th>\n",
              "      <th>Item_Outlet_Sales</th>\n",
              "    </tr>\n",
              "  </thead>\n",
              "  <tbody>\n",
              "    <tr>\n",
              "      <th>count</th>\n",
              "      <td>7060.000000</td>\n",
              "      <td>8523.000000</td>\n",
              "      <td>8523.000000</td>\n",
              "      <td>8523.000000</td>\n",
              "      <td>8523.000000</td>\n",
              "    </tr>\n",
              "    <tr>\n",
              "      <th>mean</th>\n",
              "      <td>12.857645</td>\n",
              "      <td>0.066132</td>\n",
              "      <td>140.992782</td>\n",
              "      <td>1997.831867</td>\n",
              "      <td>2181.288914</td>\n",
              "    </tr>\n",
              "    <tr>\n",
              "      <th>std</th>\n",
              "      <td>4.643456</td>\n",
              "      <td>0.051598</td>\n",
              "      <td>62.275067</td>\n",
              "      <td>8.371760</td>\n",
              "      <td>1706.499616</td>\n",
              "    </tr>\n",
              "    <tr>\n",
              "      <th>min</th>\n",
              "      <td>4.555000</td>\n",
              "      <td>0.000000</td>\n",
              "      <td>31.290000</td>\n",
              "      <td>1985.000000</td>\n",
              "      <td>33.290000</td>\n",
              "    </tr>\n",
              "    <tr>\n",
              "      <th>25%</th>\n",
              "      <td>8.773750</td>\n",
              "      <td>0.026989</td>\n",
              "      <td>93.826500</td>\n",
              "      <td>1987.000000</td>\n",
              "      <td>834.247400</td>\n",
              "    </tr>\n",
              "    <tr>\n",
              "      <th>50%</th>\n",
              "      <td>12.600000</td>\n",
              "      <td>0.053931</td>\n",
              "      <td>143.012800</td>\n",
              "      <td>1999.000000</td>\n",
              "      <td>1794.331000</td>\n",
              "    </tr>\n",
              "    <tr>\n",
              "      <th>75%</th>\n",
              "      <td>16.850000</td>\n",
              "      <td>0.094585</td>\n",
              "      <td>185.643700</td>\n",
              "      <td>2004.000000</td>\n",
              "      <td>3101.296400</td>\n",
              "    </tr>\n",
              "    <tr>\n",
              "      <th>max</th>\n",
              "      <td>21.350000</td>\n",
              "      <td>0.328391</td>\n",
              "      <td>266.888400</td>\n",
              "      <td>2009.000000</td>\n",
              "      <td>13086.964800</td>\n",
              "    </tr>\n",
              "  </tbody>\n",
              "</table>\n",
              "</div>\n",
              "      <button class=\"colab-df-convert\" onclick=\"convertToInteractive('df-00e4c6f1-c10f-4aab-8fca-d2f972c94b5b')\"\n",
              "              title=\"Convert this dataframe to an interactive table.\"\n",
              "              style=\"display:none;\">\n",
              "        \n",
              "  <svg xmlns=\"http://www.w3.org/2000/svg\" height=\"24px\"viewBox=\"0 0 24 24\"\n",
              "       width=\"24px\">\n",
              "    <path d=\"M0 0h24v24H0V0z\" fill=\"none\"/>\n",
              "    <path d=\"M18.56 5.44l.94 2.06.94-2.06 2.06-.94-2.06-.94-.94-2.06-.94 2.06-2.06.94zm-11 1L8.5 8.5l.94-2.06 2.06-.94-2.06-.94L8.5 2.5l-.94 2.06-2.06.94zm10 10l.94 2.06.94-2.06 2.06-.94-2.06-.94-.94-2.06-.94 2.06-2.06.94z\"/><path d=\"M17.41 7.96l-1.37-1.37c-.4-.4-.92-.59-1.43-.59-.52 0-1.04.2-1.43.59L10.3 9.45l-7.72 7.72c-.78.78-.78 2.05 0 2.83L4 21.41c.39.39.9.59 1.41.59.51 0 1.02-.2 1.41-.59l7.78-7.78 2.81-2.81c.8-.78.8-2.07 0-2.86zM5.41 20L4 18.59l7.72-7.72 1.47 1.35L5.41 20z\"/>\n",
              "  </svg>\n",
              "      </button>\n",
              "      \n",
              "  <style>\n",
              "    .colab-df-container {\n",
              "      display:flex;\n",
              "      flex-wrap:wrap;\n",
              "      gap: 12px;\n",
              "    }\n",
              "\n",
              "    .colab-df-convert {\n",
              "      background-color: #E8F0FE;\n",
              "      border: none;\n",
              "      border-radius: 50%;\n",
              "      cursor: pointer;\n",
              "      display: none;\n",
              "      fill: #1967D2;\n",
              "      height: 32px;\n",
              "      padding: 0 0 0 0;\n",
              "      width: 32px;\n",
              "    }\n",
              "\n",
              "    .colab-df-convert:hover {\n",
              "      background-color: #E2EBFA;\n",
              "      box-shadow: 0px 1px 2px rgba(60, 64, 67, 0.3), 0px 1px 3px 1px rgba(60, 64, 67, 0.15);\n",
              "      fill: #174EA6;\n",
              "    }\n",
              "\n",
              "    [theme=dark] .colab-df-convert {\n",
              "      background-color: #3B4455;\n",
              "      fill: #D2E3FC;\n",
              "    }\n",
              "\n",
              "    [theme=dark] .colab-df-convert:hover {\n",
              "      background-color: #434B5C;\n",
              "      box-shadow: 0px 1px 3px 1px rgba(0, 0, 0, 0.15);\n",
              "      filter: drop-shadow(0px 1px 2px rgba(0, 0, 0, 0.3));\n",
              "      fill: #FFFFFF;\n",
              "    }\n",
              "  </style>\n",
              "\n",
              "      <script>\n",
              "        const buttonEl =\n",
              "          document.querySelector('#df-00e4c6f1-c10f-4aab-8fca-d2f972c94b5b button.colab-df-convert');\n",
              "        buttonEl.style.display =\n",
              "          google.colab.kernel.accessAllowed ? 'block' : 'none';\n",
              "\n",
              "        async function convertToInteractive(key) {\n",
              "          const element = document.querySelector('#df-00e4c6f1-c10f-4aab-8fca-d2f972c94b5b');\n",
              "          const dataTable =\n",
              "            await google.colab.kernel.invokeFunction('convertToInteractive',\n",
              "                                                     [key], {});\n",
              "          if (!dataTable) return;\n",
              "\n",
              "          const docLinkHtml = 'Like what you see? Visit the ' +\n",
              "            '<a target=\"_blank\" href=https://colab.research.google.com/notebooks/data_table.ipynb>data table notebook</a>'\n",
              "            + ' to learn more about interactive tables.';\n",
              "          element.innerHTML = '';\n",
              "          dataTable['output_type'] = 'display_data';\n",
              "          await google.colab.output.renderOutput(dataTable, element);\n",
              "          const docLink = document.createElement('div');\n",
              "          docLink.innerHTML = docLinkHtml;\n",
              "          element.appendChild(docLink);\n",
              "        }\n",
              "      </script>\n",
              "    </div>\n",
              "  </div>\n",
              "  "
            ]
          },
          "metadata": {},
          "execution_count": 194
        }
      ]
    },
    {
      "cell_type": "markdown",
      "source": [
        "## **6. Split the Data (Validation Split)**\n",
        "\n",
        "- Identify features (X) and target (y)"
      ],
      "metadata": {
        "id": "-bgcexHkKAAK"
      }
    },
    {
      "cell_type": "code",
      "source": [
        "# split X and y, you are Item Outlet Sales\n",
        "X = df.drop('Item_Outlet_Sales', axis=1)\n",
        "y = df['Item_Outlet_Sales']"
      ],
      "metadata": {
        "id": "F639-eIQKCmJ"
      },
      "execution_count": 195,
      "outputs": []
    },
    {
      "cell_type": "markdown",
      "source": [
        "## **Perform a train test split**"
      ],
      "metadata": {
        "id": "VTZ_NP6nKJiH"
      }
    },
    {
      "cell_type": "code",
      "source": [
        "# split training and test\n",
        "# set random_state to 42 for reproducibility\n",
        "X_train, X_test, y_train, y_test = train_test_split(X, y, test_size=.25 , random_state=42)"
      ],
      "metadata": {
        "id": "ntTSHcvYKKTD"
      },
      "execution_count": 196,
      "outputs": []
    },
    {
      "cell_type": "markdown",
      "source": [
        "## **Pre-processing**\n",
        "\n",
        " - Impute missing values \n",
        " - Use the 'mean' strategy for numeric columns \n",
        " - Use the 'most_frequent' strategy for categorical columns"
      ],
      "metadata": {
        "id": "WmRZe9FCKelF"
      }
    },
    {
      "cell_type": "markdown",
      "source": [
        "## **Instantiate Column Selectors**"
      ],
      "metadata": {
        "id": "TwDovIjbKhTJ"
      }
    },
    {
      "cell_type": "code",
      "source": [
        "#Instantiate columns selectors\n",
        "num_selector = make_column_selector(dtype_include= 'number')\n",
        "cat_selector = make_column_selector(dtype_include='object')"
      ],
      "metadata": {
        "id": "9ZJu9sDtKjoj"
      },
      "execution_count": 197,
      "outputs": []
    },
    {
      "cell_type": "markdown",
      "source": [
        "## **Instantiate Transformers**"
      ],
      "metadata": {
        "id": "MYEOpNxOKmjD"
      }
    },
    {
      "cell_type": "code",
      "source": [
        "#Instatiate Transformers\n",
        "mean_imputer = SimpleImputer(strategy='mean')\n",
        "freq_imputer = SimpleImputer(strategy='most_frequent')\n",
        "\n",
        "#Scaler\n",
        "scaler = StandardScaler()\n",
        "\n",
        "#OneHotEncoder\n",
        "ohe = OneHotEncoder(handle_unknown='ignore', sparse=False)"
      ],
      "metadata": {
        "id": "c2Qup_kaKpJA"
      },
      "execution_count": 198,
      "outputs": []
    },
    {
      "cell_type": "markdown",
      "source": [
        "- One-hot encode nominal features\n",
        "- Scale the numeric columns"
      ],
      "metadata": {
        "id": "Suyw--cvKsyv"
      }
    },
    {
      "cell_type": "markdown",
      "source": [
        "## **Instantiate Pipelines**"
      ],
      "metadata": {
        "id": "uf_jgHQmKvgk"
      }
    },
    {
      "cell_type": "code",
      "source": [
        "#Instatiate Pipelines\n",
        "\n",
        "#Numeric Pipeline\n",
        "numeric_pipe = make_pipeline(mean_imputer, scaler)\n",
        "numeric_pipe"
      ],
      "metadata": {
        "colab": {
          "base_uri": "https://localhost:8080/",
          "height": 124
        },
        "id": "gmgHp25yKy1N",
        "outputId": "51f4da43-4a1e-4c8d-b9b5-42f2853da19e"
      },
      "execution_count": 199,
      "outputs": [
        {
          "output_type": "execute_result",
          "data": {
            "text/plain": [
              "Pipeline(steps=[('simpleimputer', SimpleImputer()),\n",
              "                ('standardscaler', StandardScaler())])"
            ],
            "text/html": [
              "<style>#sk-4882e977-6b37-47dc-bd98-2215befc5095 {color: black;background-color: white;}#sk-4882e977-6b37-47dc-bd98-2215befc5095 pre{padding: 0;}#sk-4882e977-6b37-47dc-bd98-2215befc5095 div.sk-toggleable {background-color: white;}#sk-4882e977-6b37-47dc-bd98-2215befc5095 label.sk-toggleable__label {cursor: pointer;display: block;width: 100%;margin-bottom: 0;padding: 0.3em;box-sizing: border-box;text-align: center;}#sk-4882e977-6b37-47dc-bd98-2215befc5095 label.sk-toggleable__label-arrow:before {content: \"▸\";float: left;margin-right: 0.25em;color: #696969;}#sk-4882e977-6b37-47dc-bd98-2215befc5095 label.sk-toggleable__label-arrow:hover:before {color: black;}#sk-4882e977-6b37-47dc-bd98-2215befc5095 div.sk-estimator:hover label.sk-toggleable__label-arrow:before {color: black;}#sk-4882e977-6b37-47dc-bd98-2215befc5095 div.sk-toggleable__content {max-height: 0;max-width: 0;overflow: hidden;text-align: left;background-color: #f0f8ff;}#sk-4882e977-6b37-47dc-bd98-2215befc5095 div.sk-toggleable__content pre {margin: 0.2em;color: black;border-radius: 0.25em;background-color: #f0f8ff;}#sk-4882e977-6b37-47dc-bd98-2215befc5095 input.sk-toggleable__control:checked~div.sk-toggleable__content {max-height: 200px;max-width: 100%;overflow: auto;}#sk-4882e977-6b37-47dc-bd98-2215befc5095 input.sk-toggleable__control:checked~label.sk-toggleable__label-arrow:before {content: \"▾\";}#sk-4882e977-6b37-47dc-bd98-2215befc5095 div.sk-estimator input.sk-toggleable__control:checked~label.sk-toggleable__label {background-color: #d4ebff;}#sk-4882e977-6b37-47dc-bd98-2215befc5095 div.sk-label input.sk-toggleable__control:checked~label.sk-toggleable__label {background-color: #d4ebff;}#sk-4882e977-6b37-47dc-bd98-2215befc5095 input.sk-hidden--visually {border: 0;clip: rect(1px 1px 1px 1px);clip: rect(1px, 1px, 1px, 1px);height: 1px;margin: -1px;overflow: hidden;padding: 0;position: absolute;width: 1px;}#sk-4882e977-6b37-47dc-bd98-2215befc5095 div.sk-estimator {font-family: monospace;background-color: #f0f8ff;border: 1px dotted black;border-radius: 0.25em;box-sizing: border-box;margin-bottom: 0.5em;}#sk-4882e977-6b37-47dc-bd98-2215befc5095 div.sk-estimator:hover {background-color: #d4ebff;}#sk-4882e977-6b37-47dc-bd98-2215befc5095 div.sk-parallel-item::after {content: \"\";width: 100%;border-bottom: 1px solid gray;flex-grow: 1;}#sk-4882e977-6b37-47dc-bd98-2215befc5095 div.sk-label:hover label.sk-toggleable__label {background-color: #d4ebff;}#sk-4882e977-6b37-47dc-bd98-2215befc5095 div.sk-serial::before {content: \"\";position: absolute;border-left: 1px solid gray;box-sizing: border-box;top: 2em;bottom: 0;left: 50%;}#sk-4882e977-6b37-47dc-bd98-2215befc5095 div.sk-serial {display: flex;flex-direction: column;align-items: center;background-color: white;padding-right: 0.2em;padding-left: 0.2em;}#sk-4882e977-6b37-47dc-bd98-2215befc5095 div.sk-item {z-index: 1;}#sk-4882e977-6b37-47dc-bd98-2215befc5095 div.sk-parallel {display: flex;align-items: stretch;justify-content: center;background-color: white;}#sk-4882e977-6b37-47dc-bd98-2215befc5095 div.sk-parallel::before {content: \"\";position: absolute;border-left: 1px solid gray;box-sizing: border-box;top: 2em;bottom: 0;left: 50%;}#sk-4882e977-6b37-47dc-bd98-2215befc5095 div.sk-parallel-item {display: flex;flex-direction: column;position: relative;background-color: white;}#sk-4882e977-6b37-47dc-bd98-2215befc5095 div.sk-parallel-item:first-child::after {align-self: flex-end;width: 50%;}#sk-4882e977-6b37-47dc-bd98-2215befc5095 div.sk-parallel-item:last-child::after {align-self: flex-start;width: 50%;}#sk-4882e977-6b37-47dc-bd98-2215befc5095 div.sk-parallel-item:only-child::after {width: 0;}#sk-4882e977-6b37-47dc-bd98-2215befc5095 div.sk-dashed-wrapped {border: 1px dashed gray;margin: 0 0.4em 0.5em 0.4em;box-sizing: border-box;padding-bottom: 0.4em;background-color: white;position: relative;}#sk-4882e977-6b37-47dc-bd98-2215befc5095 div.sk-label label {font-family: monospace;font-weight: bold;background-color: white;display: inline-block;line-height: 1.2em;}#sk-4882e977-6b37-47dc-bd98-2215befc5095 div.sk-label-container {position: relative;z-index: 2;text-align: center;}#sk-4882e977-6b37-47dc-bd98-2215befc5095 div.sk-container {/* jupyter's `normalize.less` sets `[hidden] { display: none; }` but bootstrap.min.css set `[hidden] { display: none !important; }` so we also need the `!important` here to be able to override the default hidden behavior on the sphinx rendered scikit-learn.org. See: https://github.com/scikit-learn/scikit-learn/issues/21755 */display: inline-block !important;position: relative;}#sk-4882e977-6b37-47dc-bd98-2215befc5095 div.sk-text-repr-fallback {display: none;}</style><div id=\"sk-4882e977-6b37-47dc-bd98-2215befc5095\" class=\"sk-top-container\"><div class=\"sk-text-repr-fallback\"><pre>Pipeline(steps=[(&#x27;simpleimputer&#x27;, SimpleImputer()),\n",
              "                (&#x27;standardscaler&#x27;, StandardScaler())])</pre><b>Please rerun this cell to show the HTML repr or trust the notebook.</b></div><div class=\"sk-container\" hidden><div class=\"sk-item sk-dashed-wrapped\"><div class=\"sk-label-container\"><div class=\"sk-label sk-toggleable\"><input class=\"sk-toggleable__control sk-hidden--visually\" id=\"8eba348d-67ef-470a-9cca-0ea53d1ff45f\" type=\"checkbox\" ><label for=\"8eba348d-67ef-470a-9cca-0ea53d1ff45f\" class=\"sk-toggleable__label sk-toggleable__label-arrow\">Pipeline</label><div class=\"sk-toggleable__content\"><pre>Pipeline(steps=[(&#x27;simpleimputer&#x27;, SimpleImputer()),\n",
              "                (&#x27;standardscaler&#x27;, StandardScaler())])</pre></div></div></div><div class=\"sk-serial\"><div class=\"sk-item\"><div class=\"sk-estimator sk-toggleable\"><input class=\"sk-toggleable__control sk-hidden--visually\" id=\"eef17658-4901-4e10-bb77-d7d15274c71c\" type=\"checkbox\" ><label for=\"eef17658-4901-4e10-bb77-d7d15274c71c\" class=\"sk-toggleable__label sk-toggleable__label-arrow\">SimpleImputer</label><div class=\"sk-toggleable__content\"><pre>SimpleImputer()</pre></div></div></div><div class=\"sk-item\"><div class=\"sk-estimator sk-toggleable\"><input class=\"sk-toggleable__control sk-hidden--visually\" id=\"7388d10b-4954-4ce5-b0ea-83ad1ae7cca3\" type=\"checkbox\" ><label for=\"7388d10b-4954-4ce5-b0ea-83ad1ae7cca3\" class=\"sk-toggleable__label sk-toggleable__label-arrow\">StandardScaler</label><div class=\"sk-toggleable__content\"><pre>StandardScaler()</pre></div></div></div></div></div></div></div>"
            ]
          },
          "metadata": {},
          "execution_count": 199
        }
      ]
    },
    {
      "cell_type": "code",
      "source": [
        "#Categorical Pipeline\n",
        "categorical_pipe = make_pipeline(freq_imputer, ohe)\n",
        "categorical_pipe"
      ],
      "metadata": {
        "colab": {
          "base_uri": "https://localhost:8080/",
          "height": 124
        },
        "id": "9BTeBi7yK2Pa",
        "outputId": "b3f5a830-6936-4d48-b615-0e044aa3b01b"
      },
      "execution_count": 200,
      "outputs": [
        {
          "output_type": "execute_result",
          "data": {
            "text/plain": [
              "Pipeline(steps=[('simpleimputer', SimpleImputer(strategy='most_frequent')),\n",
              "                ('onehotencoder',\n",
              "                 OneHotEncoder(handle_unknown='ignore', sparse=False))])"
            ],
            "text/html": [
              "<style>#sk-2abdf0e1-0c47-4bfe-b968-86c6cc88338c {color: black;background-color: white;}#sk-2abdf0e1-0c47-4bfe-b968-86c6cc88338c pre{padding: 0;}#sk-2abdf0e1-0c47-4bfe-b968-86c6cc88338c div.sk-toggleable {background-color: white;}#sk-2abdf0e1-0c47-4bfe-b968-86c6cc88338c label.sk-toggleable__label {cursor: pointer;display: block;width: 100%;margin-bottom: 0;padding: 0.3em;box-sizing: border-box;text-align: center;}#sk-2abdf0e1-0c47-4bfe-b968-86c6cc88338c label.sk-toggleable__label-arrow:before {content: \"▸\";float: left;margin-right: 0.25em;color: #696969;}#sk-2abdf0e1-0c47-4bfe-b968-86c6cc88338c label.sk-toggleable__label-arrow:hover:before {color: black;}#sk-2abdf0e1-0c47-4bfe-b968-86c6cc88338c div.sk-estimator:hover label.sk-toggleable__label-arrow:before {color: black;}#sk-2abdf0e1-0c47-4bfe-b968-86c6cc88338c div.sk-toggleable__content {max-height: 0;max-width: 0;overflow: hidden;text-align: left;background-color: #f0f8ff;}#sk-2abdf0e1-0c47-4bfe-b968-86c6cc88338c div.sk-toggleable__content pre {margin: 0.2em;color: black;border-radius: 0.25em;background-color: #f0f8ff;}#sk-2abdf0e1-0c47-4bfe-b968-86c6cc88338c input.sk-toggleable__control:checked~div.sk-toggleable__content {max-height: 200px;max-width: 100%;overflow: auto;}#sk-2abdf0e1-0c47-4bfe-b968-86c6cc88338c input.sk-toggleable__control:checked~label.sk-toggleable__label-arrow:before {content: \"▾\";}#sk-2abdf0e1-0c47-4bfe-b968-86c6cc88338c div.sk-estimator input.sk-toggleable__control:checked~label.sk-toggleable__label {background-color: #d4ebff;}#sk-2abdf0e1-0c47-4bfe-b968-86c6cc88338c div.sk-label input.sk-toggleable__control:checked~label.sk-toggleable__label {background-color: #d4ebff;}#sk-2abdf0e1-0c47-4bfe-b968-86c6cc88338c input.sk-hidden--visually {border: 0;clip: rect(1px 1px 1px 1px);clip: rect(1px, 1px, 1px, 1px);height: 1px;margin: -1px;overflow: hidden;padding: 0;position: absolute;width: 1px;}#sk-2abdf0e1-0c47-4bfe-b968-86c6cc88338c div.sk-estimator {font-family: monospace;background-color: #f0f8ff;border: 1px dotted black;border-radius: 0.25em;box-sizing: border-box;margin-bottom: 0.5em;}#sk-2abdf0e1-0c47-4bfe-b968-86c6cc88338c div.sk-estimator:hover {background-color: #d4ebff;}#sk-2abdf0e1-0c47-4bfe-b968-86c6cc88338c div.sk-parallel-item::after {content: \"\";width: 100%;border-bottom: 1px solid gray;flex-grow: 1;}#sk-2abdf0e1-0c47-4bfe-b968-86c6cc88338c div.sk-label:hover label.sk-toggleable__label {background-color: #d4ebff;}#sk-2abdf0e1-0c47-4bfe-b968-86c6cc88338c div.sk-serial::before {content: \"\";position: absolute;border-left: 1px solid gray;box-sizing: border-box;top: 2em;bottom: 0;left: 50%;}#sk-2abdf0e1-0c47-4bfe-b968-86c6cc88338c div.sk-serial {display: flex;flex-direction: column;align-items: center;background-color: white;padding-right: 0.2em;padding-left: 0.2em;}#sk-2abdf0e1-0c47-4bfe-b968-86c6cc88338c div.sk-item {z-index: 1;}#sk-2abdf0e1-0c47-4bfe-b968-86c6cc88338c div.sk-parallel {display: flex;align-items: stretch;justify-content: center;background-color: white;}#sk-2abdf0e1-0c47-4bfe-b968-86c6cc88338c div.sk-parallel::before {content: \"\";position: absolute;border-left: 1px solid gray;box-sizing: border-box;top: 2em;bottom: 0;left: 50%;}#sk-2abdf0e1-0c47-4bfe-b968-86c6cc88338c div.sk-parallel-item {display: flex;flex-direction: column;position: relative;background-color: white;}#sk-2abdf0e1-0c47-4bfe-b968-86c6cc88338c div.sk-parallel-item:first-child::after {align-self: flex-end;width: 50%;}#sk-2abdf0e1-0c47-4bfe-b968-86c6cc88338c div.sk-parallel-item:last-child::after {align-self: flex-start;width: 50%;}#sk-2abdf0e1-0c47-4bfe-b968-86c6cc88338c div.sk-parallel-item:only-child::after {width: 0;}#sk-2abdf0e1-0c47-4bfe-b968-86c6cc88338c div.sk-dashed-wrapped {border: 1px dashed gray;margin: 0 0.4em 0.5em 0.4em;box-sizing: border-box;padding-bottom: 0.4em;background-color: white;position: relative;}#sk-2abdf0e1-0c47-4bfe-b968-86c6cc88338c div.sk-label label {font-family: monospace;font-weight: bold;background-color: white;display: inline-block;line-height: 1.2em;}#sk-2abdf0e1-0c47-4bfe-b968-86c6cc88338c div.sk-label-container {position: relative;z-index: 2;text-align: center;}#sk-2abdf0e1-0c47-4bfe-b968-86c6cc88338c div.sk-container {/* jupyter's `normalize.less` sets `[hidden] { display: none; }` but bootstrap.min.css set `[hidden] { display: none !important; }` so we also need the `!important` here to be able to override the default hidden behavior on the sphinx rendered scikit-learn.org. See: https://github.com/scikit-learn/scikit-learn/issues/21755 */display: inline-block !important;position: relative;}#sk-2abdf0e1-0c47-4bfe-b968-86c6cc88338c div.sk-text-repr-fallback {display: none;}</style><div id=\"sk-2abdf0e1-0c47-4bfe-b968-86c6cc88338c\" class=\"sk-top-container\"><div class=\"sk-text-repr-fallback\"><pre>Pipeline(steps=[(&#x27;simpleimputer&#x27;, SimpleImputer(strategy=&#x27;most_frequent&#x27;)),\n",
              "                (&#x27;onehotencoder&#x27;,\n",
              "                 OneHotEncoder(handle_unknown=&#x27;ignore&#x27;, sparse=False))])</pre><b>Please rerun this cell to show the HTML repr or trust the notebook.</b></div><div class=\"sk-container\" hidden><div class=\"sk-item sk-dashed-wrapped\"><div class=\"sk-label-container\"><div class=\"sk-label sk-toggleable\"><input class=\"sk-toggleable__control sk-hidden--visually\" id=\"71c30bea-3b42-4047-84c8-c487d7cc1a12\" type=\"checkbox\" ><label for=\"71c30bea-3b42-4047-84c8-c487d7cc1a12\" class=\"sk-toggleable__label sk-toggleable__label-arrow\">Pipeline</label><div class=\"sk-toggleable__content\"><pre>Pipeline(steps=[(&#x27;simpleimputer&#x27;, SimpleImputer(strategy=&#x27;most_frequent&#x27;)),\n",
              "                (&#x27;onehotencoder&#x27;,\n",
              "                 OneHotEncoder(handle_unknown=&#x27;ignore&#x27;, sparse=False))])</pre></div></div></div><div class=\"sk-serial\"><div class=\"sk-item\"><div class=\"sk-estimator sk-toggleable\"><input class=\"sk-toggleable__control sk-hidden--visually\" id=\"d988132f-5630-443d-a912-5a5f5f1b8885\" type=\"checkbox\" ><label for=\"d988132f-5630-443d-a912-5a5f5f1b8885\" class=\"sk-toggleable__label sk-toggleable__label-arrow\">SimpleImputer</label><div class=\"sk-toggleable__content\"><pre>SimpleImputer(strategy=&#x27;most_frequent&#x27;)</pre></div></div></div><div class=\"sk-item\"><div class=\"sk-estimator sk-toggleable\"><input class=\"sk-toggleable__control sk-hidden--visually\" id=\"7a0a9435-1bf3-4a83-98cf-9989bde26c74\" type=\"checkbox\" ><label for=\"7a0a9435-1bf3-4a83-98cf-9989bde26c74\" class=\"sk-toggleable__label sk-toggleable__label-arrow\">OneHotEncoder</label><div class=\"sk-toggleable__content\"><pre>OneHotEncoder(handle_unknown=&#x27;ignore&#x27;, sparse=False)</pre></div></div></div></div></div></div></div>"
            ]
          },
          "metadata": {},
          "execution_count": 200
        }
      ]
    },
    {
      "cell_type": "markdown",
      "source": [
        "## **Instantiate ColumnTransformer**"
      ],
      "metadata": {
        "id": "q2z_mmJ3K5Qm"
      }
    },
    {
      "cell_type": "code",
      "source": [
        "# Tuples for Column Transformer\n",
        "number_tuple = (numeric_pipe, num_selector)\n",
        "category_tuple = (categorical_pipe, cat_selector)\n",
        "\n",
        "# ColumnTransformer\n",
        "preprocessor = make_column_transformer(number_tuple, category_tuple, remainder='passthrough')\n",
        "preprocessor"
      ],
      "metadata": {
        "colab": {
          "base_uri": "https://localhost:8080/",
          "height": 149
        },
        "id": "5DMnYmlDK7rf",
        "outputId": "ca019c40-f05a-4a3a-8a35-8f76815f9b1f"
      },
      "execution_count": 201,
      "outputs": [
        {
          "output_type": "execute_result",
          "data": {
            "text/plain": [
              "ColumnTransformer(remainder='passthrough',\n",
              "                  transformers=[('pipeline-1',\n",
              "                                 Pipeline(steps=[('simpleimputer',\n",
              "                                                  SimpleImputer()),\n",
              "                                                 ('standardscaler',\n",
              "                                                  StandardScaler())]),\n",
              "                                 <sklearn.compose._column_transformer.make_column_selector object at 0x7ff374574a30>),\n",
              "                                ('pipeline-2',\n",
              "                                 Pipeline(steps=[('simpleimputer',\n",
              "                                                  SimpleImputer(strategy='most_frequent')),\n",
              "                                                 ('onehotencoder',\n",
              "                                                  OneHotEncoder(handle_unknown='ignore',\n",
              "                                                                sparse=False))]),\n",
              "                                 <sklearn.compose._column_transformer.make_column_selector object at 0x7ff374574cd0>)])"
            ],
            "text/html": [
              "<style>#sk-8fb071dc-4939-4fdc-8501-a044645dd95d {color: black;background-color: white;}#sk-8fb071dc-4939-4fdc-8501-a044645dd95d pre{padding: 0;}#sk-8fb071dc-4939-4fdc-8501-a044645dd95d div.sk-toggleable {background-color: white;}#sk-8fb071dc-4939-4fdc-8501-a044645dd95d label.sk-toggleable__label {cursor: pointer;display: block;width: 100%;margin-bottom: 0;padding: 0.3em;box-sizing: border-box;text-align: center;}#sk-8fb071dc-4939-4fdc-8501-a044645dd95d label.sk-toggleable__label-arrow:before {content: \"▸\";float: left;margin-right: 0.25em;color: #696969;}#sk-8fb071dc-4939-4fdc-8501-a044645dd95d label.sk-toggleable__label-arrow:hover:before {color: black;}#sk-8fb071dc-4939-4fdc-8501-a044645dd95d div.sk-estimator:hover label.sk-toggleable__label-arrow:before {color: black;}#sk-8fb071dc-4939-4fdc-8501-a044645dd95d div.sk-toggleable__content {max-height: 0;max-width: 0;overflow: hidden;text-align: left;background-color: #f0f8ff;}#sk-8fb071dc-4939-4fdc-8501-a044645dd95d div.sk-toggleable__content pre {margin: 0.2em;color: black;border-radius: 0.25em;background-color: #f0f8ff;}#sk-8fb071dc-4939-4fdc-8501-a044645dd95d input.sk-toggleable__control:checked~div.sk-toggleable__content {max-height: 200px;max-width: 100%;overflow: auto;}#sk-8fb071dc-4939-4fdc-8501-a044645dd95d input.sk-toggleable__control:checked~label.sk-toggleable__label-arrow:before {content: \"▾\";}#sk-8fb071dc-4939-4fdc-8501-a044645dd95d div.sk-estimator input.sk-toggleable__control:checked~label.sk-toggleable__label {background-color: #d4ebff;}#sk-8fb071dc-4939-4fdc-8501-a044645dd95d div.sk-label input.sk-toggleable__control:checked~label.sk-toggleable__label {background-color: #d4ebff;}#sk-8fb071dc-4939-4fdc-8501-a044645dd95d input.sk-hidden--visually {border: 0;clip: rect(1px 1px 1px 1px);clip: rect(1px, 1px, 1px, 1px);height: 1px;margin: -1px;overflow: hidden;padding: 0;position: absolute;width: 1px;}#sk-8fb071dc-4939-4fdc-8501-a044645dd95d div.sk-estimator {font-family: monospace;background-color: #f0f8ff;border: 1px dotted black;border-radius: 0.25em;box-sizing: border-box;margin-bottom: 0.5em;}#sk-8fb071dc-4939-4fdc-8501-a044645dd95d div.sk-estimator:hover {background-color: #d4ebff;}#sk-8fb071dc-4939-4fdc-8501-a044645dd95d div.sk-parallel-item::after {content: \"\";width: 100%;border-bottom: 1px solid gray;flex-grow: 1;}#sk-8fb071dc-4939-4fdc-8501-a044645dd95d div.sk-label:hover label.sk-toggleable__label {background-color: #d4ebff;}#sk-8fb071dc-4939-4fdc-8501-a044645dd95d div.sk-serial::before {content: \"\";position: absolute;border-left: 1px solid gray;box-sizing: border-box;top: 2em;bottom: 0;left: 50%;}#sk-8fb071dc-4939-4fdc-8501-a044645dd95d div.sk-serial {display: flex;flex-direction: column;align-items: center;background-color: white;padding-right: 0.2em;padding-left: 0.2em;}#sk-8fb071dc-4939-4fdc-8501-a044645dd95d div.sk-item {z-index: 1;}#sk-8fb071dc-4939-4fdc-8501-a044645dd95d div.sk-parallel {display: flex;align-items: stretch;justify-content: center;background-color: white;}#sk-8fb071dc-4939-4fdc-8501-a044645dd95d div.sk-parallel::before {content: \"\";position: absolute;border-left: 1px solid gray;box-sizing: border-box;top: 2em;bottom: 0;left: 50%;}#sk-8fb071dc-4939-4fdc-8501-a044645dd95d div.sk-parallel-item {display: flex;flex-direction: column;position: relative;background-color: white;}#sk-8fb071dc-4939-4fdc-8501-a044645dd95d div.sk-parallel-item:first-child::after {align-self: flex-end;width: 50%;}#sk-8fb071dc-4939-4fdc-8501-a044645dd95d div.sk-parallel-item:last-child::after {align-self: flex-start;width: 50%;}#sk-8fb071dc-4939-4fdc-8501-a044645dd95d div.sk-parallel-item:only-child::after {width: 0;}#sk-8fb071dc-4939-4fdc-8501-a044645dd95d div.sk-dashed-wrapped {border: 1px dashed gray;margin: 0 0.4em 0.5em 0.4em;box-sizing: border-box;padding-bottom: 0.4em;background-color: white;position: relative;}#sk-8fb071dc-4939-4fdc-8501-a044645dd95d div.sk-label label {font-family: monospace;font-weight: bold;background-color: white;display: inline-block;line-height: 1.2em;}#sk-8fb071dc-4939-4fdc-8501-a044645dd95d div.sk-label-container {position: relative;z-index: 2;text-align: center;}#sk-8fb071dc-4939-4fdc-8501-a044645dd95d div.sk-container {/* jupyter's `normalize.less` sets `[hidden] { display: none; }` but bootstrap.min.css set `[hidden] { display: none !important; }` so we also need the `!important` here to be able to override the default hidden behavior on the sphinx rendered scikit-learn.org. See: https://github.com/scikit-learn/scikit-learn/issues/21755 */display: inline-block !important;position: relative;}#sk-8fb071dc-4939-4fdc-8501-a044645dd95d div.sk-text-repr-fallback {display: none;}</style><div id=\"sk-8fb071dc-4939-4fdc-8501-a044645dd95d\" class=\"sk-top-container\"><div class=\"sk-text-repr-fallback\"><pre>ColumnTransformer(remainder=&#x27;passthrough&#x27;,\n",
              "                  transformers=[(&#x27;pipeline-1&#x27;,\n",
              "                                 Pipeline(steps=[(&#x27;simpleimputer&#x27;,\n",
              "                                                  SimpleImputer()),\n",
              "                                                 (&#x27;standardscaler&#x27;,\n",
              "                                                  StandardScaler())]),\n",
              "                                 &lt;sklearn.compose._column_transformer.make_column_selector object at 0x7ff374574a30&gt;),\n",
              "                                (&#x27;pipeline-2&#x27;,\n",
              "                                 Pipeline(steps=[(&#x27;simpleimputer&#x27;,\n",
              "                                                  SimpleImputer(strategy=&#x27;most_frequent&#x27;)),\n",
              "                                                 (&#x27;onehotencoder&#x27;,\n",
              "                                                  OneHotEncoder(handle_unknown=&#x27;ignore&#x27;,\n",
              "                                                                sparse=False))]),\n",
              "                                 &lt;sklearn.compose._column_transformer.make_column_selector object at 0x7ff374574cd0&gt;)])</pre><b>Please rerun this cell to show the HTML repr or trust the notebook.</b></div><div class=\"sk-container\" hidden><div class=\"sk-item sk-dashed-wrapped\"><div class=\"sk-label-container\"><div class=\"sk-label sk-toggleable\"><input class=\"sk-toggleable__control sk-hidden--visually\" id=\"4100dee3-f206-43e5-843b-f5ab10f0410b\" type=\"checkbox\" ><label for=\"4100dee3-f206-43e5-843b-f5ab10f0410b\" class=\"sk-toggleable__label sk-toggleable__label-arrow\">ColumnTransformer</label><div class=\"sk-toggleable__content\"><pre>ColumnTransformer(remainder=&#x27;passthrough&#x27;,\n",
              "                  transformers=[(&#x27;pipeline-1&#x27;,\n",
              "                                 Pipeline(steps=[(&#x27;simpleimputer&#x27;,\n",
              "                                                  SimpleImputer()),\n",
              "                                                 (&#x27;standardscaler&#x27;,\n",
              "                                                  StandardScaler())]),\n",
              "                                 &lt;sklearn.compose._column_transformer.make_column_selector object at 0x7ff374574a30&gt;),\n",
              "                                (&#x27;pipeline-2&#x27;,\n",
              "                                 Pipeline(steps=[(&#x27;simpleimputer&#x27;,\n",
              "                                                  SimpleImputer(strategy=&#x27;most_frequent&#x27;)),\n",
              "                                                 (&#x27;onehotencoder&#x27;,\n",
              "                                                  OneHotEncoder(handle_unknown=&#x27;ignore&#x27;,\n",
              "                                                                sparse=False))]),\n",
              "                                 &lt;sklearn.compose._column_transformer.make_column_selector object at 0x7ff374574cd0&gt;)])</pre></div></div></div><div class=\"sk-parallel\"><div class=\"sk-parallel-item\"><div class=\"sk-item\"><div class=\"sk-label-container\"><div class=\"sk-label sk-toggleable\"><input class=\"sk-toggleable__control sk-hidden--visually\" id=\"b52d7460-49b6-4667-974e-70a5fc3a62d0\" type=\"checkbox\" ><label for=\"b52d7460-49b6-4667-974e-70a5fc3a62d0\" class=\"sk-toggleable__label sk-toggleable__label-arrow\">pipeline-1</label><div class=\"sk-toggleable__content\"><pre>&lt;sklearn.compose._column_transformer.make_column_selector object at 0x7ff374574a30&gt;</pre></div></div></div><div class=\"sk-serial\"><div class=\"sk-item\"><div class=\"sk-serial\"><div class=\"sk-item\"><div class=\"sk-estimator sk-toggleable\"><input class=\"sk-toggleable__control sk-hidden--visually\" id=\"d47ba569-0c01-4791-bd72-e9c780d3630f\" type=\"checkbox\" ><label for=\"d47ba569-0c01-4791-bd72-e9c780d3630f\" class=\"sk-toggleable__label sk-toggleable__label-arrow\">SimpleImputer</label><div class=\"sk-toggleable__content\"><pre>SimpleImputer()</pre></div></div></div><div class=\"sk-item\"><div class=\"sk-estimator sk-toggleable\"><input class=\"sk-toggleable__control sk-hidden--visually\" id=\"8ffea7d8-5854-4563-94bd-566610ee2943\" type=\"checkbox\" ><label for=\"8ffea7d8-5854-4563-94bd-566610ee2943\" class=\"sk-toggleable__label sk-toggleable__label-arrow\">StandardScaler</label><div class=\"sk-toggleable__content\"><pre>StandardScaler()</pre></div></div></div></div></div></div></div></div><div class=\"sk-parallel-item\"><div class=\"sk-item\"><div class=\"sk-label-container\"><div class=\"sk-label sk-toggleable\"><input class=\"sk-toggleable__control sk-hidden--visually\" id=\"0477c596-a2ff-4b8e-b233-f3e1751fbcbe\" type=\"checkbox\" ><label for=\"0477c596-a2ff-4b8e-b233-f3e1751fbcbe\" class=\"sk-toggleable__label sk-toggleable__label-arrow\">pipeline-2</label><div class=\"sk-toggleable__content\"><pre>&lt;sklearn.compose._column_transformer.make_column_selector object at 0x7ff374574cd0&gt;</pre></div></div></div><div class=\"sk-serial\"><div class=\"sk-item\"><div class=\"sk-serial\"><div class=\"sk-item\"><div class=\"sk-estimator sk-toggleable\"><input class=\"sk-toggleable__control sk-hidden--visually\" id=\"ba1c485c-4d03-4326-81d6-d9e89e1a02fd\" type=\"checkbox\" ><label for=\"ba1c485c-4d03-4326-81d6-d9e89e1a02fd\" class=\"sk-toggleable__label sk-toggleable__label-arrow\">SimpleImputer</label><div class=\"sk-toggleable__content\"><pre>SimpleImputer(strategy=&#x27;most_frequent&#x27;)</pre></div></div></div><div class=\"sk-item\"><div class=\"sk-estimator sk-toggleable\"><input class=\"sk-toggleable__control sk-hidden--visually\" id=\"9d542b57-9d44-4e3f-9643-892b37acf1b9\" type=\"checkbox\" ><label for=\"9d542b57-9d44-4e3f-9643-892b37acf1b9\" class=\"sk-toggleable__label sk-toggleable__label-arrow\">OneHotEncoder</label><div class=\"sk-toggleable__content\"><pre>OneHotEncoder(handle_unknown=&#x27;ignore&#x27;, sparse=False)</pre></div></div></div></div></div></div></div></div><div class=\"sk-parallel-item\"><div class=\"sk-item\"><div class=\"sk-label-container\"><div class=\"sk-label sk-toggleable\"><input class=\"sk-toggleable__control sk-hidden--visually\" id=\"df2a31de-aff6-4bf0-87e6-c0841f671026\" type=\"checkbox\" ><label for=\"df2a31de-aff6-4bf0-87e6-c0841f671026\" class=\"sk-toggleable__label sk-toggleable__label-arrow\">remainder</label><div class=\"sk-toggleable__content\"><pre></pre></div></div></div><div class=\"sk-serial\"><div class=\"sk-item\"><div class=\"sk-estimator sk-toggleable\"><input class=\"sk-toggleable__control sk-hidden--visually\" id=\"01a40d9f-255f-43da-8aaf-f2f86457e970\" type=\"checkbox\" ><label for=\"01a40d9f-255f-43da-8aaf-f2f86457e970\" class=\"sk-toggleable__label sk-toggleable__label-arrow\">passthrough</label><div class=\"sk-toggleable__content\"><pre>passthrough</pre></div></div></div></div></div></div></div></div></div></div>"
            ]
          },
          "metadata": {},
          "execution_count": 201
        }
      ]
    },
    {
      "cell_type": "markdown",
      "source": [
        "## **Fit Preprocessor**\n",
        "\n",
        "- All preprocessing steps should be contained within a single preprocessing object\n",
        "- We fit the ColumnTransformer, which we called 'preprocessor' on the training data. **(Never on testing data!)**"
      ],
      "metadata": {
        "id": "tCdc2FCGLBVj"
      }
    },
    {
      "cell_type": "code",
      "source": [
        "# fit on train\n",
        "preprocessor.fit(X_train)"
      ],
      "metadata": {
        "colab": {
          "base_uri": "https://localhost:8080/",
          "height": 149
        },
        "id": "9QodvVdPLFPE",
        "outputId": "f765ea71-fa17-40c6-abf0-474ee97b28a6"
      },
      "execution_count": 202,
      "outputs": [
        {
          "output_type": "execute_result",
          "data": {
            "text/plain": [
              "ColumnTransformer(remainder='passthrough',\n",
              "                  transformers=[('pipeline-1',\n",
              "                                 Pipeline(steps=[('simpleimputer',\n",
              "                                                  SimpleImputer()),\n",
              "                                                 ('standardscaler',\n",
              "                                                  StandardScaler())]),\n",
              "                                 <sklearn.compose._column_transformer.make_column_selector object at 0x7ff374574a30>),\n",
              "                                ('pipeline-2',\n",
              "                                 Pipeline(steps=[('simpleimputer',\n",
              "                                                  SimpleImputer(strategy='most_frequent')),\n",
              "                                                 ('onehotencoder',\n",
              "                                                  OneHotEncoder(handle_unknown='ignore',\n",
              "                                                                sparse=False))]),\n",
              "                                 <sklearn.compose._column_transformer.make_column_selector object at 0x7ff374574cd0>)])"
            ],
            "text/html": [
              "<style>#sk-9c02755a-6c7f-4fb5-a42c-00cd738ba5ce {color: black;background-color: white;}#sk-9c02755a-6c7f-4fb5-a42c-00cd738ba5ce pre{padding: 0;}#sk-9c02755a-6c7f-4fb5-a42c-00cd738ba5ce div.sk-toggleable {background-color: white;}#sk-9c02755a-6c7f-4fb5-a42c-00cd738ba5ce label.sk-toggleable__label {cursor: pointer;display: block;width: 100%;margin-bottom: 0;padding: 0.3em;box-sizing: border-box;text-align: center;}#sk-9c02755a-6c7f-4fb5-a42c-00cd738ba5ce label.sk-toggleable__label-arrow:before {content: \"▸\";float: left;margin-right: 0.25em;color: #696969;}#sk-9c02755a-6c7f-4fb5-a42c-00cd738ba5ce label.sk-toggleable__label-arrow:hover:before {color: black;}#sk-9c02755a-6c7f-4fb5-a42c-00cd738ba5ce div.sk-estimator:hover label.sk-toggleable__label-arrow:before {color: black;}#sk-9c02755a-6c7f-4fb5-a42c-00cd738ba5ce div.sk-toggleable__content {max-height: 0;max-width: 0;overflow: hidden;text-align: left;background-color: #f0f8ff;}#sk-9c02755a-6c7f-4fb5-a42c-00cd738ba5ce div.sk-toggleable__content pre {margin: 0.2em;color: black;border-radius: 0.25em;background-color: #f0f8ff;}#sk-9c02755a-6c7f-4fb5-a42c-00cd738ba5ce input.sk-toggleable__control:checked~div.sk-toggleable__content {max-height: 200px;max-width: 100%;overflow: auto;}#sk-9c02755a-6c7f-4fb5-a42c-00cd738ba5ce input.sk-toggleable__control:checked~label.sk-toggleable__label-arrow:before {content: \"▾\";}#sk-9c02755a-6c7f-4fb5-a42c-00cd738ba5ce div.sk-estimator input.sk-toggleable__control:checked~label.sk-toggleable__label {background-color: #d4ebff;}#sk-9c02755a-6c7f-4fb5-a42c-00cd738ba5ce div.sk-label input.sk-toggleable__control:checked~label.sk-toggleable__label {background-color: #d4ebff;}#sk-9c02755a-6c7f-4fb5-a42c-00cd738ba5ce input.sk-hidden--visually {border: 0;clip: rect(1px 1px 1px 1px);clip: rect(1px, 1px, 1px, 1px);height: 1px;margin: -1px;overflow: hidden;padding: 0;position: absolute;width: 1px;}#sk-9c02755a-6c7f-4fb5-a42c-00cd738ba5ce div.sk-estimator {font-family: monospace;background-color: #f0f8ff;border: 1px dotted black;border-radius: 0.25em;box-sizing: border-box;margin-bottom: 0.5em;}#sk-9c02755a-6c7f-4fb5-a42c-00cd738ba5ce div.sk-estimator:hover {background-color: #d4ebff;}#sk-9c02755a-6c7f-4fb5-a42c-00cd738ba5ce div.sk-parallel-item::after {content: \"\";width: 100%;border-bottom: 1px solid gray;flex-grow: 1;}#sk-9c02755a-6c7f-4fb5-a42c-00cd738ba5ce div.sk-label:hover label.sk-toggleable__label {background-color: #d4ebff;}#sk-9c02755a-6c7f-4fb5-a42c-00cd738ba5ce div.sk-serial::before {content: \"\";position: absolute;border-left: 1px solid gray;box-sizing: border-box;top: 2em;bottom: 0;left: 50%;}#sk-9c02755a-6c7f-4fb5-a42c-00cd738ba5ce div.sk-serial {display: flex;flex-direction: column;align-items: center;background-color: white;padding-right: 0.2em;padding-left: 0.2em;}#sk-9c02755a-6c7f-4fb5-a42c-00cd738ba5ce div.sk-item {z-index: 1;}#sk-9c02755a-6c7f-4fb5-a42c-00cd738ba5ce div.sk-parallel {display: flex;align-items: stretch;justify-content: center;background-color: white;}#sk-9c02755a-6c7f-4fb5-a42c-00cd738ba5ce div.sk-parallel::before {content: \"\";position: absolute;border-left: 1px solid gray;box-sizing: border-box;top: 2em;bottom: 0;left: 50%;}#sk-9c02755a-6c7f-4fb5-a42c-00cd738ba5ce div.sk-parallel-item {display: flex;flex-direction: column;position: relative;background-color: white;}#sk-9c02755a-6c7f-4fb5-a42c-00cd738ba5ce div.sk-parallel-item:first-child::after {align-self: flex-end;width: 50%;}#sk-9c02755a-6c7f-4fb5-a42c-00cd738ba5ce div.sk-parallel-item:last-child::after {align-self: flex-start;width: 50%;}#sk-9c02755a-6c7f-4fb5-a42c-00cd738ba5ce div.sk-parallel-item:only-child::after {width: 0;}#sk-9c02755a-6c7f-4fb5-a42c-00cd738ba5ce div.sk-dashed-wrapped {border: 1px dashed gray;margin: 0 0.4em 0.5em 0.4em;box-sizing: border-box;padding-bottom: 0.4em;background-color: white;position: relative;}#sk-9c02755a-6c7f-4fb5-a42c-00cd738ba5ce div.sk-label label {font-family: monospace;font-weight: bold;background-color: white;display: inline-block;line-height: 1.2em;}#sk-9c02755a-6c7f-4fb5-a42c-00cd738ba5ce div.sk-label-container {position: relative;z-index: 2;text-align: center;}#sk-9c02755a-6c7f-4fb5-a42c-00cd738ba5ce div.sk-container {/* jupyter's `normalize.less` sets `[hidden] { display: none; }` but bootstrap.min.css set `[hidden] { display: none !important; }` so we also need the `!important` here to be able to override the default hidden behavior on the sphinx rendered scikit-learn.org. See: https://github.com/scikit-learn/scikit-learn/issues/21755 */display: inline-block !important;position: relative;}#sk-9c02755a-6c7f-4fb5-a42c-00cd738ba5ce div.sk-text-repr-fallback {display: none;}</style><div id=\"sk-9c02755a-6c7f-4fb5-a42c-00cd738ba5ce\" class=\"sk-top-container\"><div class=\"sk-text-repr-fallback\"><pre>ColumnTransformer(remainder=&#x27;passthrough&#x27;,\n",
              "                  transformers=[(&#x27;pipeline-1&#x27;,\n",
              "                                 Pipeline(steps=[(&#x27;simpleimputer&#x27;,\n",
              "                                                  SimpleImputer()),\n",
              "                                                 (&#x27;standardscaler&#x27;,\n",
              "                                                  StandardScaler())]),\n",
              "                                 &lt;sklearn.compose._column_transformer.make_column_selector object at 0x7ff374574a30&gt;),\n",
              "                                (&#x27;pipeline-2&#x27;,\n",
              "                                 Pipeline(steps=[(&#x27;simpleimputer&#x27;,\n",
              "                                                  SimpleImputer(strategy=&#x27;most_frequent&#x27;)),\n",
              "                                                 (&#x27;onehotencoder&#x27;,\n",
              "                                                  OneHotEncoder(handle_unknown=&#x27;ignore&#x27;,\n",
              "                                                                sparse=False))]),\n",
              "                                 &lt;sklearn.compose._column_transformer.make_column_selector object at 0x7ff374574cd0&gt;)])</pre><b>Please rerun this cell to show the HTML repr or trust the notebook.</b></div><div class=\"sk-container\" hidden><div class=\"sk-item sk-dashed-wrapped\"><div class=\"sk-label-container\"><div class=\"sk-label sk-toggleable\"><input class=\"sk-toggleable__control sk-hidden--visually\" id=\"a72e5bb0-6981-40f1-b83f-4a36331325e8\" type=\"checkbox\" ><label for=\"a72e5bb0-6981-40f1-b83f-4a36331325e8\" class=\"sk-toggleable__label sk-toggleable__label-arrow\">ColumnTransformer</label><div class=\"sk-toggleable__content\"><pre>ColumnTransformer(remainder=&#x27;passthrough&#x27;,\n",
              "                  transformers=[(&#x27;pipeline-1&#x27;,\n",
              "                                 Pipeline(steps=[(&#x27;simpleimputer&#x27;,\n",
              "                                                  SimpleImputer()),\n",
              "                                                 (&#x27;standardscaler&#x27;,\n",
              "                                                  StandardScaler())]),\n",
              "                                 &lt;sklearn.compose._column_transformer.make_column_selector object at 0x7ff374574a30&gt;),\n",
              "                                (&#x27;pipeline-2&#x27;,\n",
              "                                 Pipeline(steps=[(&#x27;simpleimputer&#x27;,\n",
              "                                                  SimpleImputer(strategy=&#x27;most_frequent&#x27;)),\n",
              "                                                 (&#x27;onehotencoder&#x27;,\n",
              "                                                  OneHotEncoder(handle_unknown=&#x27;ignore&#x27;,\n",
              "                                                                sparse=False))]),\n",
              "                                 &lt;sklearn.compose._column_transformer.make_column_selector object at 0x7ff374574cd0&gt;)])</pre></div></div></div><div class=\"sk-parallel\"><div class=\"sk-parallel-item\"><div class=\"sk-item\"><div class=\"sk-label-container\"><div class=\"sk-label sk-toggleable\"><input class=\"sk-toggleable__control sk-hidden--visually\" id=\"6687cb2d-1d3c-4005-912b-6e2087273551\" type=\"checkbox\" ><label for=\"6687cb2d-1d3c-4005-912b-6e2087273551\" class=\"sk-toggleable__label sk-toggleable__label-arrow\">pipeline-1</label><div class=\"sk-toggleable__content\"><pre>&lt;sklearn.compose._column_transformer.make_column_selector object at 0x7ff374574a30&gt;</pre></div></div></div><div class=\"sk-serial\"><div class=\"sk-item\"><div class=\"sk-serial\"><div class=\"sk-item\"><div class=\"sk-estimator sk-toggleable\"><input class=\"sk-toggleable__control sk-hidden--visually\" id=\"c51dea48-2e45-4000-a890-bbb2a6b1a04f\" type=\"checkbox\" ><label for=\"c51dea48-2e45-4000-a890-bbb2a6b1a04f\" class=\"sk-toggleable__label sk-toggleable__label-arrow\">SimpleImputer</label><div class=\"sk-toggleable__content\"><pre>SimpleImputer()</pre></div></div></div><div class=\"sk-item\"><div class=\"sk-estimator sk-toggleable\"><input class=\"sk-toggleable__control sk-hidden--visually\" id=\"2c2d8e53-7f10-4111-b440-70e4436154dd\" type=\"checkbox\" ><label for=\"2c2d8e53-7f10-4111-b440-70e4436154dd\" class=\"sk-toggleable__label sk-toggleable__label-arrow\">StandardScaler</label><div class=\"sk-toggleable__content\"><pre>StandardScaler()</pre></div></div></div></div></div></div></div></div><div class=\"sk-parallel-item\"><div class=\"sk-item\"><div class=\"sk-label-container\"><div class=\"sk-label sk-toggleable\"><input class=\"sk-toggleable__control sk-hidden--visually\" id=\"5167840b-4810-473c-8403-b712674f6c47\" type=\"checkbox\" ><label for=\"5167840b-4810-473c-8403-b712674f6c47\" class=\"sk-toggleable__label sk-toggleable__label-arrow\">pipeline-2</label><div class=\"sk-toggleable__content\"><pre>&lt;sklearn.compose._column_transformer.make_column_selector object at 0x7ff374574cd0&gt;</pre></div></div></div><div class=\"sk-serial\"><div class=\"sk-item\"><div class=\"sk-serial\"><div class=\"sk-item\"><div class=\"sk-estimator sk-toggleable\"><input class=\"sk-toggleable__control sk-hidden--visually\" id=\"4c83eb8e-e05f-4201-b472-7f3be998b62a\" type=\"checkbox\" ><label for=\"4c83eb8e-e05f-4201-b472-7f3be998b62a\" class=\"sk-toggleable__label sk-toggleable__label-arrow\">SimpleImputer</label><div class=\"sk-toggleable__content\"><pre>SimpleImputer(strategy=&#x27;most_frequent&#x27;)</pre></div></div></div><div class=\"sk-item\"><div class=\"sk-estimator sk-toggleable\"><input class=\"sk-toggleable__control sk-hidden--visually\" id=\"7c4dec57-9837-4536-8412-e0030b1137e2\" type=\"checkbox\" ><label for=\"7c4dec57-9837-4536-8412-e0030b1137e2\" class=\"sk-toggleable__label sk-toggleable__label-arrow\">OneHotEncoder</label><div class=\"sk-toggleable__content\"><pre>OneHotEncoder(handle_unknown=&#x27;ignore&#x27;, sparse=False)</pre></div></div></div></div></div></div></div></div><div class=\"sk-parallel-item\"><div class=\"sk-item\"><div class=\"sk-label-container\"><div class=\"sk-label sk-toggleable\"><input class=\"sk-toggleable__control sk-hidden--visually\" id=\"bc5c9b3c-38b6-4e8c-8083-9afff8911127\" type=\"checkbox\" ><label for=\"bc5c9b3c-38b6-4e8c-8083-9afff8911127\" class=\"sk-toggleable__label sk-toggleable__label-arrow\">remainder</label><div class=\"sk-toggleable__content\"><pre>[]</pre></div></div></div><div class=\"sk-serial\"><div class=\"sk-item\"><div class=\"sk-estimator sk-toggleable\"><input class=\"sk-toggleable__control sk-hidden--visually\" id=\"3ff2ccf4-7765-4f11-bc8c-16997f38d11b\" type=\"checkbox\" ><label for=\"3ff2ccf4-7765-4f11-bc8c-16997f38d11b\" class=\"sk-toggleable__label sk-toggleable__label-arrow\">passthrough</label><div class=\"sk-toggleable__content\"><pre>passthrough</pre></div></div></div></div></div></div></div></div></div></div>"
            ]
          },
          "metadata": {},
          "execution_count": 202
        }
      ]
    },
    {
      "cell_type": "markdown",
      "source": [
        "## **Transform Data**"
      ],
      "metadata": {
        "id": "M9c68fPxLI8T"
      }
    },
    {
      "cell_type": "code",
      "source": [
        "# transform train and test\n",
        "X_train_processed = preprocessor.transform(X_train)\n",
        "X_test_processed = preprocessor.transform(X_test)"
      ],
      "metadata": {
        "id": "pALAd7f0LLff"
      },
      "execution_count": 203,
      "outputs": []
    },
    {
      "cell_type": "markdown",
      "source": [
        "## **Final**"
      ],
      "metadata": {
        "id": "bbHNlzg_Ne78"
      }
    },
    {
      "cell_type": "markdown",
      "source": [
        "### **Import Libraries**"
      ],
      "metadata": {
        "id": "69y_xzJ1Np7W"
      }
    },
    {
      "cell_type": "code",
      "source": [
        "## Models\n",
        "from sklearn.dummy import DummyRegressor\n",
        "from sklearn.linear_model import LinearRegression\n",
        "from sklearn.impute import SimpleImputer\n",
        "from sklearn.tree import DecisionTreeRegressor\n",
        "from sklearn.ensemble import RandomForestRegressor\n",
        "from sklearn.ensemble import BaggingRegressor\n",
        "     \n",
        "import sklearn.metrics as metrics\n",
        "\n",
        "## Regression Metrics\n",
        "from sklearn.metrics import r2_score\n",
        "from sklearn.metrics import mean_absolute_error\n",
        "from sklearn.metrics import mean_squared_error"
      ],
      "metadata": {
        "id": "zwKkBrxLNvUN"
      },
      "execution_count": 273,
      "outputs": []
    },
    {
      "cell_type": "markdown",
      "source": [
        "### **Function**"
      ],
      "metadata": {
        "id": "cDEapHQVN8p5"
      }
    },
    {
      "cell_type": "code",
      "source": [
        "## Create a function to take the true and predicted values\n",
        "## and print MAE, MSE, RMSE, and R2 metrics\n",
        "def model_metrics(pipe, x_train, y_train, x_test, y_test, \n",
        "                       model_name='Regression Model', ):\n",
        "  ## Train\n",
        "  mae = round(mean_absolute_error(y_train, pipe.predict(x_train)),4)\n",
        "  mse = round(mean_squared_error(y_train, pipe.predict(x_train)),4)\n",
        "  rmse = round(np.sqrt(mean_squared_error(y_train, pipe.predict(x_train))),4)\n",
        "  r2 = round(r2_score(y_train, pipe.predict(x_train)),7)\n",
        "  print(f'{model_name} Train Scores')\n",
        "  print(f'MAE: {mae:,.4f} \\nMSE: {mse:,.4f} \\nRMSE: {rmse:,.4f} \\nR2: {r2:,.4f}\\n')\n",
        "\n",
        "  ## Test\n",
        "  mae = round(mean_absolute_error(y_test, pipe.predict(x_test)),4)\n",
        "  mse = round(mean_squared_error(y_test, pipe.predict(x_test)),4)\n",
        "  rmse = round(np.sqrt(mean_squared_error(y_test, pipe.predict(x_test))),4)\n",
        "  r2 = round(r2_score(y_test, pipe.predict(x_test)),7)\n",
        "\n",
        "  ## Display the metrics for the model\n",
        "  print(f'{model_name} Test Scores')\n",
        "  print(f'MAE: {mae:,.4f} \\nMSE: {mse:,.4f} \\nRMSE: {rmse:,.4f} \\nR2: {r2:,.4f}\\n')"
      ],
      "metadata": {
        "id": "MIH01bhBPN4h"
      },
      "execution_count": 249,
      "outputs": []
    },
    {
      "cell_type": "markdown",
      "source": [
        "### **Load Data**"
      ],
      "metadata": {
        "id": "WRWVA7TcPQAn"
      }
    },
    {
      "cell_type": "code",
      "source": [
        "path = '/content/drive/MyDrive/sales_predictions.csv'\n",
        "df = pd.read_csv(path)\n",
        "df.head()"
      ],
      "metadata": {
        "colab": {
          "base_uri": "https://localhost:8080/",
          "height": 353
        },
        "id": "qzsDGlM0QPJp",
        "outputId": "462f6ccc-dc13-4946-b276-55edeac20d4d"
      },
      "execution_count": 250,
      "outputs": [
        {
          "output_type": "execute_result",
          "data": {
            "text/plain": [
              "  Item_Identifier  Item_Weight Item_Fat_Content  Item_Visibility  \\\n",
              "0           FDA15         9.30          Low Fat         0.016047   \n",
              "1           DRC01         5.92          Regular         0.019278   \n",
              "2           FDN15        17.50          Low Fat         0.016760   \n",
              "3           FDX07        19.20          Regular         0.000000   \n",
              "4           NCD19         8.93          Low Fat         0.000000   \n",
              "\n",
              "               Item_Type  Item_MRP Outlet_Identifier  \\\n",
              "0                  Dairy  249.8092            OUT049   \n",
              "1            Soft Drinks   48.2692            OUT018   \n",
              "2                   Meat  141.6180            OUT049   \n",
              "3  Fruits and Vegetables  182.0950            OUT010   \n",
              "4              Household   53.8614            OUT013   \n",
              "\n",
              "   Outlet_Establishment_Year Outlet_Size Outlet_Location_Type  \\\n",
              "0                       1999      Medium               Tier 1   \n",
              "1                       2009      Medium               Tier 3   \n",
              "2                       1999      Medium               Tier 1   \n",
              "3                       1998         NaN               Tier 3   \n",
              "4                       1987        High               Tier 3   \n",
              "\n",
              "         Outlet_Type  Item_Outlet_Sales  \n",
              "0  Supermarket Type1          3735.1380  \n",
              "1  Supermarket Type2           443.4228  \n",
              "2  Supermarket Type1          2097.2700  \n",
              "3      Grocery Store           732.3800  \n",
              "4  Supermarket Type1           994.7052  "
            ],
            "text/html": [
              "\n",
              "  <div id=\"df-e0f790f4-8794-4eba-a242-2ac9f98f472a\">\n",
              "    <div class=\"colab-df-container\">\n",
              "      <div>\n",
              "<style scoped>\n",
              "    .dataframe tbody tr th:only-of-type {\n",
              "        vertical-align: middle;\n",
              "    }\n",
              "\n",
              "    .dataframe tbody tr th {\n",
              "        vertical-align: top;\n",
              "    }\n",
              "\n",
              "    .dataframe thead th {\n",
              "        text-align: right;\n",
              "    }\n",
              "</style>\n",
              "<table border=\"1\" class=\"dataframe\">\n",
              "  <thead>\n",
              "    <tr style=\"text-align: right;\">\n",
              "      <th></th>\n",
              "      <th>Item_Identifier</th>\n",
              "      <th>Item_Weight</th>\n",
              "      <th>Item_Fat_Content</th>\n",
              "      <th>Item_Visibility</th>\n",
              "      <th>Item_Type</th>\n",
              "      <th>Item_MRP</th>\n",
              "      <th>Outlet_Identifier</th>\n",
              "      <th>Outlet_Establishment_Year</th>\n",
              "      <th>Outlet_Size</th>\n",
              "      <th>Outlet_Location_Type</th>\n",
              "      <th>Outlet_Type</th>\n",
              "      <th>Item_Outlet_Sales</th>\n",
              "    </tr>\n",
              "  </thead>\n",
              "  <tbody>\n",
              "    <tr>\n",
              "      <th>0</th>\n",
              "      <td>FDA15</td>\n",
              "      <td>9.30</td>\n",
              "      <td>Low Fat</td>\n",
              "      <td>0.016047</td>\n",
              "      <td>Dairy</td>\n",
              "      <td>249.8092</td>\n",
              "      <td>OUT049</td>\n",
              "      <td>1999</td>\n",
              "      <td>Medium</td>\n",
              "      <td>Tier 1</td>\n",
              "      <td>Supermarket Type1</td>\n",
              "      <td>3735.1380</td>\n",
              "    </tr>\n",
              "    <tr>\n",
              "      <th>1</th>\n",
              "      <td>DRC01</td>\n",
              "      <td>5.92</td>\n",
              "      <td>Regular</td>\n",
              "      <td>0.019278</td>\n",
              "      <td>Soft Drinks</td>\n",
              "      <td>48.2692</td>\n",
              "      <td>OUT018</td>\n",
              "      <td>2009</td>\n",
              "      <td>Medium</td>\n",
              "      <td>Tier 3</td>\n",
              "      <td>Supermarket Type2</td>\n",
              "      <td>443.4228</td>\n",
              "    </tr>\n",
              "    <tr>\n",
              "      <th>2</th>\n",
              "      <td>FDN15</td>\n",
              "      <td>17.50</td>\n",
              "      <td>Low Fat</td>\n",
              "      <td>0.016760</td>\n",
              "      <td>Meat</td>\n",
              "      <td>141.6180</td>\n",
              "      <td>OUT049</td>\n",
              "      <td>1999</td>\n",
              "      <td>Medium</td>\n",
              "      <td>Tier 1</td>\n",
              "      <td>Supermarket Type1</td>\n",
              "      <td>2097.2700</td>\n",
              "    </tr>\n",
              "    <tr>\n",
              "      <th>3</th>\n",
              "      <td>FDX07</td>\n",
              "      <td>19.20</td>\n",
              "      <td>Regular</td>\n",
              "      <td>0.000000</td>\n",
              "      <td>Fruits and Vegetables</td>\n",
              "      <td>182.0950</td>\n",
              "      <td>OUT010</td>\n",
              "      <td>1998</td>\n",
              "      <td>NaN</td>\n",
              "      <td>Tier 3</td>\n",
              "      <td>Grocery Store</td>\n",
              "      <td>732.3800</td>\n",
              "    </tr>\n",
              "    <tr>\n",
              "      <th>4</th>\n",
              "      <td>NCD19</td>\n",
              "      <td>8.93</td>\n",
              "      <td>Low Fat</td>\n",
              "      <td>0.000000</td>\n",
              "      <td>Household</td>\n",
              "      <td>53.8614</td>\n",
              "      <td>OUT013</td>\n",
              "      <td>1987</td>\n",
              "      <td>High</td>\n",
              "      <td>Tier 3</td>\n",
              "      <td>Supermarket Type1</td>\n",
              "      <td>994.7052</td>\n",
              "    </tr>\n",
              "  </tbody>\n",
              "</table>\n",
              "</div>\n",
              "      <button class=\"colab-df-convert\" onclick=\"convertToInteractive('df-e0f790f4-8794-4eba-a242-2ac9f98f472a')\"\n",
              "              title=\"Convert this dataframe to an interactive table.\"\n",
              "              style=\"display:none;\">\n",
              "        \n",
              "  <svg xmlns=\"http://www.w3.org/2000/svg\" height=\"24px\"viewBox=\"0 0 24 24\"\n",
              "       width=\"24px\">\n",
              "    <path d=\"M0 0h24v24H0V0z\" fill=\"none\"/>\n",
              "    <path d=\"M18.56 5.44l.94 2.06.94-2.06 2.06-.94-2.06-.94-.94-2.06-.94 2.06-2.06.94zm-11 1L8.5 8.5l.94-2.06 2.06-.94-2.06-.94L8.5 2.5l-.94 2.06-2.06.94zm10 10l.94 2.06.94-2.06 2.06-.94-2.06-.94-.94-2.06-.94 2.06-2.06.94z\"/><path d=\"M17.41 7.96l-1.37-1.37c-.4-.4-.92-.59-1.43-.59-.52 0-1.04.2-1.43.59L10.3 9.45l-7.72 7.72c-.78.78-.78 2.05 0 2.83L4 21.41c.39.39.9.59 1.41.59.51 0 1.02-.2 1.41-.59l7.78-7.78 2.81-2.81c.8-.78.8-2.07 0-2.86zM5.41 20L4 18.59l7.72-7.72 1.47 1.35L5.41 20z\"/>\n",
              "  </svg>\n",
              "      </button>\n",
              "      \n",
              "  <style>\n",
              "    .colab-df-container {\n",
              "      display:flex;\n",
              "      flex-wrap:wrap;\n",
              "      gap: 12px;\n",
              "    }\n",
              "\n",
              "    .colab-df-convert {\n",
              "      background-color: #E8F0FE;\n",
              "      border: none;\n",
              "      border-radius: 50%;\n",
              "      cursor: pointer;\n",
              "      display: none;\n",
              "      fill: #1967D2;\n",
              "      height: 32px;\n",
              "      padding: 0 0 0 0;\n",
              "      width: 32px;\n",
              "    }\n",
              "\n",
              "    .colab-df-convert:hover {\n",
              "      background-color: #E2EBFA;\n",
              "      box-shadow: 0px 1px 2px rgba(60, 64, 67, 0.3), 0px 1px 3px 1px rgba(60, 64, 67, 0.15);\n",
              "      fill: #174EA6;\n",
              "    }\n",
              "\n",
              "    [theme=dark] .colab-df-convert {\n",
              "      background-color: #3B4455;\n",
              "      fill: #D2E3FC;\n",
              "    }\n",
              "\n",
              "    [theme=dark] .colab-df-convert:hover {\n",
              "      background-color: #434B5C;\n",
              "      box-shadow: 0px 1px 3px 1px rgba(0, 0, 0, 0.15);\n",
              "      filter: drop-shadow(0px 1px 2px rgba(0, 0, 0, 0.3));\n",
              "      fill: #FFFFFF;\n",
              "    }\n",
              "  </style>\n",
              "\n",
              "      <script>\n",
              "        const buttonEl =\n",
              "          document.querySelector('#df-e0f790f4-8794-4eba-a242-2ac9f98f472a button.colab-df-convert');\n",
              "        buttonEl.style.display =\n",
              "          google.colab.kernel.accessAllowed ? 'block' : 'none';\n",
              "\n",
              "        async function convertToInteractive(key) {\n",
              "          const element = document.querySelector('#df-e0f790f4-8794-4eba-a242-2ac9f98f472a');\n",
              "          const dataTable =\n",
              "            await google.colab.kernel.invokeFunction('convertToInteractive',\n",
              "                                                     [key], {});\n",
              "          if (!dataTable) return;\n",
              "\n",
              "          const docLinkHtml = 'Like what you see? Visit the ' +\n",
              "            '<a target=\"_blank\" href=https://colab.research.google.com/notebooks/data_table.ipynb>data table notebook</a>'\n",
              "            + ' to learn more about interactive tables.';\n",
              "          element.innerHTML = '';\n",
              "          dataTable['output_type'] = 'display_data';\n",
              "          await google.colab.output.renderOutput(dataTable, element);\n",
              "          const docLink = document.createElement('div');\n",
              "          docLink.innerHTML = docLinkHtml;\n",
              "          element.appendChild(docLink);\n",
              "        }\n",
              "      </script>\n",
              "    </div>\n",
              "  </div>\n",
              "  "
            ]
          },
          "metadata": {},
          "execution_count": 250
        }
      ]
    },
    {
      "cell_type": "code",
      "source": [
        "#Copy of my Data\n",
        "eda_ml = df.copy()"
      ],
      "metadata": {
        "id": "O5t-BAYGQUzy"
      },
      "execution_count": 251,
      "outputs": []
    },
    {
      "cell_type": "markdown",
      "source": [
        "### **Duplicates**"
      ],
      "metadata": {
        "id": "Q1z3SaTbSufo"
      }
    },
    {
      "cell_type": "code",
      "source": [
        "#Duplicated Rows\n",
        "print(f'There are {eda_ml.duplicated().sum()} duplicate rows.')"
      ],
      "metadata": {
        "colab": {
          "base_uri": "https://localhost:8080/"
        },
        "id": "FRuPKTiuQvS1",
        "outputId": "67f5cec4-8d40-4927-d5ee-cd94d3d81ad9"
      },
      "execution_count": 252,
      "outputs": [
        {
          "output_type": "stream",
          "name": "stdout",
          "text": [
            "There are 0 duplicate rows.\n"
          ]
        }
      ]
    },
    {
      "cell_type": "code",
      "source": [
        "## Display the column names, count of non-null values, and their datatypes\n",
        "df.info()"
      ],
      "metadata": {
        "colab": {
          "base_uri": "https://localhost:8080/"
        },
        "id": "yTNmOmTaUbdt",
        "outputId": "9578a33e-137c-4504-b620-6700529ea987"
      },
      "execution_count": 253,
      "outputs": [
        {
          "output_type": "stream",
          "name": "stdout",
          "text": [
            "<class 'pandas.core.frame.DataFrame'>\n",
            "RangeIndex: 8523 entries, 0 to 8522\n",
            "Data columns (total 12 columns):\n",
            " #   Column                     Non-Null Count  Dtype  \n",
            "---  ------                     --------------  -----  \n",
            " 0   Item_Identifier            8523 non-null   object \n",
            " 1   Item_Weight                7060 non-null   float64\n",
            " 2   Item_Fat_Content           8523 non-null   object \n",
            " 3   Item_Visibility            8523 non-null   float64\n",
            " 4   Item_Type                  8523 non-null   object \n",
            " 5   Item_MRP                   8523 non-null   float64\n",
            " 6   Outlet_Identifier          8523 non-null   object \n",
            " 7   Outlet_Establishment_Year  8523 non-null   int64  \n",
            " 8   Outlet_Size                6113 non-null   object \n",
            " 9   Outlet_Location_Type       8523 non-null   object \n",
            " 10  Outlet_Type                8523 non-null   object \n",
            " 11  Item_Outlet_Sales          8523 non-null   float64\n",
            "dtypes: float64(4), int64(1), object(7)\n",
            "memory usage: 799.2+ KB\n"
          ]
        }
      ]
    },
    {
      "cell_type": "code",
      "source": [
        "eda_ml.replace([\"LF\"], [\"Low Fat\"], inplace=True)\n",
        "eda_ml.replace([\"low fat\"], [\"Low Fat\"], inplace=True)\n",
        "eda_ml.replace([\"reg\"], [\"Regular\"], inplace=True)\n",
        "eda_ml[\"Item_Fat_Content\"].value_counts()"
      ],
      "metadata": {
        "colab": {
          "base_uri": "https://localhost:8080/"
        },
        "id": "S4RQgDXDUjs3",
        "outputId": "41b75d90-649a-44cf-fafd-de8eeb48cc0e"
      },
      "execution_count": 254,
      "outputs": [
        {
          "output_type": "execute_result",
          "data": {
            "text/plain": [
              "Low Fat    5517\n",
              "Regular    3006\n",
              "Name: Item_Fat_Content, dtype: int64"
            ]
          },
          "metadata": {},
          "execution_count": 254
        }
      ]
    },
    {
      "cell_type": "code",
      "source": [
        "## Display the descriptive statistics for the numeric columns\n",
        "df.describe(include='all') ## or 'object'## or 'number'"
      ],
      "metadata": {
        "colab": {
          "base_uri": "https://localhost:8080/",
          "height": 471
        },
        "id": "zTZkohZfUsdz",
        "outputId": "d782ec3e-93b9-4d2e-9703-eed01ae259ca"
      },
      "execution_count": 255,
      "outputs": [
        {
          "output_type": "execute_result",
          "data": {
            "text/plain": [
              "       Item_Identifier  Item_Weight Item_Fat_Content  Item_Visibility  \\\n",
              "count             8523  7060.000000             8523      8523.000000   \n",
              "unique            1559          NaN                5              NaN   \n",
              "top              FDW13          NaN          Low Fat              NaN   \n",
              "freq                10          NaN             5089              NaN   \n",
              "mean               NaN    12.857645              NaN         0.066132   \n",
              "std                NaN     4.643456              NaN         0.051598   \n",
              "min                NaN     4.555000              NaN         0.000000   \n",
              "25%                NaN     8.773750              NaN         0.026989   \n",
              "50%                NaN    12.600000              NaN         0.053931   \n",
              "75%                NaN    16.850000              NaN         0.094585   \n",
              "max                NaN    21.350000              NaN         0.328391   \n",
              "\n",
              "                    Item_Type     Item_MRP Outlet_Identifier  \\\n",
              "count                    8523  8523.000000              8523   \n",
              "unique                     16          NaN                10   \n",
              "top     Fruits and Vegetables          NaN            OUT027   \n",
              "freq                     1232          NaN               935   \n",
              "mean                      NaN   140.992782               NaN   \n",
              "std                       NaN    62.275067               NaN   \n",
              "min                       NaN    31.290000               NaN   \n",
              "25%                       NaN    93.826500               NaN   \n",
              "50%                       NaN   143.012800               NaN   \n",
              "75%                       NaN   185.643700               NaN   \n",
              "max                       NaN   266.888400               NaN   \n",
              "\n",
              "        Outlet_Establishment_Year Outlet_Size Outlet_Location_Type  \\\n",
              "count                 8523.000000        6113                 8523   \n",
              "unique                        NaN           3                    3   \n",
              "top                           NaN      Medium               Tier 3   \n",
              "freq                          NaN        2793                 3350   \n",
              "mean                  1997.831867         NaN                  NaN   \n",
              "std                      8.371760         NaN                  NaN   \n",
              "min                   1985.000000         NaN                  NaN   \n",
              "25%                   1987.000000         NaN                  NaN   \n",
              "50%                   1999.000000         NaN                  NaN   \n",
              "75%                   2004.000000         NaN                  NaN   \n",
              "max                   2009.000000         NaN                  NaN   \n",
              "\n",
              "              Outlet_Type  Item_Outlet_Sales  \n",
              "count                8523        8523.000000  \n",
              "unique                  4                NaN  \n",
              "top     Supermarket Type1                NaN  \n",
              "freq                 5577                NaN  \n",
              "mean                  NaN        2181.288914  \n",
              "std                   NaN        1706.499616  \n",
              "min                   NaN          33.290000  \n",
              "25%                   NaN         834.247400  \n",
              "50%                   NaN        1794.331000  \n",
              "75%                   NaN        3101.296400  \n",
              "max                   NaN       13086.964800  "
            ],
            "text/html": [
              "\n",
              "  <div id=\"df-5a8fbfc1-71e4-4ab0-ac9f-dd36c4987101\">\n",
              "    <div class=\"colab-df-container\">\n",
              "      <div>\n",
              "<style scoped>\n",
              "    .dataframe tbody tr th:only-of-type {\n",
              "        vertical-align: middle;\n",
              "    }\n",
              "\n",
              "    .dataframe tbody tr th {\n",
              "        vertical-align: top;\n",
              "    }\n",
              "\n",
              "    .dataframe thead th {\n",
              "        text-align: right;\n",
              "    }\n",
              "</style>\n",
              "<table border=\"1\" class=\"dataframe\">\n",
              "  <thead>\n",
              "    <tr style=\"text-align: right;\">\n",
              "      <th></th>\n",
              "      <th>Item_Identifier</th>\n",
              "      <th>Item_Weight</th>\n",
              "      <th>Item_Fat_Content</th>\n",
              "      <th>Item_Visibility</th>\n",
              "      <th>Item_Type</th>\n",
              "      <th>Item_MRP</th>\n",
              "      <th>Outlet_Identifier</th>\n",
              "      <th>Outlet_Establishment_Year</th>\n",
              "      <th>Outlet_Size</th>\n",
              "      <th>Outlet_Location_Type</th>\n",
              "      <th>Outlet_Type</th>\n",
              "      <th>Item_Outlet_Sales</th>\n",
              "    </tr>\n",
              "  </thead>\n",
              "  <tbody>\n",
              "    <tr>\n",
              "      <th>count</th>\n",
              "      <td>8523</td>\n",
              "      <td>7060.000000</td>\n",
              "      <td>8523</td>\n",
              "      <td>8523.000000</td>\n",
              "      <td>8523</td>\n",
              "      <td>8523.000000</td>\n",
              "      <td>8523</td>\n",
              "      <td>8523.000000</td>\n",
              "      <td>6113</td>\n",
              "      <td>8523</td>\n",
              "      <td>8523</td>\n",
              "      <td>8523.000000</td>\n",
              "    </tr>\n",
              "    <tr>\n",
              "      <th>unique</th>\n",
              "      <td>1559</td>\n",
              "      <td>NaN</td>\n",
              "      <td>5</td>\n",
              "      <td>NaN</td>\n",
              "      <td>16</td>\n",
              "      <td>NaN</td>\n",
              "      <td>10</td>\n",
              "      <td>NaN</td>\n",
              "      <td>3</td>\n",
              "      <td>3</td>\n",
              "      <td>4</td>\n",
              "      <td>NaN</td>\n",
              "    </tr>\n",
              "    <tr>\n",
              "      <th>top</th>\n",
              "      <td>FDW13</td>\n",
              "      <td>NaN</td>\n",
              "      <td>Low Fat</td>\n",
              "      <td>NaN</td>\n",
              "      <td>Fruits and Vegetables</td>\n",
              "      <td>NaN</td>\n",
              "      <td>OUT027</td>\n",
              "      <td>NaN</td>\n",
              "      <td>Medium</td>\n",
              "      <td>Tier 3</td>\n",
              "      <td>Supermarket Type1</td>\n",
              "      <td>NaN</td>\n",
              "    </tr>\n",
              "    <tr>\n",
              "      <th>freq</th>\n",
              "      <td>10</td>\n",
              "      <td>NaN</td>\n",
              "      <td>5089</td>\n",
              "      <td>NaN</td>\n",
              "      <td>1232</td>\n",
              "      <td>NaN</td>\n",
              "      <td>935</td>\n",
              "      <td>NaN</td>\n",
              "      <td>2793</td>\n",
              "      <td>3350</td>\n",
              "      <td>5577</td>\n",
              "      <td>NaN</td>\n",
              "    </tr>\n",
              "    <tr>\n",
              "      <th>mean</th>\n",
              "      <td>NaN</td>\n",
              "      <td>12.857645</td>\n",
              "      <td>NaN</td>\n",
              "      <td>0.066132</td>\n",
              "      <td>NaN</td>\n",
              "      <td>140.992782</td>\n",
              "      <td>NaN</td>\n",
              "      <td>1997.831867</td>\n",
              "      <td>NaN</td>\n",
              "      <td>NaN</td>\n",
              "      <td>NaN</td>\n",
              "      <td>2181.288914</td>\n",
              "    </tr>\n",
              "    <tr>\n",
              "      <th>std</th>\n",
              "      <td>NaN</td>\n",
              "      <td>4.643456</td>\n",
              "      <td>NaN</td>\n",
              "      <td>0.051598</td>\n",
              "      <td>NaN</td>\n",
              "      <td>62.275067</td>\n",
              "      <td>NaN</td>\n",
              "      <td>8.371760</td>\n",
              "      <td>NaN</td>\n",
              "      <td>NaN</td>\n",
              "      <td>NaN</td>\n",
              "      <td>1706.499616</td>\n",
              "    </tr>\n",
              "    <tr>\n",
              "      <th>min</th>\n",
              "      <td>NaN</td>\n",
              "      <td>4.555000</td>\n",
              "      <td>NaN</td>\n",
              "      <td>0.000000</td>\n",
              "      <td>NaN</td>\n",
              "      <td>31.290000</td>\n",
              "      <td>NaN</td>\n",
              "      <td>1985.000000</td>\n",
              "      <td>NaN</td>\n",
              "      <td>NaN</td>\n",
              "      <td>NaN</td>\n",
              "      <td>33.290000</td>\n",
              "    </tr>\n",
              "    <tr>\n",
              "      <th>25%</th>\n",
              "      <td>NaN</td>\n",
              "      <td>8.773750</td>\n",
              "      <td>NaN</td>\n",
              "      <td>0.026989</td>\n",
              "      <td>NaN</td>\n",
              "      <td>93.826500</td>\n",
              "      <td>NaN</td>\n",
              "      <td>1987.000000</td>\n",
              "      <td>NaN</td>\n",
              "      <td>NaN</td>\n",
              "      <td>NaN</td>\n",
              "      <td>834.247400</td>\n",
              "    </tr>\n",
              "    <tr>\n",
              "      <th>50%</th>\n",
              "      <td>NaN</td>\n",
              "      <td>12.600000</td>\n",
              "      <td>NaN</td>\n",
              "      <td>0.053931</td>\n",
              "      <td>NaN</td>\n",
              "      <td>143.012800</td>\n",
              "      <td>NaN</td>\n",
              "      <td>1999.000000</td>\n",
              "      <td>NaN</td>\n",
              "      <td>NaN</td>\n",
              "      <td>NaN</td>\n",
              "      <td>1794.331000</td>\n",
              "    </tr>\n",
              "    <tr>\n",
              "      <th>75%</th>\n",
              "      <td>NaN</td>\n",
              "      <td>16.850000</td>\n",
              "      <td>NaN</td>\n",
              "      <td>0.094585</td>\n",
              "      <td>NaN</td>\n",
              "      <td>185.643700</td>\n",
              "      <td>NaN</td>\n",
              "      <td>2004.000000</td>\n",
              "      <td>NaN</td>\n",
              "      <td>NaN</td>\n",
              "      <td>NaN</td>\n",
              "      <td>3101.296400</td>\n",
              "    </tr>\n",
              "    <tr>\n",
              "      <th>max</th>\n",
              "      <td>NaN</td>\n",
              "      <td>21.350000</td>\n",
              "      <td>NaN</td>\n",
              "      <td>0.328391</td>\n",
              "      <td>NaN</td>\n",
              "      <td>266.888400</td>\n",
              "      <td>NaN</td>\n",
              "      <td>2009.000000</td>\n",
              "      <td>NaN</td>\n",
              "      <td>NaN</td>\n",
              "      <td>NaN</td>\n",
              "      <td>13086.964800</td>\n",
              "    </tr>\n",
              "  </tbody>\n",
              "</table>\n",
              "</div>\n",
              "      <button class=\"colab-df-convert\" onclick=\"convertToInteractive('df-5a8fbfc1-71e4-4ab0-ac9f-dd36c4987101')\"\n",
              "              title=\"Convert this dataframe to an interactive table.\"\n",
              "              style=\"display:none;\">\n",
              "        \n",
              "  <svg xmlns=\"http://www.w3.org/2000/svg\" height=\"24px\"viewBox=\"0 0 24 24\"\n",
              "       width=\"24px\">\n",
              "    <path d=\"M0 0h24v24H0V0z\" fill=\"none\"/>\n",
              "    <path d=\"M18.56 5.44l.94 2.06.94-2.06 2.06-.94-2.06-.94-.94-2.06-.94 2.06-2.06.94zm-11 1L8.5 8.5l.94-2.06 2.06-.94-2.06-.94L8.5 2.5l-.94 2.06-2.06.94zm10 10l.94 2.06.94-2.06 2.06-.94-2.06-.94-.94-2.06-.94 2.06-2.06.94z\"/><path d=\"M17.41 7.96l-1.37-1.37c-.4-.4-.92-.59-1.43-.59-.52 0-1.04.2-1.43.59L10.3 9.45l-7.72 7.72c-.78.78-.78 2.05 0 2.83L4 21.41c.39.39.9.59 1.41.59.51 0 1.02-.2 1.41-.59l7.78-7.78 2.81-2.81c.8-.78.8-2.07 0-2.86zM5.41 20L4 18.59l7.72-7.72 1.47 1.35L5.41 20z\"/>\n",
              "  </svg>\n",
              "      </button>\n",
              "      \n",
              "  <style>\n",
              "    .colab-df-container {\n",
              "      display:flex;\n",
              "      flex-wrap:wrap;\n",
              "      gap: 12px;\n",
              "    }\n",
              "\n",
              "    .colab-df-convert {\n",
              "      background-color: #E8F0FE;\n",
              "      border: none;\n",
              "      border-radius: 50%;\n",
              "      cursor: pointer;\n",
              "      display: none;\n",
              "      fill: #1967D2;\n",
              "      height: 32px;\n",
              "      padding: 0 0 0 0;\n",
              "      width: 32px;\n",
              "    }\n",
              "\n",
              "    .colab-df-convert:hover {\n",
              "      background-color: #E2EBFA;\n",
              "      box-shadow: 0px 1px 2px rgba(60, 64, 67, 0.3), 0px 1px 3px 1px rgba(60, 64, 67, 0.15);\n",
              "      fill: #174EA6;\n",
              "    }\n",
              "\n",
              "    [theme=dark] .colab-df-convert {\n",
              "      background-color: #3B4455;\n",
              "      fill: #D2E3FC;\n",
              "    }\n",
              "\n",
              "    [theme=dark] .colab-df-convert:hover {\n",
              "      background-color: #434B5C;\n",
              "      box-shadow: 0px 1px 3px 1px rgba(0, 0, 0, 0.15);\n",
              "      filter: drop-shadow(0px 1px 2px rgba(0, 0, 0, 0.3));\n",
              "      fill: #FFFFFF;\n",
              "    }\n",
              "  </style>\n",
              "\n",
              "      <script>\n",
              "        const buttonEl =\n",
              "          document.querySelector('#df-5a8fbfc1-71e4-4ab0-ac9f-dd36c4987101 button.colab-df-convert');\n",
              "        buttonEl.style.display =\n",
              "          google.colab.kernel.accessAllowed ? 'block' : 'none';\n",
              "\n",
              "        async function convertToInteractive(key) {\n",
              "          const element = document.querySelector('#df-5a8fbfc1-71e4-4ab0-ac9f-dd36c4987101');\n",
              "          const dataTable =\n",
              "            await google.colab.kernel.invokeFunction('convertToInteractive',\n",
              "                                                     [key], {});\n",
              "          if (!dataTable) return;\n",
              "\n",
              "          const docLinkHtml = 'Like what you see? Visit the ' +\n",
              "            '<a target=\"_blank\" href=https://colab.research.google.com/notebooks/data_table.ipynb>data table notebook</a>'\n",
              "            + ' to learn more about interactive tables.';\n",
              "          element.innerHTML = '';\n",
              "          dataTable['output_type'] = 'display_data';\n",
              "          await google.colab.output.renderOutput(dataTable, element);\n",
              "          const docLink = document.createElement('div');\n",
              "          docLink.innerHTML = docLinkHtml;\n",
              "          element.appendChild(docLink);\n",
              "        }\n",
              "      </script>\n",
              "    </div>\n",
              "  </div>\n",
              "  "
            ]
          },
          "metadata": {},
          "execution_count": 255
        }
      ]
    },
    {
      "cell_type": "markdown",
      "source": [
        "### **Split the Data**"
      ],
      "metadata": {
        "id": "pwOG3aY_U-vb"
      }
    },
    {
      "cell_type": "code",
      "source": [
        "#Define X and y\n",
        "target ='Item_Outlet_Sales' \n",
        "X = eda_ml.drop(columns= [target]).copy()\n",
        "y = eda_ml[target].copy()\n",
        "\n"
      ],
      "metadata": {
        "id": "x2E0RI85VD6G"
      },
      "execution_count": 256,
      "outputs": []
    },
    {
      "cell_type": "code",
      "source": [
        "# Split \n",
        "X_train, X_test, y_train, y_test = train_test_split(X, y, random_state=42)"
      ],
      "metadata": {
        "id": "Y6hrpNDRV3fM"
      },
      "execution_count": 257,
      "outputs": []
    },
    {
      "cell_type": "markdown",
      "source": [
        "**The target is Item_Outlet_Sales, which we are trying to Predict**"
      ],
      "metadata": {
        "id": "yLVlU_kbWB_z"
      }
    },
    {
      "cell_type": "markdown",
      "source": [
        "### **Preprocessing**"
      ],
      "metadata": {
        "id": "OQL4GncJWLxt"
      }
    },
    {
      "cell_type": "markdown",
      "source": [
        "### **Column Selector**"
      ],
      "metadata": {
        "id": "rcdFkDyyWcN5"
      }
    },
    {
      "cell_type": "code",
      "source": [
        "## Instantiate the column selectors\n",
        "num_selector = make_column_selector(dtype_include='number')\n",
        "cat_selector = make_column_selector(dtype_include='object')"
      ],
      "metadata": {
        "id": "Oa2ya9NEWbMc"
      },
      "execution_count": 258,
      "outputs": []
    },
    {
      "cell_type": "markdown",
      "source": [
        "### **Transformers**"
      ],
      "metadata": {
        "id": "nUvrXMk9WYLI"
      }
    },
    {
      "cell_type": "code",
      "source": [
        "## Instantiate the transformers\n",
        "freq_imputer = SimpleImputer(strategy = 'most_frequent')\n",
        "mean_imputer = SimpleImputer(strategy = 'mean')\n",
        "\n",
        "#Scaler\n",
        "scaler = StandardScaler()\n",
        "\n",
        "# OneHotEncoder \n",
        "ohe = OneHotEncoder(sparse=False, handle_unknown='ignore')"
      ],
      "metadata": {
        "id": "YpkeKnNYWsKC"
      },
      "execution_count": 259,
      "outputs": []
    },
    {
      "cell_type": "markdown",
      "source": [
        "- Nominal is one hot-encode\n",
        "- Numeric is scaler"
      ],
      "metadata": {
        "id": "E6zWl11yXM3u"
      }
    },
    {
      "cell_type": "markdown",
      "source": [
        "### **Numeric Pipeline**"
      ],
      "metadata": {
        "id": "CC1_SF27XV9l"
      }
    },
    {
      "cell_type": "code",
      "source": [
        "#Instantiate Pipeline\n",
        "\n",
        "#Numerical Pipeline\n",
        "numeric_pipe = make_pipeline(mean_imputer, scaler)\n",
        "numeric_pipe"
      ],
      "metadata": {
        "colab": {
          "base_uri": "https://localhost:8080/",
          "height": 124
        },
        "id": "cDGkErj5XaVX",
        "outputId": "2e41426c-2bd5-4aee-a1a8-84fc29c161a5"
      },
      "execution_count": 260,
      "outputs": [
        {
          "output_type": "execute_result",
          "data": {
            "text/plain": [
              "Pipeline(steps=[('simpleimputer', SimpleImputer()),\n",
              "                ('standardscaler', StandardScaler())])"
            ],
            "text/html": [
              "<style>#sk-8364ff0d-30c5-4cb7-b561-87d133e57fb0 {color: black;background-color: white;}#sk-8364ff0d-30c5-4cb7-b561-87d133e57fb0 pre{padding: 0;}#sk-8364ff0d-30c5-4cb7-b561-87d133e57fb0 div.sk-toggleable {background-color: white;}#sk-8364ff0d-30c5-4cb7-b561-87d133e57fb0 label.sk-toggleable__label {cursor: pointer;display: block;width: 100%;margin-bottom: 0;padding: 0.3em;box-sizing: border-box;text-align: center;}#sk-8364ff0d-30c5-4cb7-b561-87d133e57fb0 label.sk-toggleable__label-arrow:before {content: \"▸\";float: left;margin-right: 0.25em;color: #696969;}#sk-8364ff0d-30c5-4cb7-b561-87d133e57fb0 label.sk-toggleable__label-arrow:hover:before {color: black;}#sk-8364ff0d-30c5-4cb7-b561-87d133e57fb0 div.sk-estimator:hover label.sk-toggleable__label-arrow:before {color: black;}#sk-8364ff0d-30c5-4cb7-b561-87d133e57fb0 div.sk-toggleable__content {max-height: 0;max-width: 0;overflow: hidden;text-align: left;background-color: #f0f8ff;}#sk-8364ff0d-30c5-4cb7-b561-87d133e57fb0 div.sk-toggleable__content pre {margin: 0.2em;color: black;border-radius: 0.25em;background-color: #f0f8ff;}#sk-8364ff0d-30c5-4cb7-b561-87d133e57fb0 input.sk-toggleable__control:checked~div.sk-toggleable__content {max-height: 200px;max-width: 100%;overflow: auto;}#sk-8364ff0d-30c5-4cb7-b561-87d133e57fb0 input.sk-toggleable__control:checked~label.sk-toggleable__label-arrow:before {content: \"▾\";}#sk-8364ff0d-30c5-4cb7-b561-87d133e57fb0 div.sk-estimator input.sk-toggleable__control:checked~label.sk-toggleable__label {background-color: #d4ebff;}#sk-8364ff0d-30c5-4cb7-b561-87d133e57fb0 div.sk-label input.sk-toggleable__control:checked~label.sk-toggleable__label {background-color: #d4ebff;}#sk-8364ff0d-30c5-4cb7-b561-87d133e57fb0 input.sk-hidden--visually {border: 0;clip: rect(1px 1px 1px 1px);clip: rect(1px, 1px, 1px, 1px);height: 1px;margin: -1px;overflow: hidden;padding: 0;position: absolute;width: 1px;}#sk-8364ff0d-30c5-4cb7-b561-87d133e57fb0 div.sk-estimator {font-family: monospace;background-color: #f0f8ff;border: 1px dotted black;border-radius: 0.25em;box-sizing: border-box;margin-bottom: 0.5em;}#sk-8364ff0d-30c5-4cb7-b561-87d133e57fb0 div.sk-estimator:hover {background-color: #d4ebff;}#sk-8364ff0d-30c5-4cb7-b561-87d133e57fb0 div.sk-parallel-item::after {content: \"\";width: 100%;border-bottom: 1px solid gray;flex-grow: 1;}#sk-8364ff0d-30c5-4cb7-b561-87d133e57fb0 div.sk-label:hover label.sk-toggleable__label {background-color: #d4ebff;}#sk-8364ff0d-30c5-4cb7-b561-87d133e57fb0 div.sk-serial::before {content: \"\";position: absolute;border-left: 1px solid gray;box-sizing: border-box;top: 2em;bottom: 0;left: 50%;}#sk-8364ff0d-30c5-4cb7-b561-87d133e57fb0 div.sk-serial {display: flex;flex-direction: column;align-items: center;background-color: white;padding-right: 0.2em;padding-left: 0.2em;}#sk-8364ff0d-30c5-4cb7-b561-87d133e57fb0 div.sk-item {z-index: 1;}#sk-8364ff0d-30c5-4cb7-b561-87d133e57fb0 div.sk-parallel {display: flex;align-items: stretch;justify-content: center;background-color: white;}#sk-8364ff0d-30c5-4cb7-b561-87d133e57fb0 div.sk-parallel::before {content: \"\";position: absolute;border-left: 1px solid gray;box-sizing: border-box;top: 2em;bottom: 0;left: 50%;}#sk-8364ff0d-30c5-4cb7-b561-87d133e57fb0 div.sk-parallel-item {display: flex;flex-direction: column;position: relative;background-color: white;}#sk-8364ff0d-30c5-4cb7-b561-87d133e57fb0 div.sk-parallel-item:first-child::after {align-self: flex-end;width: 50%;}#sk-8364ff0d-30c5-4cb7-b561-87d133e57fb0 div.sk-parallel-item:last-child::after {align-self: flex-start;width: 50%;}#sk-8364ff0d-30c5-4cb7-b561-87d133e57fb0 div.sk-parallel-item:only-child::after {width: 0;}#sk-8364ff0d-30c5-4cb7-b561-87d133e57fb0 div.sk-dashed-wrapped {border: 1px dashed gray;margin: 0 0.4em 0.5em 0.4em;box-sizing: border-box;padding-bottom: 0.4em;background-color: white;position: relative;}#sk-8364ff0d-30c5-4cb7-b561-87d133e57fb0 div.sk-label label {font-family: monospace;font-weight: bold;background-color: white;display: inline-block;line-height: 1.2em;}#sk-8364ff0d-30c5-4cb7-b561-87d133e57fb0 div.sk-label-container {position: relative;z-index: 2;text-align: center;}#sk-8364ff0d-30c5-4cb7-b561-87d133e57fb0 div.sk-container {/* jupyter's `normalize.less` sets `[hidden] { display: none; }` but bootstrap.min.css set `[hidden] { display: none !important; }` so we also need the `!important` here to be able to override the default hidden behavior on the sphinx rendered scikit-learn.org. See: https://github.com/scikit-learn/scikit-learn/issues/21755 */display: inline-block !important;position: relative;}#sk-8364ff0d-30c5-4cb7-b561-87d133e57fb0 div.sk-text-repr-fallback {display: none;}</style><div id=\"sk-8364ff0d-30c5-4cb7-b561-87d133e57fb0\" class=\"sk-top-container\"><div class=\"sk-text-repr-fallback\"><pre>Pipeline(steps=[(&#x27;simpleimputer&#x27;, SimpleImputer()),\n",
              "                (&#x27;standardscaler&#x27;, StandardScaler())])</pre><b>Please rerun this cell to show the HTML repr or trust the notebook.</b></div><div class=\"sk-container\" hidden><div class=\"sk-item sk-dashed-wrapped\"><div class=\"sk-label-container\"><div class=\"sk-label sk-toggleable\"><input class=\"sk-toggleable__control sk-hidden--visually\" id=\"b887e996-f9dd-4eea-b3d4-876702d93537\" type=\"checkbox\" ><label for=\"b887e996-f9dd-4eea-b3d4-876702d93537\" class=\"sk-toggleable__label sk-toggleable__label-arrow\">Pipeline</label><div class=\"sk-toggleable__content\"><pre>Pipeline(steps=[(&#x27;simpleimputer&#x27;, SimpleImputer()),\n",
              "                (&#x27;standardscaler&#x27;, StandardScaler())])</pre></div></div></div><div class=\"sk-serial\"><div class=\"sk-item\"><div class=\"sk-estimator sk-toggleable\"><input class=\"sk-toggleable__control sk-hidden--visually\" id=\"346f7e8b-c8ad-40b4-ac6b-a808f265044c\" type=\"checkbox\" ><label for=\"346f7e8b-c8ad-40b4-ac6b-a808f265044c\" class=\"sk-toggleable__label sk-toggleable__label-arrow\">SimpleImputer</label><div class=\"sk-toggleable__content\"><pre>SimpleImputer()</pre></div></div></div><div class=\"sk-item\"><div class=\"sk-estimator sk-toggleable\"><input class=\"sk-toggleable__control sk-hidden--visually\" id=\"c0c81bb9-e7e1-4285-8acb-74d6fbe54a1c\" type=\"checkbox\" ><label for=\"c0c81bb9-e7e1-4285-8acb-74d6fbe54a1c\" class=\"sk-toggleable__label sk-toggleable__label-arrow\">StandardScaler</label><div class=\"sk-toggleable__content\"><pre>StandardScaler()</pre></div></div></div></div></div></div></div>"
            ]
          },
          "metadata": {},
          "execution_count": 260
        }
      ]
    },
    {
      "cell_type": "code",
      "source": [
        "#Categorical Pipeline\n",
        "categorical_pipe = make_pipeline(freq_imputer, ohe)\n",
        "categorical_pipe\n",
        "     "
      ],
      "metadata": {
        "colab": {
          "base_uri": "https://localhost:8080/",
          "height": 124
        },
        "id": "lVK7pVa7Xiy3",
        "outputId": "0642af28-ddd1-48e2-dc26-a1ffdd00fb02"
      },
      "execution_count": 261,
      "outputs": [
        {
          "output_type": "execute_result",
          "data": {
            "text/plain": [
              "Pipeline(steps=[('simpleimputer', SimpleImputer(strategy='most_frequent')),\n",
              "                ('onehotencoder',\n",
              "                 OneHotEncoder(handle_unknown='ignore', sparse=False))])"
            ],
            "text/html": [
              "<style>#sk-e9ab3d73-b663-438a-a4df-d69312834fb7 {color: black;background-color: white;}#sk-e9ab3d73-b663-438a-a4df-d69312834fb7 pre{padding: 0;}#sk-e9ab3d73-b663-438a-a4df-d69312834fb7 div.sk-toggleable {background-color: white;}#sk-e9ab3d73-b663-438a-a4df-d69312834fb7 label.sk-toggleable__label {cursor: pointer;display: block;width: 100%;margin-bottom: 0;padding: 0.3em;box-sizing: border-box;text-align: center;}#sk-e9ab3d73-b663-438a-a4df-d69312834fb7 label.sk-toggleable__label-arrow:before {content: \"▸\";float: left;margin-right: 0.25em;color: #696969;}#sk-e9ab3d73-b663-438a-a4df-d69312834fb7 label.sk-toggleable__label-arrow:hover:before {color: black;}#sk-e9ab3d73-b663-438a-a4df-d69312834fb7 div.sk-estimator:hover label.sk-toggleable__label-arrow:before {color: black;}#sk-e9ab3d73-b663-438a-a4df-d69312834fb7 div.sk-toggleable__content {max-height: 0;max-width: 0;overflow: hidden;text-align: left;background-color: #f0f8ff;}#sk-e9ab3d73-b663-438a-a4df-d69312834fb7 div.sk-toggleable__content pre {margin: 0.2em;color: black;border-radius: 0.25em;background-color: #f0f8ff;}#sk-e9ab3d73-b663-438a-a4df-d69312834fb7 input.sk-toggleable__control:checked~div.sk-toggleable__content {max-height: 200px;max-width: 100%;overflow: auto;}#sk-e9ab3d73-b663-438a-a4df-d69312834fb7 input.sk-toggleable__control:checked~label.sk-toggleable__label-arrow:before {content: \"▾\";}#sk-e9ab3d73-b663-438a-a4df-d69312834fb7 div.sk-estimator input.sk-toggleable__control:checked~label.sk-toggleable__label {background-color: #d4ebff;}#sk-e9ab3d73-b663-438a-a4df-d69312834fb7 div.sk-label input.sk-toggleable__control:checked~label.sk-toggleable__label {background-color: #d4ebff;}#sk-e9ab3d73-b663-438a-a4df-d69312834fb7 input.sk-hidden--visually {border: 0;clip: rect(1px 1px 1px 1px);clip: rect(1px, 1px, 1px, 1px);height: 1px;margin: -1px;overflow: hidden;padding: 0;position: absolute;width: 1px;}#sk-e9ab3d73-b663-438a-a4df-d69312834fb7 div.sk-estimator {font-family: monospace;background-color: #f0f8ff;border: 1px dotted black;border-radius: 0.25em;box-sizing: border-box;margin-bottom: 0.5em;}#sk-e9ab3d73-b663-438a-a4df-d69312834fb7 div.sk-estimator:hover {background-color: #d4ebff;}#sk-e9ab3d73-b663-438a-a4df-d69312834fb7 div.sk-parallel-item::after {content: \"\";width: 100%;border-bottom: 1px solid gray;flex-grow: 1;}#sk-e9ab3d73-b663-438a-a4df-d69312834fb7 div.sk-label:hover label.sk-toggleable__label {background-color: #d4ebff;}#sk-e9ab3d73-b663-438a-a4df-d69312834fb7 div.sk-serial::before {content: \"\";position: absolute;border-left: 1px solid gray;box-sizing: border-box;top: 2em;bottom: 0;left: 50%;}#sk-e9ab3d73-b663-438a-a4df-d69312834fb7 div.sk-serial {display: flex;flex-direction: column;align-items: center;background-color: white;padding-right: 0.2em;padding-left: 0.2em;}#sk-e9ab3d73-b663-438a-a4df-d69312834fb7 div.sk-item {z-index: 1;}#sk-e9ab3d73-b663-438a-a4df-d69312834fb7 div.sk-parallel {display: flex;align-items: stretch;justify-content: center;background-color: white;}#sk-e9ab3d73-b663-438a-a4df-d69312834fb7 div.sk-parallel::before {content: \"\";position: absolute;border-left: 1px solid gray;box-sizing: border-box;top: 2em;bottom: 0;left: 50%;}#sk-e9ab3d73-b663-438a-a4df-d69312834fb7 div.sk-parallel-item {display: flex;flex-direction: column;position: relative;background-color: white;}#sk-e9ab3d73-b663-438a-a4df-d69312834fb7 div.sk-parallel-item:first-child::after {align-self: flex-end;width: 50%;}#sk-e9ab3d73-b663-438a-a4df-d69312834fb7 div.sk-parallel-item:last-child::after {align-self: flex-start;width: 50%;}#sk-e9ab3d73-b663-438a-a4df-d69312834fb7 div.sk-parallel-item:only-child::after {width: 0;}#sk-e9ab3d73-b663-438a-a4df-d69312834fb7 div.sk-dashed-wrapped {border: 1px dashed gray;margin: 0 0.4em 0.5em 0.4em;box-sizing: border-box;padding-bottom: 0.4em;background-color: white;position: relative;}#sk-e9ab3d73-b663-438a-a4df-d69312834fb7 div.sk-label label {font-family: monospace;font-weight: bold;background-color: white;display: inline-block;line-height: 1.2em;}#sk-e9ab3d73-b663-438a-a4df-d69312834fb7 div.sk-label-container {position: relative;z-index: 2;text-align: center;}#sk-e9ab3d73-b663-438a-a4df-d69312834fb7 div.sk-container {/* jupyter's `normalize.less` sets `[hidden] { display: none; }` but bootstrap.min.css set `[hidden] { display: none !important; }` so we also need the `!important` here to be able to override the default hidden behavior on the sphinx rendered scikit-learn.org. See: https://github.com/scikit-learn/scikit-learn/issues/21755 */display: inline-block !important;position: relative;}#sk-e9ab3d73-b663-438a-a4df-d69312834fb7 div.sk-text-repr-fallback {display: none;}</style><div id=\"sk-e9ab3d73-b663-438a-a4df-d69312834fb7\" class=\"sk-top-container\"><div class=\"sk-text-repr-fallback\"><pre>Pipeline(steps=[(&#x27;simpleimputer&#x27;, SimpleImputer(strategy=&#x27;most_frequent&#x27;)),\n",
              "                (&#x27;onehotencoder&#x27;,\n",
              "                 OneHotEncoder(handle_unknown=&#x27;ignore&#x27;, sparse=False))])</pre><b>Please rerun this cell to show the HTML repr or trust the notebook.</b></div><div class=\"sk-container\" hidden><div class=\"sk-item sk-dashed-wrapped\"><div class=\"sk-label-container\"><div class=\"sk-label sk-toggleable\"><input class=\"sk-toggleable__control sk-hidden--visually\" id=\"c6059924-11ca-4f55-be14-987570bf381f\" type=\"checkbox\" ><label for=\"c6059924-11ca-4f55-be14-987570bf381f\" class=\"sk-toggleable__label sk-toggleable__label-arrow\">Pipeline</label><div class=\"sk-toggleable__content\"><pre>Pipeline(steps=[(&#x27;simpleimputer&#x27;, SimpleImputer(strategy=&#x27;most_frequent&#x27;)),\n",
              "                (&#x27;onehotencoder&#x27;,\n",
              "                 OneHotEncoder(handle_unknown=&#x27;ignore&#x27;, sparse=False))])</pre></div></div></div><div class=\"sk-serial\"><div class=\"sk-item\"><div class=\"sk-estimator sk-toggleable\"><input class=\"sk-toggleable__control sk-hidden--visually\" id=\"5282ac70-9aff-4253-8dbf-dc7fa52b62ed\" type=\"checkbox\" ><label for=\"5282ac70-9aff-4253-8dbf-dc7fa52b62ed\" class=\"sk-toggleable__label sk-toggleable__label-arrow\">SimpleImputer</label><div class=\"sk-toggleable__content\"><pre>SimpleImputer(strategy=&#x27;most_frequent&#x27;)</pre></div></div></div><div class=\"sk-item\"><div class=\"sk-estimator sk-toggleable\"><input class=\"sk-toggleable__control sk-hidden--visually\" id=\"c72d0c7e-0393-47cc-a95d-6a1593a39cab\" type=\"checkbox\" ><label for=\"c72d0c7e-0393-47cc-a95d-6a1593a39cab\" class=\"sk-toggleable__label sk-toggleable__label-arrow\">OneHotEncoder</label><div class=\"sk-toggleable__content\"><pre>OneHotEncoder(handle_unknown=&#x27;ignore&#x27;, sparse=False)</pre></div></div></div></div></div></div></div>"
            ]
          },
          "metadata": {},
          "execution_count": 261
        }
      ]
    },
    {
      "cell_type": "markdown",
      "source": [
        "### **Instantiate ColumnTransformer**"
      ],
      "metadata": {
        "id": "TngLBBqXYjxl"
      }
    },
    {
      "cell_type": "code",
      "source": [
        "# Tuples for Column Transformer\n",
        "number_tuple = (numeric_pipe, num_selector)\n",
        "category_tuple = (categorical_pipe, cat_selector)\n"
      ],
      "metadata": {
        "id": "-XACsWdHYnL5"
      },
      "execution_count": 262,
      "outputs": []
    },
    {
      "cell_type": "code",
      "source": [
        "# ColumnTransformer\n",
        "preprocessor = make_column_transformer(number_tuple, category_tuple, remainder='passthrough')\n",
        "preprocessor"
      ],
      "metadata": {
        "colab": {
          "base_uri": "https://localhost:8080/",
          "height": 149
        },
        "id": "Lbd_VwsJY4D4",
        "outputId": "735acf9a-eab5-4e6e-9e50-dc0b6f11d1f9"
      },
      "execution_count": 263,
      "outputs": [
        {
          "output_type": "execute_result",
          "data": {
            "text/plain": [
              "ColumnTransformer(remainder='passthrough',\n",
              "                  transformers=[('pipeline-1',\n",
              "                                 Pipeline(steps=[('simpleimputer',\n",
              "                                                  SimpleImputer()),\n",
              "                                                 ('standardscaler',\n",
              "                                                  StandardScaler())]),\n",
              "                                 <sklearn.compose._column_transformer.make_column_selector object at 0x7ff37a0a4850>),\n",
              "                                ('pipeline-2',\n",
              "                                 Pipeline(steps=[('simpleimputer',\n",
              "                                                  SimpleImputer(strategy='most_frequent')),\n",
              "                                                 ('onehotencoder',\n",
              "                                                  OneHotEncoder(handle_unknown='ignore',\n",
              "                                                                sparse=False))]),\n",
              "                                 <sklearn.compose._column_transformer.make_column_selector object at 0x7ff37a963850>)])"
            ],
            "text/html": [
              "<style>#sk-ae0c9d4a-76a7-46d2-9d85-f7ed1bc4a852 {color: black;background-color: white;}#sk-ae0c9d4a-76a7-46d2-9d85-f7ed1bc4a852 pre{padding: 0;}#sk-ae0c9d4a-76a7-46d2-9d85-f7ed1bc4a852 div.sk-toggleable {background-color: white;}#sk-ae0c9d4a-76a7-46d2-9d85-f7ed1bc4a852 label.sk-toggleable__label {cursor: pointer;display: block;width: 100%;margin-bottom: 0;padding: 0.3em;box-sizing: border-box;text-align: center;}#sk-ae0c9d4a-76a7-46d2-9d85-f7ed1bc4a852 label.sk-toggleable__label-arrow:before {content: \"▸\";float: left;margin-right: 0.25em;color: #696969;}#sk-ae0c9d4a-76a7-46d2-9d85-f7ed1bc4a852 label.sk-toggleable__label-arrow:hover:before {color: black;}#sk-ae0c9d4a-76a7-46d2-9d85-f7ed1bc4a852 div.sk-estimator:hover label.sk-toggleable__label-arrow:before {color: black;}#sk-ae0c9d4a-76a7-46d2-9d85-f7ed1bc4a852 div.sk-toggleable__content {max-height: 0;max-width: 0;overflow: hidden;text-align: left;background-color: #f0f8ff;}#sk-ae0c9d4a-76a7-46d2-9d85-f7ed1bc4a852 div.sk-toggleable__content pre {margin: 0.2em;color: black;border-radius: 0.25em;background-color: #f0f8ff;}#sk-ae0c9d4a-76a7-46d2-9d85-f7ed1bc4a852 input.sk-toggleable__control:checked~div.sk-toggleable__content {max-height: 200px;max-width: 100%;overflow: auto;}#sk-ae0c9d4a-76a7-46d2-9d85-f7ed1bc4a852 input.sk-toggleable__control:checked~label.sk-toggleable__label-arrow:before {content: \"▾\";}#sk-ae0c9d4a-76a7-46d2-9d85-f7ed1bc4a852 div.sk-estimator input.sk-toggleable__control:checked~label.sk-toggleable__label {background-color: #d4ebff;}#sk-ae0c9d4a-76a7-46d2-9d85-f7ed1bc4a852 div.sk-label input.sk-toggleable__control:checked~label.sk-toggleable__label {background-color: #d4ebff;}#sk-ae0c9d4a-76a7-46d2-9d85-f7ed1bc4a852 input.sk-hidden--visually {border: 0;clip: rect(1px 1px 1px 1px);clip: rect(1px, 1px, 1px, 1px);height: 1px;margin: -1px;overflow: hidden;padding: 0;position: absolute;width: 1px;}#sk-ae0c9d4a-76a7-46d2-9d85-f7ed1bc4a852 div.sk-estimator {font-family: monospace;background-color: #f0f8ff;border: 1px dotted black;border-radius: 0.25em;box-sizing: border-box;margin-bottom: 0.5em;}#sk-ae0c9d4a-76a7-46d2-9d85-f7ed1bc4a852 div.sk-estimator:hover {background-color: #d4ebff;}#sk-ae0c9d4a-76a7-46d2-9d85-f7ed1bc4a852 div.sk-parallel-item::after {content: \"\";width: 100%;border-bottom: 1px solid gray;flex-grow: 1;}#sk-ae0c9d4a-76a7-46d2-9d85-f7ed1bc4a852 div.sk-label:hover label.sk-toggleable__label {background-color: #d4ebff;}#sk-ae0c9d4a-76a7-46d2-9d85-f7ed1bc4a852 div.sk-serial::before {content: \"\";position: absolute;border-left: 1px solid gray;box-sizing: border-box;top: 2em;bottom: 0;left: 50%;}#sk-ae0c9d4a-76a7-46d2-9d85-f7ed1bc4a852 div.sk-serial {display: flex;flex-direction: column;align-items: center;background-color: white;padding-right: 0.2em;padding-left: 0.2em;}#sk-ae0c9d4a-76a7-46d2-9d85-f7ed1bc4a852 div.sk-item {z-index: 1;}#sk-ae0c9d4a-76a7-46d2-9d85-f7ed1bc4a852 div.sk-parallel {display: flex;align-items: stretch;justify-content: center;background-color: white;}#sk-ae0c9d4a-76a7-46d2-9d85-f7ed1bc4a852 div.sk-parallel::before {content: \"\";position: absolute;border-left: 1px solid gray;box-sizing: border-box;top: 2em;bottom: 0;left: 50%;}#sk-ae0c9d4a-76a7-46d2-9d85-f7ed1bc4a852 div.sk-parallel-item {display: flex;flex-direction: column;position: relative;background-color: white;}#sk-ae0c9d4a-76a7-46d2-9d85-f7ed1bc4a852 div.sk-parallel-item:first-child::after {align-self: flex-end;width: 50%;}#sk-ae0c9d4a-76a7-46d2-9d85-f7ed1bc4a852 div.sk-parallel-item:last-child::after {align-self: flex-start;width: 50%;}#sk-ae0c9d4a-76a7-46d2-9d85-f7ed1bc4a852 div.sk-parallel-item:only-child::after {width: 0;}#sk-ae0c9d4a-76a7-46d2-9d85-f7ed1bc4a852 div.sk-dashed-wrapped {border: 1px dashed gray;margin: 0 0.4em 0.5em 0.4em;box-sizing: border-box;padding-bottom: 0.4em;background-color: white;position: relative;}#sk-ae0c9d4a-76a7-46d2-9d85-f7ed1bc4a852 div.sk-label label {font-family: monospace;font-weight: bold;background-color: white;display: inline-block;line-height: 1.2em;}#sk-ae0c9d4a-76a7-46d2-9d85-f7ed1bc4a852 div.sk-label-container {position: relative;z-index: 2;text-align: center;}#sk-ae0c9d4a-76a7-46d2-9d85-f7ed1bc4a852 div.sk-container {/* jupyter's `normalize.less` sets `[hidden] { display: none; }` but bootstrap.min.css set `[hidden] { display: none !important; }` so we also need the `!important` here to be able to override the default hidden behavior on the sphinx rendered scikit-learn.org. See: https://github.com/scikit-learn/scikit-learn/issues/21755 */display: inline-block !important;position: relative;}#sk-ae0c9d4a-76a7-46d2-9d85-f7ed1bc4a852 div.sk-text-repr-fallback {display: none;}</style><div id=\"sk-ae0c9d4a-76a7-46d2-9d85-f7ed1bc4a852\" class=\"sk-top-container\"><div class=\"sk-text-repr-fallback\"><pre>ColumnTransformer(remainder=&#x27;passthrough&#x27;,\n",
              "                  transformers=[(&#x27;pipeline-1&#x27;,\n",
              "                                 Pipeline(steps=[(&#x27;simpleimputer&#x27;,\n",
              "                                                  SimpleImputer()),\n",
              "                                                 (&#x27;standardscaler&#x27;,\n",
              "                                                  StandardScaler())]),\n",
              "                                 &lt;sklearn.compose._column_transformer.make_column_selector object at 0x7ff37a0a4850&gt;),\n",
              "                                (&#x27;pipeline-2&#x27;,\n",
              "                                 Pipeline(steps=[(&#x27;simpleimputer&#x27;,\n",
              "                                                  SimpleImputer(strategy=&#x27;most_frequent&#x27;)),\n",
              "                                                 (&#x27;onehotencoder&#x27;,\n",
              "                                                  OneHotEncoder(handle_unknown=&#x27;ignore&#x27;,\n",
              "                                                                sparse=False))]),\n",
              "                                 &lt;sklearn.compose._column_transformer.make_column_selector object at 0x7ff37a963850&gt;)])</pre><b>Please rerun this cell to show the HTML repr or trust the notebook.</b></div><div class=\"sk-container\" hidden><div class=\"sk-item sk-dashed-wrapped\"><div class=\"sk-label-container\"><div class=\"sk-label sk-toggleable\"><input class=\"sk-toggleable__control sk-hidden--visually\" id=\"1c5a3e1a-338b-47de-90e1-d91219b91ed7\" type=\"checkbox\" ><label for=\"1c5a3e1a-338b-47de-90e1-d91219b91ed7\" class=\"sk-toggleable__label sk-toggleable__label-arrow\">ColumnTransformer</label><div class=\"sk-toggleable__content\"><pre>ColumnTransformer(remainder=&#x27;passthrough&#x27;,\n",
              "                  transformers=[(&#x27;pipeline-1&#x27;,\n",
              "                                 Pipeline(steps=[(&#x27;simpleimputer&#x27;,\n",
              "                                                  SimpleImputer()),\n",
              "                                                 (&#x27;standardscaler&#x27;,\n",
              "                                                  StandardScaler())]),\n",
              "                                 &lt;sklearn.compose._column_transformer.make_column_selector object at 0x7ff37a0a4850&gt;),\n",
              "                                (&#x27;pipeline-2&#x27;,\n",
              "                                 Pipeline(steps=[(&#x27;simpleimputer&#x27;,\n",
              "                                                  SimpleImputer(strategy=&#x27;most_frequent&#x27;)),\n",
              "                                                 (&#x27;onehotencoder&#x27;,\n",
              "                                                  OneHotEncoder(handle_unknown=&#x27;ignore&#x27;,\n",
              "                                                                sparse=False))]),\n",
              "                                 &lt;sklearn.compose._column_transformer.make_column_selector object at 0x7ff37a963850&gt;)])</pre></div></div></div><div class=\"sk-parallel\"><div class=\"sk-parallel-item\"><div class=\"sk-item\"><div class=\"sk-label-container\"><div class=\"sk-label sk-toggleable\"><input class=\"sk-toggleable__control sk-hidden--visually\" id=\"322c70d1-556f-4577-a15d-d7bc827ceedc\" type=\"checkbox\" ><label for=\"322c70d1-556f-4577-a15d-d7bc827ceedc\" class=\"sk-toggleable__label sk-toggleable__label-arrow\">pipeline-1</label><div class=\"sk-toggleable__content\"><pre>&lt;sklearn.compose._column_transformer.make_column_selector object at 0x7ff37a0a4850&gt;</pre></div></div></div><div class=\"sk-serial\"><div class=\"sk-item\"><div class=\"sk-serial\"><div class=\"sk-item\"><div class=\"sk-estimator sk-toggleable\"><input class=\"sk-toggleable__control sk-hidden--visually\" id=\"d371ed56-08e6-45e9-9bc3-3dd05f974acd\" type=\"checkbox\" ><label for=\"d371ed56-08e6-45e9-9bc3-3dd05f974acd\" class=\"sk-toggleable__label sk-toggleable__label-arrow\">SimpleImputer</label><div class=\"sk-toggleable__content\"><pre>SimpleImputer()</pre></div></div></div><div class=\"sk-item\"><div class=\"sk-estimator sk-toggleable\"><input class=\"sk-toggleable__control sk-hidden--visually\" id=\"5c8baecf-ed27-42b4-aef1-c9cdc06392a0\" type=\"checkbox\" ><label for=\"5c8baecf-ed27-42b4-aef1-c9cdc06392a0\" class=\"sk-toggleable__label sk-toggleable__label-arrow\">StandardScaler</label><div class=\"sk-toggleable__content\"><pre>StandardScaler()</pre></div></div></div></div></div></div></div></div><div class=\"sk-parallel-item\"><div class=\"sk-item\"><div class=\"sk-label-container\"><div class=\"sk-label sk-toggleable\"><input class=\"sk-toggleable__control sk-hidden--visually\" id=\"cfd6dfcf-9dba-4d89-b092-0da52479d77b\" type=\"checkbox\" ><label for=\"cfd6dfcf-9dba-4d89-b092-0da52479d77b\" class=\"sk-toggleable__label sk-toggleable__label-arrow\">pipeline-2</label><div class=\"sk-toggleable__content\"><pre>&lt;sklearn.compose._column_transformer.make_column_selector object at 0x7ff37a963850&gt;</pre></div></div></div><div class=\"sk-serial\"><div class=\"sk-item\"><div class=\"sk-serial\"><div class=\"sk-item\"><div class=\"sk-estimator sk-toggleable\"><input class=\"sk-toggleable__control sk-hidden--visually\" id=\"4dbc08d2-b882-4fa6-b4cd-aaf08724eab4\" type=\"checkbox\" ><label for=\"4dbc08d2-b882-4fa6-b4cd-aaf08724eab4\" class=\"sk-toggleable__label sk-toggleable__label-arrow\">SimpleImputer</label><div class=\"sk-toggleable__content\"><pre>SimpleImputer(strategy=&#x27;most_frequent&#x27;)</pre></div></div></div><div class=\"sk-item\"><div class=\"sk-estimator sk-toggleable\"><input class=\"sk-toggleable__control sk-hidden--visually\" id=\"0bcda275-cc17-44f7-bc41-63375cf3c0e4\" type=\"checkbox\" ><label for=\"0bcda275-cc17-44f7-bc41-63375cf3c0e4\" class=\"sk-toggleable__label sk-toggleable__label-arrow\">OneHotEncoder</label><div class=\"sk-toggleable__content\"><pre>OneHotEncoder(handle_unknown=&#x27;ignore&#x27;, sparse=False)</pre></div></div></div></div></div></div></div></div><div class=\"sk-parallel-item\"><div class=\"sk-item\"><div class=\"sk-label-container\"><div class=\"sk-label sk-toggleable\"><input class=\"sk-toggleable__control sk-hidden--visually\" id=\"c09fe773-7738-4aa9-835f-b6283092d849\" type=\"checkbox\" ><label for=\"c09fe773-7738-4aa9-835f-b6283092d849\" class=\"sk-toggleable__label sk-toggleable__label-arrow\">remainder</label><div class=\"sk-toggleable__content\"><pre></pre></div></div></div><div class=\"sk-serial\"><div class=\"sk-item\"><div class=\"sk-estimator sk-toggleable\"><input class=\"sk-toggleable__control sk-hidden--visually\" id=\"50314c22-b0d9-44cc-b522-0675cdb48b1a\" type=\"checkbox\" ><label for=\"50314c22-b0d9-44cc-b522-0675cdb48b1a\" class=\"sk-toggleable__label sk-toggleable__label-arrow\">passthrough</label><div class=\"sk-toggleable__content\"><pre>passthrough</pre></div></div></div></div></div></div></div></div></div></div>"
            ]
          },
          "metadata": {},
          "execution_count": 263
        }
      ]
    },
    {
      "cell_type": "markdown",
      "source": [
        "## **Fit and Transform Data**\n",
        "\n",
        "- All preprocessing steps should be contained within a single preprocessing object\n",
        "- We fit the ColumnTransformer, which we called 'preprocessor' on the training data. **(Never on testing data!)**"
      ],
      "metadata": {
        "id": "0QIB7_KbZHtJ"
      }
    },
    {
      "cell_type": "code",
      "source": [
        "# fit on train\n",
        "preprocessor.fit(X_train)"
      ],
      "metadata": {
        "colab": {
          "base_uri": "https://localhost:8080/",
          "height": 149
        },
        "id": "HN6e_38QZOXN",
        "outputId": "c4424615-d731-41b2-a9d3-fa40141ecc04"
      },
      "execution_count": 264,
      "outputs": [
        {
          "output_type": "execute_result",
          "data": {
            "text/plain": [
              "ColumnTransformer(remainder='passthrough',\n",
              "                  transformers=[('pipeline-1',\n",
              "                                 Pipeline(steps=[('simpleimputer',\n",
              "                                                  SimpleImputer()),\n",
              "                                                 ('standardscaler',\n",
              "                                                  StandardScaler())]),\n",
              "                                 <sklearn.compose._column_transformer.make_column_selector object at 0x7ff37a0a4850>),\n",
              "                                ('pipeline-2',\n",
              "                                 Pipeline(steps=[('simpleimputer',\n",
              "                                                  SimpleImputer(strategy='most_frequent')),\n",
              "                                                 ('onehotencoder',\n",
              "                                                  OneHotEncoder(handle_unknown='ignore',\n",
              "                                                                sparse=False))]),\n",
              "                                 <sklearn.compose._column_transformer.make_column_selector object at 0x7ff37a963850>)])"
            ],
            "text/html": [
              "<style>#sk-bd32e6cd-4509-4d97-8966-5f24d5faa844 {color: black;background-color: white;}#sk-bd32e6cd-4509-4d97-8966-5f24d5faa844 pre{padding: 0;}#sk-bd32e6cd-4509-4d97-8966-5f24d5faa844 div.sk-toggleable {background-color: white;}#sk-bd32e6cd-4509-4d97-8966-5f24d5faa844 label.sk-toggleable__label {cursor: pointer;display: block;width: 100%;margin-bottom: 0;padding: 0.3em;box-sizing: border-box;text-align: center;}#sk-bd32e6cd-4509-4d97-8966-5f24d5faa844 label.sk-toggleable__label-arrow:before {content: \"▸\";float: left;margin-right: 0.25em;color: #696969;}#sk-bd32e6cd-4509-4d97-8966-5f24d5faa844 label.sk-toggleable__label-arrow:hover:before {color: black;}#sk-bd32e6cd-4509-4d97-8966-5f24d5faa844 div.sk-estimator:hover label.sk-toggleable__label-arrow:before {color: black;}#sk-bd32e6cd-4509-4d97-8966-5f24d5faa844 div.sk-toggleable__content {max-height: 0;max-width: 0;overflow: hidden;text-align: left;background-color: #f0f8ff;}#sk-bd32e6cd-4509-4d97-8966-5f24d5faa844 div.sk-toggleable__content pre {margin: 0.2em;color: black;border-radius: 0.25em;background-color: #f0f8ff;}#sk-bd32e6cd-4509-4d97-8966-5f24d5faa844 input.sk-toggleable__control:checked~div.sk-toggleable__content {max-height: 200px;max-width: 100%;overflow: auto;}#sk-bd32e6cd-4509-4d97-8966-5f24d5faa844 input.sk-toggleable__control:checked~label.sk-toggleable__label-arrow:before {content: \"▾\";}#sk-bd32e6cd-4509-4d97-8966-5f24d5faa844 div.sk-estimator input.sk-toggleable__control:checked~label.sk-toggleable__label {background-color: #d4ebff;}#sk-bd32e6cd-4509-4d97-8966-5f24d5faa844 div.sk-label input.sk-toggleable__control:checked~label.sk-toggleable__label {background-color: #d4ebff;}#sk-bd32e6cd-4509-4d97-8966-5f24d5faa844 input.sk-hidden--visually {border: 0;clip: rect(1px 1px 1px 1px);clip: rect(1px, 1px, 1px, 1px);height: 1px;margin: -1px;overflow: hidden;padding: 0;position: absolute;width: 1px;}#sk-bd32e6cd-4509-4d97-8966-5f24d5faa844 div.sk-estimator {font-family: monospace;background-color: #f0f8ff;border: 1px dotted black;border-radius: 0.25em;box-sizing: border-box;margin-bottom: 0.5em;}#sk-bd32e6cd-4509-4d97-8966-5f24d5faa844 div.sk-estimator:hover {background-color: #d4ebff;}#sk-bd32e6cd-4509-4d97-8966-5f24d5faa844 div.sk-parallel-item::after {content: \"\";width: 100%;border-bottom: 1px solid gray;flex-grow: 1;}#sk-bd32e6cd-4509-4d97-8966-5f24d5faa844 div.sk-label:hover label.sk-toggleable__label {background-color: #d4ebff;}#sk-bd32e6cd-4509-4d97-8966-5f24d5faa844 div.sk-serial::before {content: \"\";position: absolute;border-left: 1px solid gray;box-sizing: border-box;top: 2em;bottom: 0;left: 50%;}#sk-bd32e6cd-4509-4d97-8966-5f24d5faa844 div.sk-serial {display: flex;flex-direction: column;align-items: center;background-color: white;padding-right: 0.2em;padding-left: 0.2em;}#sk-bd32e6cd-4509-4d97-8966-5f24d5faa844 div.sk-item {z-index: 1;}#sk-bd32e6cd-4509-4d97-8966-5f24d5faa844 div.sk-parallel {display: flex;align-items: stretch;justify-content: center;background-color: white;}#sk-bd32e6cd-4509-4d97-8966-5f24d5faa844 div.sk-parallel::before {content: \"\";position: absolute;border-left: 1px solid gray;box-sizing: border-box;top: 2em;bottom: 0;left: 50%;}#sk-bd32e6cd-4509-4d97-8966-5f24d5faa844 div.sk-parallel-item {display: flex;flex-direction: column;position: relative;background-color: white;}#sk-bd32e6cd-4509-4d97-8966-5f24d5faa844 div.sk-parallel-item:first-child::after {align-self: flex-end;width: 50%;}#sk-bd32e6cd-4509-4d97-8966-5f24d5faa844 div.sk-parallel-item:last-child::after {align-self: flex-start;width: 50%;}#sk-bd32e6cd-4509-4d97-8966-5f24d5faa844 div.sk-parallel-item:only-child::after {width: 0;}#sk-bd32e6cd-4509-4d97-8966-5f24d5faa844 div.sk-dashed-wrapped {border: 1px dashed gray;margin: 0 0.4em 0.5em 0.4em;box-sizing: border-box;padding-bottom: 0.4em;background-color: white;position: relative;}#sk-bd32e6cd-4509-4d97-8966-5f24d5faa844 div.sk-label label {font-family: monospace;font-weight: bold;background-color: white;display: inline-block;line-height: 1.2em;}#sk-bd32e6cd-4509-4d97-8966-5f24d5faa844 div.sk-label-container {position: relative;z-index: 2;text-align: center;}#sk-bd32e6cd-4509-4d97-8966-5f24d5faa844 div.sk-container {/* jupyter's `normalize.less` sets `[hidden] { display: none; }` but bootstrap.min.css set `[hidden] { display: none !important; }` so we also need the `!important` here to be able to override the default hidden behavior on the sphinx rendered scikit-learn.org. See: https://github.com/scikit-learn/scikit-learn/issues/21755 */display: inline-block !important;position: relative;}#sk-bd32e6cd-4509-4d97-8966-5f24d5faa844 div.sk-text-repr-fallback {display: none;}</style><div id=\"sk-bd32e6cd-4509-4d97-8966-5f24d5faa844\" class=\"sk-top-container\"><div class=\"sk-text-repr-fallback\"><pre>ColumnTransformer(remainder=&#x27;passthrough&#x27;,\n",
              "                  transformers=[(&#x27;pipeline-1&#x27;,\n",
              "                                 Pipeline(steps=[(&#x27;simpleimputer&#x27;,\n",
              "                                                  SimpleImputer()),\n",
              "                                                 (&#x27;standardscaler&#x27;,\n",
              "                                                  StandardScaler())]),\n",
              "                                 &lt;sklearn.compose._column_transformer.make_column_selector object at 0x7ff37a0a4850&gt;),\n",
              "                                (&#x27;pipeline-2&#x27;,\n",
              "                                 Pipeline(steps=[(&#x27;simpleimputer&#x27;,\n",
              "                                                  SimpleImputer(strategy=&#x27;most_frequent&#x27;)),\n",
              "                                                 (&#x27;onehotencoder&#x27;,\n",
              "                                                  OneHotEncoder(handle_unknown=&#x27;ignore&#x27;,\n",
              "                                                                sparse=False))]),\n",
              "                                 &lt;sklearn.compose._column_transformer.make_column_selector object at 0x7ff37a963850&gt;)])</pre><b>Please rerun this cell to show the HTML repr or trust the notebook.</b></div><div class=\"sk-container\" hidden><div class=\"sk-item sk-dashed-wrapped\"><div class=\"sk-label-container\"><div class=\"sk-label sk-toggleable\"><input class=\"sk-toggleable__control sk-hidden--visually\" id=\"b8b1bd13-10d9-42e4-9518-40a88323c17c\" type=\"checkbox\" ><label for=\"b8b1bd13-10d9-42e4-9518-40a88323c17c\" class=\"sk-toggleable__label sk-toggleable__label-arrow\">ColumnTransformer</label><div class=\"sk-toggleable__content\"><pre>ColumnTransformer(remainder=&#x27;passthrough&#x27;,\n",
              "                  transformers=[(&#x27;pipeline-1&#x27;,\n",
              "                                 Pipeline(steps=[(&#x27;simpleimputer&#x27;,\n",
              "                                                  SimpleImputer()),\n",
              "                                                 (&#x27;standardscaler&#x27;,\n",
              "                                                  StandardScaler())]),\n",
              "                                 &lt;sklearn.compose._column_transformer.make_column_selector object at 0x7ff37a0a4850&gt;),\n",
              "                                (&#x27;pipeline-2&#x27;,\n",
              "                                 Pipeline(steps=[(&#x27;simpleimputer&#x27;,\n",
              "                                                  SimpleImputer(strategy=&#x27;most_frequent&#x27;)),\n",
              "                                                 (&#x27;onehotencoder&#x27;,\n",
              "                                                  OneHotEncoder(handle_unknown=&#x27;ignore&#x27;,\n",
              "                                                                sparse=False))]),\n",
              "                                 &lt;sklearn.compose._column_transformer.make_column_selector object at 0x7ff37a963850&gt;)])</pre></div></div></div><div class=\"sk-parallel\"><div class=\"sk-parallel-item\"><div class=\"sk-item\"><div class=\"sk-label-container\"><div class=\"sk-label sk-toggleable\"><input class=\"sk-toggleable__control sk-hidden--visually\" id=\"6f2d7ecc-96bc-4d53-badb-477814b6f8fb\" type=\"checkbox\" ><label for=\"6f2d7ecc-96bc-4d53-badb-477814b6f8fb\" class=\"sk-toggleable__label sk-toggleable__label-arrow\">pipeline-1</label><div class=\"sk-toggleable__content\"><pre>&lt;sklearn.compose._column_transformer.make_column_selector object at 0x7ff37a0a4850&gt;</pre></div></div></div><div class=\"sk-serial\"><div class=\"sk-item\"><div class=\"sk-serial\"><div class=\"sk-item\"><div class=\"sk-estimator sk-toggleable\"><input class=\"sk-toggleable__control sk-hidden--visually\" id=\"dd3a1f37-c367-4b93-bbb9-79f8c56a0043\" type=\"checkbox\" ><label for=\"dd3a1f37-c367-4b93-bbb9-79f8c56a0043\" class=\"sk-toggleable__label sk-toggleable__label-arrow\">SimpleImputer</label><div class=\"sk-toggleable__content\"><pre>SimpleImputer()</pre></div></div></div><div class=\"sk-item\"><div class=\"sk-estimator sk-toggleable\"><input class=\"sk-toggleable__control sk-hidden--visually\" id=\"3a1b3af1-8dd2-472c-a19a-cb561c9700bd\" type=\"checkbox\" ><label for=\"3a1b3af1-8dd2-472c-a19a-cb561c9700bd\" class=\"sk-toggleable__label sk-toggleable__label-arrow\">StandardScaler</label><div class=\"sk-toggleable__content\"><pre>StandardScaler()</pre></div></div></div></div></div></div></div></div><div class=\"sk-parallel-item\"><div class=\"sk-item\"><div class=\"sk-label-container\"><div class=\"sk-label sk-toggleable\"><input class=\"sk-toggleable__control sk-hidden--visually\" id=\"aa4d439b-649a-45a4-9aa6-72a9af1d7f7a\" type=\"checkbox\" ><label for=\"aa4d439b-649a-45a4-9aa6-72a9af1d7f7a\" class=\"sk-toggleable__label sk-toggleable__label-arrow\">pipeline-2</label><div class=\"sk-toggleable__content\"><pre>&lt;sklearn.compose._column_transformer.make_column_selector object at 0x7ff37a963850&gt;</pre></div></div></div><div class=\"sk-serial\"><div class=\"sk-item\"><div class=\"sk-serial\"><div class=\"sk-item\"><div class=\"sk-estimator sk-toggleable\"><input class=\"sk-toggleable__control sk-hidden--visually\" id=\"afdf1d1a-58a8-4f6d-86a3-9f8636884e7a\" type=\"checkbox\" ><label for=\"afdf1d1a-58a8-4f6d-86a3-9f8636884e7a\" class=\"sk-toggleable__label sk-toggleable__label-arrow\">SimpleImputer</label><div class=\"sk-toggleable__content\"><pre>SimpleImputer(strategy=&#x27;most_frequent&#x27;)</pre></div></div></div><div class=\"sk-item\"><div class=\"sk-estimator sk-toggleable\"><input class=\"sk-toggleable__control sk-hidden--visually\" id=\"afdd4859-d562-4b9e-b4d1-c0206b1ee66b\" type=\"checkbox\" ><label for=\"afdd4859-d562-4b9e-b4d1-c0206b1ee66b\" class=\"sk-toggleable__label sk-toggleable__label-arrow\">OneHotEncoder</label><div class=\"sk-toggleable__content\"><pre>OneHotEncoder(handle_unknown=&#x27;ignore&#x27;, sparse=False)</pre></div></div></div></div></div></div></div></div><div class=\"sk-parallel-item\"><div class=\"sk-item\"><div class=\"sk-label-container\"><div class=\"sk-label sk-toggleable\"><input class=\"sk-toggleable__control sk-hidden--visually\" id=\"98bcb5f1-c188-4d24-944b-ba92bed67e0a\" type=\"checkbox\" ><label for=\"98bcb5f1-c188-4d24-944b-ba92bed67e0a\" class=\"sk-toggleable__label sk-toggleable__label-arrow\">remainder</label><div class=\"sk-toggleable__content\"><pre>[]</pre></div></div></div><div class=\"sk-serial\"><div class=\"sk-item\"><div class=\"sk-estimator sk-toggleable\"><input class=\"sk-toggleable__control sk-hidden--visually\" id=\"5f9fb0db-8a53-4344-a27f-335d1ad35bbd\" type=\"checkbox\" ><label for=\"5f9fb0db-8a53-4344-a27f-335d1ad35bbd\" class=\"sk-toggleable__label sk-toggleable__label-arrow\">passthrough</label><div class=\"sk-toggleable__content\"><pre>passthrough</pre></div></div></div></div></div></div></div></div></div></div>"
            ]
          },
          "metadata": {},
          "execution_count": 264
        }
      ]
    },
    {
      "cell_type": "markdown",
      "source": [
        "The fit method worked to fit all 4 transformers inside the ColumnTransformer. We will use that fitted ColumnTransformer to transform both our training and testing datasets."
      ],
      "metadata": {
        "id": "liksYhONZWfY"
      }
    },
    {
      "cell_type": "code",
      "source": [
        "# transform train and test\n",
        "X_train_processed = preprocessor.transform(X_train)\n",
        "X_test_processed = preprocessor.transform(X_test)"
      ],
      "metadata": {
        "id": "s0pt8cQaZczT"
      },
      "execution_count": 265,
      "outputs": []
    },
    {
      "cell_type": "markdown",
      "source": [
        "### **Model the Data**\n",
        "\n",
        "- **Baseline Model**"
      ],
      "metadata": {
        "id": "HZIw0fJIaK1A"
      }
    },
    {
      "cell_type": "code",
      "source": [
        "## Create an instance of the model\n",
        "dummy = DummyRegressor(strategy='mean')\n",
        "## Create a model pipeline\n",
        "dummy_pipe = make_pipeline(preprocessor, dummy)\n",
        "## Fit the model\n",
        "dummy_pipe.fit(X_train, y_train)"
      ],
      "metadata": {
        "colab": {
          "base_uri": "https://localhost:8080/",
          "height": 222
        },
        "id": "Mr8n3fNiaI7G",
        "outputId": "0746839d-06c0-43fe-f16b-2eb0e034e52d"
      },
      "execution_count": 266,
      "outputs": [
        {
          "output_type": "execute_result",
          "data": {
            "text/plain": [
              "Pipeline(steps=[('columntransformer',\n",
              "                 ColumnTransformer(remainder='passthrough',\n",
              "                                   transformers=[('pipeline-1',\n",
              "                                                  Pipeline(steps=[('simpleimputer',\n",
              "                                                                   SimpleImputer()),\n",
              "                                                                  ('standardscaler',\n",
              "                                                                   StandardScaler())]),\n",
              "                                                  <sklearn.compose._column_transformer.make_column_selector object at 0x7ff37a0a4850>),\n",
              "                                                 ('pipeline-2',\n",
              "                                                  Pipeline(steps=[('simpleimputer',\n",
              "                                                                   SimpleImputer(strategy='most_frequent')),\n",
              "                                                                  ('onehotencoder',\n",
              "                                                                   OneHotEncoder(handle_unknown='ignore',\n",
              "                                                                                 sparse=False))]),\n",
              "                                                  <sklearn.compose._column_transformer.make_column_selector object at 0x7ff37a963850>)])),\n",
              "                ('dummyregressor', DummyRegressor())])"
            ],
            "text/html": [
              "<style>#sk-19de7765-8c86-455e-b3aa-489cb3608642 {color: black;background-color: white;}#sk-19de7765-8c86-455e-b3aa-489cb3608642 pre{padding: 0;}#sk-19de7765-8c86-455e-b3aa-489cb3608642 div.sk-toggleable {background-color: white;}#sk-19de7765-8c86-455e-b3aa-489cb3608642 label.sk-toggleable__label {cursor: pointer;display: block;width: 100%;margin-bottom: 0;padding: 0.3em;box-sizing: border-box;text-align: center;}#sk-19de7765-8c86-455e-b3aa-489cb3608642 label.sk-toggleable__label-arrow:before {content: \"▸\";float: left;margin-right: 0.25em;color: #696969;}#sk-19de7765-8c86-455e-b3aa-489cb3608642 label.sk-toggleable__label-arrow:hover:before {color: black;}#sk-19de7765-8c86-455e-b3aa-489cb3608642 div.sk-estimator:hover label.sk-toggleable__label-arrow:before {color: black;}#sk-19de7765-8c86-455e-b3aa-489cb3608642 div.sk-toggleable__content {max-height: 0;max-width: 0;overflow: hidden;text-align: left;background-color: #f0f8ff;}#sk-19de7765-8c86-455e-b3aa-489cb3608642 div.sk-toggleable__content pre {margin: 0.2em;color: black;border-radius: 0.25em;background-color: #f0f8ff;}#sk-19de7765-8c86-455e-b3aa-489cb3608642 input.sk-toggleable__control:checked~div.sk-toggleable__content {max-height: 200px;max-width: 100%;overflow: auto;}#sk-19de7765-8c86-455e-b3aa-489cb3608642 input.sk-toggleable__control:checked~label.sk-toggleable__label-arrow:before {content: \"▾\";}#sk-19de7765-8c86-455e-b3aa-489cb3608642 div.sk-estimator input.sk-toggleable__control:checked~label.sk-toggleable__label {background-color: #d4ebff;}#sk-19de7765-8c86-455e-b3aa-489cb3608642 div.sk-label input.sk-toggleable__control:checked~label.sk-toggleable__label {background-color: #d4ebff;}#sk-19de7765-8c86-455e-b3aa-489cb3608642 input.sk-hidden--visually {border: 0;clip: rect(1px 1px 1px 1px);clip: rect(1px, 1px, 1px, 1px);height: 1px;margin: -1px;overflow: hidden;padding: 0;position: absolute;width: 1px;}#sk-19de7765-8c86-455e-b3aa-489cb3608642 div.sk-estimator {font-family: monospace;background-color: #f0f8ff;border: 1px dotted black;border-radius: 0.25em;box-sizing: border-box;margin-bottom: 0.5em;}#sk-19de7765-8c86-455e-b3aa-489cb3608642 div.sk-estimator:hover {background-color: #d4ebff;}#sk-19de7765-8c86-455e-b3aa-489cb3608642 div.sk-parallel-item::after {content: \"\";width: 100%;border-bottom: 1px solid gray;flex-grow: 1;}#sk-19de7765-8c86-455e-b3aa-489cb3608642 div.sk-label:hover label.sk-toggleable__label {background-color: #d4ebff;}#sk-19de7765-8c86-455e-b3aa-489cb3608642 div.sk-serial::before {content: \"\";position: absolute;border-left: 1px solid gray;box-sizing: border-box;top: 2em;bottom: 0;left: 50%;}#sk-19de7765-8c86-455e-b3aa-489cb3608642 div.sk-serial {display: flex;flex-direction: column;align-items: center;background-color: white;padding-right: 0.2em;padding-left: 0.2em;}#sk-19de7765-8c86-455e-b3aa-489cb3608642 div.sk-item {z-index: 1;}#sk-19de7765-8c86-455e-b3aa-489cb3608642 div.sk-parallel {display: flex;align-items: stretch;justify-content: center;background-color: white;}#sk-19de7765-8c86-455e-b3aa-489cb3608642 div.sk-parallel::before {content: \"\";position: absolute;border-left: 1px solid gray;box-sizing: border-box;top: 2em;bottom: 0;left: 50%;}#sk-19de7765-8c86-455e-b3aa-489cb3608642 div.sk-parallel-item {display: flex;flex-direction: column;position: relative;background-color: white;}#sk-19de7765-8c86-455e-b3aa-489cb3608642 div.sk-parallel-item:first-child::after {align-self: flex-end;width: 50%;}#sk-19de7765-8c86-455e-b3aa-489cb3608642 div.sk-parallel-item:last-child::after {align-self: flex-start;width: 50%;}#sk-19de7765-8c86-455e-b3aa-489cb3608642 div.sk-parallel-item:only-child::after {width: 0;}#sk-19de7765-8c86-455e-b3aa-489cb3608642 div.sk-dashed-wrapped {border: 1px dashed gray;margin: 0 0.4em 0.5em 0.4em;box-sizing: border-box;padding-bottom: 0.4em;background-color: white;position: relative;}#sk-19de7765-8c86-455e-b3aa-489cb3608642 div.sk-label label {font-family: monospace;font-weight: bold;background-color: white;display: inline-block;line-height: 1.2em;}#sk-19de7765-8c86-455e-b3aa-489cb3608642 div.sk-label-container {position: relative;z-index: 2;text-align: center;}#sk-19de7765-8c86-455e-b3aa-489cb3608642 div.sk-container {/* jupyter's `normalize.less` sets `[hidden] { display: none; }` but bootstrap.min.css set `[hidden] { display: none !important; }` so we also need the `!important` here to be able to override the default hidden behavior on the sphinx rendered scikit-learn.org. See: https://github.com/scikit-learn/scikit-learn/issues/21755 */display: inline-block !important;position: relative;}#sk-19de7765-8c86-455e-b3aa-489cb3608642 div.sk-text-repr-fallback {display: none;}</style><div id=\"sk-19de7765-8c86-455e-b3aa-489cb3608642\" class=\"sk-top-container\"><div class=\"sk-text-repr-fallback\"><pre>Pipeline(steps=[(&#x27;columntransformer&#x27;,\n",
              "                 ColumnTransformer(remainder=&#x27;passthrough&#x27;,\n",
              "                                   transformers=[(&#x27;pipeline-1&#x27;,\n",
              "                                                  Pipeline(steps=[(&#x27;simpleimputer&#x27;,\n",
              "                                                                   SimpleImputer()),\n",
              "                                                                  (&#x27;standardscaler&#x27;,\n",
              "                                                                   StandardScaler())]),\n",
              "                                                  &lt;sklearn.compose._column_transformer.make_column_selector object at 0x7ff37a0a4850&gt;),\n",
              "                                                 (&#x27;pipeline-2&#x27;,\n",
              "                                                  Pipeline(steps=[(&#x27;simpleimputer&#x27;,\n",
              "                                                                   SimpleImputer(strategy=&#x27;most_frequent&#x27;)),\n",
              "                                                                  (&#x27;onehotencoder&#x27;,\n",
              "                                                                   OneHotEncoder(handle_unknown=&#x27;ignore&#x27;,\n",
              "                                                                                 sparse=False))]),\n",
              "                                                  &lt;sklearn.compose._column_transformer.make_column_selector object at 0x7ff37a963850&gt;)])),\n",
              "                (&#x27;dummyregressor&#x27;, DummyRegressor())])</pre><b>Please rerun this cell to show the HTML repr or trust the notebook.</b></div><div class=\"sk-container\" hidden><div class=\"sk-item sk-dashed-wrapped\"><div class=\"sk-label-container\"><div class=\"sk-label sk-toggleable\"><input class=\"sk-toggleable__control sk-hidden--visually\" id=\"b27a4887-f667-49dd-ad98-5cb9051fc8af\" type=\"checkbox\" ><label for=\"b27a4887-f667-49dd-ad98-5cb9051fc8af\" class=\"sk-toggleable__label sk-toggleable__label-arrow\">Pipeline</label><div class=\"sk-toggleable__content\"><pre>Pipeline(steps=[(&#x27;columntransformer&#x27;,\n",
              "                 ColumnTransformer(remainder=&#x27;passthrough&#x27;,\n",
              "                                   transformers=[(&#x27;pipeline-1&#x27;,\n",
              "                                                  Pipeline(steps=[(&#x27;simpleimputer&#x27;,\n",
              "                                                                   SimpleImputer()),\n",
              "                                                                  (&#x27;standardscaler&#x27;,\n",
              "                                                                   StandardScaler())]),\n",
              "                                                  &lt;sklearn.compose._column_transformer.make_column_selector object at 0x7ff37a0a4850&gt;),\n",
              "                                                 (&#x27;pipeline-2&#x27;,\n",
              "                                                  Pipeline(steps=[(&#x27;simpleimputer&#x27;,\n",
              "                                                                   SimpleImputer(strategy=&#x27;most_frequent&#x27;)),\n",
              "                                                                  (&#x27;onehotencoder&#x27;,\n",
              "                                                                   OneHotEncoder(handle_unknown=&#x27;ignore&#x27;,\n",
              "                                                                                 sparse=False))]),\n",
              "                                                  &lt;sklearn.compose._column_transformer.make_column_selector object at 0x7ff37a963850&gt;)])),\n",
              "                (&#x27;dummyregressor&#x27;, DummyRegressor())])</pre></div></div></div><div class=\"sk-serial\"><div class=\"sk-item sk-dashed-wrapped\"><div class=\"sk-label-container\"><div class=\"sk-label sk-toggleable\"><input class=\"sk-toggleable__control sk-hidden--visually\" id=\"ca31d42a-283b-4cb3-81ee-1160282c9d9d\" type=\"checkbox\" ><label for=\"ca31d42a-283b-4cb3-81ee-1160282c9d9d\" class=\"sk-toggleable__label sk-toggleable__label-arrow\">columntransformer: ColumnTransformer</label><div class=\"sk-toggleable__content\"><pre>ColumnTransformer(remainder=&#x27;passthrough&#x27;,\n",
              "                  transformers=[(&#x27;pipeline-1&#x27;,\n",
              "                                 Pipeline(steps=[(&#x27;simpleimputer&#x27;,\n",
              "                                                  SimpleImputer()),\n",
              "                                                 (&#x27;standardscaler&#x27;,\n",
              "                                                  StandardScaler())]),\n",
              "                                 &lt;sklearn.compose._column_transformer.make_column_selector object at 0x7ff37a0a4850&gt;),\n",
              "                                (&#x27;pipeline-2&#x27;,\n",
              "                                 Pipeline(steps=[(&#x27;simpleimputer&#x27;,\n",
              "                                                  SimpleImputer(strategy=&#x27;most_frequent&#x27;)),\n",
              "                                                 (&#x27;onehotencoder&#x27;,\n",
              "                                                  OneHotEncoder(handle_unknown=&#x27;ignore&#x27;,\n",
              "                                                                sparse=False))]),\n",
              "                                 &lt;sklearn.compose._column_transformer.make_column_selector object at 0x7ff37a963850&gt;)])</pre></div></div></div><div class=\"sk-parallel\"><div class=\"sk-parallel-item\"><div class=\"sk-item\"><div class=\"sk-label-container\"><div class=\"sk-label sk-toggleable\"><input class=\"sk-toggleable__control sk-hidden--visually\" id=\"b47237dc-f713-413c-acf8-e28d8bc1987d\" type=\"checkbox\" ><label for=\"b47237dc-f713-413c-acf8-e28d8bc1987d\" class=\"sk-toggleable__label sk-toggleable__label-arrow\">pipeline-1</label><div class=\"sk-toggleable__content\"><pre>&lt;sklearn.compose._column_transformer.make_column_selector object at 0x7ff37a0a4850&gt;</pre></div></div></div><div class=\"sk-serial\"><div class=\"sk-item\"><div class=\"sk-serial\"><div class=\"sk-item\"><div class=\"sk-estimator sk-toggleable\"><input class=\"sk-toggleable__control sk-hidden--visually\" id=\"fda03635-74cc-4b2d-adb5-9f7110e3453b\" type=\"checkbox\" ><label for=\"fda03635-74cc-4b2d-adb5-9f7110e3453b\" class=\"sk-toggleable__label sk-toggleable__label-arrow\">SimpleImputer</label><div class=\"sk-toggleable__content\"><pre>SimpleImputer()</pre></div></div></div><div class=\"sk-item\"><div class=\"sk-estimator sk-toggleable\"><input class=\"sk-toggleable__control sk-hidden--visually\" id=\"a91acab7-7a36-40af-abee-dd9b4dfaab4f\" type=\"checkbox\" ><label for=\"a91acab7-7a36-40af-abee-dd9b4dfaab4f\" class=\"sk-toggleable__label sk-toggleable__label-arrow\">StandardScaler</label><div class=\"sk-toggleable__content\"><pre>StandardScaler()</pre></div></div></div></div></div></div></div></div><div class=\"sk-parallel-item\"><div class=\"sk-item\"><div class=\"sk-label-container\"><div class=\"sk-label sk-toggleable\"><input class=\"sk-toggleable__control sk-hidden--visually\" id=\"b4585351-bfab-4a21-94d2-ce180d868d50\" type=\"checkbox\" ><label for=\"b4585351-bfab-4a21-94d2-ce180d868d50\" class=\"sk-toggleable__label sk-toggleable__label-arrow\">pipeline-2</label><div class=\"sk-toggleable__content\"><pre>&lt;sklearn.compose._column_transformer.make_column_selector object at 0x7ff37a963850&gt;</pre></div></div></div><div class=\"sk-serial\"><div class=\"sk-item\"><div class=\"sk-serial\"><div class=\"sk-item\"><div class=\"sk-estimator sk-toggleable\"><input class=\"sk-toggleable__control sk-hidden--visually\" id=\"ab0d98da-73ec-44f9-a770-ef6159e30c59\" type=\"checkbox\" ><label for=\"ab0d98da-73ec-44f9-a770-ef6159e30c59\" class=\"sk-toggleable__label sk-toggleable__label-arrow\">SimpleImputer</label><div class=\"sk-toggleable__content\"><pre>SimpleImputer(strategy=&#x27;most_frequent&#x27;)</pre></div></div></div><div class=\"sk-item\"><div class=\"sk-estimator sk-toggleable\"><input class=\"sk-toggleable__control sk-hidden--visually\" id=\"c9ed8b0d-b716-46ac-89b4-238b30aba784\" type=\"checkbox\" ><label for=\"c9ed8b0d-b716-46ac-89b4-238b30aba784\" class=\"sk-toggleable__label sk-toggleable__label-arrow\">OneHotEncoder</label><div class=\"sk-toggleable__content\"><pre>OneHotEncoder(handle_unknown=&#x27;ignore&#x27;, sparse=False)</pre></div></div></div></div></div></div></div></div><div class=\"sk-parallel-item\"><div class=\"sk-item\"><div class=\"sk-label-container\"><div class=\"sk-label sk-toggleable\"><input class=\"sk-toggleable__control sk-hidden--visually\" id=\"88a3a541-ab3a-4025-8e2b-a296a0fa957f\" type=\"checkbox\" ><label for=\"88a3a541-ab3a-4025-8e2b-a296a0fa957f\" class=\"sk-toggleable__label sk-toggleable__label-arrow\">remainder</label><div class=\"sk-toggleable__content\"><pre>[]</pre></div></div></div><div class=\"sk-serial\"><div class=\"sk-item\"><div class=\"sk-estimator sk-toggleable\"><input class=\"sk-toggleable__control sk-hidden--visually\" id=\"df6658f9-3926-4434-9472-a1e4f084333d\" type=\"checkbox\" ><label for=\"df6658f9-3926-4434-9472-a1e4f084333d\" class=\"sk-toggleable__label sk-toggleable__label-arrow\">passthrough</label><div class=\"sk-toggleable__content\"><pre>passthrough</pre></div></div></div></div></div></div></div></div><div class=\"sk-item\"><div class=\"sk-estimator sk-toggleable\"><input class=\"sk-toggleable__control sk-hidden--visually\" id=\"67d4e45c-3094-413e-bd99-61a3131b2fe3\" type=\"checkbox\" ><label for=\"67d4e45c-3094-413e-bd99-61a3131b2fe3\" class=\"sk-toggleable__label sk-toggleable__label-arrow\">DummyRegressor</label><div class=\"sk-toggleable__content\"><pre>DummyRegressor()</pre></div></div></div></div></div></div></div>"
            ]
          },
          "metadata": {},
          "execution_count": 266
        }
      ]
    },
    {
      "cell_type": "markdown",
      "source": [
        "### **Metrics**"
      ],
      "metadata": {
        "id": "iFYd0smzc71N"
      }
    },
    {
      "cell_type": "code",
      "source": [
        "## Display the Model's metrics\n",
        "model_metrics(dummy_pipe, x_train=X_train, y_train=y_train, \n",
        "                          x_test=X_test, y_test=y_test, \n",
        "                           model_name='Dummy Model')"
      ],
      "metadata": {
        "colab": {
          "base_uri": "https://localhost:8080/"
        },
        "id": "nr-ppLEQdAcR",
        "outputId": "4d610f61-7a56-4973-dcd4-fb9a9cfa4361"
      },
      "execution_count": 267,
      "outputs": [
        {
          "output_type": "stream",
          "name": "stdout",
          "text": [
            "Dummy Model Train Scores\n",
            "MAE: 1,360.2184 \n",
            "MSE: 2,959,455.7045 \n",
            "RMSE: 1,720.3069 \n",
            "R2: 0.0000\n",
            "\n",
            "Dummy Model Test Scores\n",
            "MAE: 1,326.1210 \n",
            "MSE: 2,772,144.4627 \n",
            "RMSE: 1,664.9758 \n",
            "R2: -0.0048\n",
            "\n"
          ]
        }
      ]
    },
    {
      "cell_type": "markdown",
      "source": [
        "**R^2 shows the model is undefined**\n",
        "**though RSME shows a good fit model**"
      ],
      "metadata": {
        "id": "hVkpLFs1eZNy"
      }
    },
    {
      "cell_type": "markdown",
      "source": [
        "### **1. Linear Regression Model to Predict Sales**"
      ],
      "metadata": {
        "id": "RM4MoJqHfY8y"
      }
    },
    {
      "cell_type": "code",
      "source": [
        "# Create an instance of model \n",
        "lin_reg = LinearRegression()\n",
        "\n",
        "# create a pipeline for regression model\n",
        "lin_reg_pipe = make_pipeline(preprocessor, lin_reg)\n",
        "\n",
        "# fit on model\n",
        "lin_reg_pipe.fit(X_train, y_train)"
      ],
      "metadata": {
        "colab": {
          "base_uri": "https://localhost:8080/",
          "height": 222
        },
        "id": "iSwvKTqAfgba",
        "outputId": "3b9d1a3c-4255-4c39-cf84-f8decc8a6fb7"
      },
      "execution_count": 268,
      "outputs": [
        {
          "output_type": "execute_result",
          "data": {
            "text/plain": [
              "Pipeline(steps=[('columntransformer',\n",
              "                 ColumnTransformer(remainder='passthrough',\n",
              "                                   transformers=[('pipeline-1',\n",
              "                                                  Pipeline(steps=[('simpleimputer',\n",
              "                                                                   SimpleImputer()),\n",
              "                                                                  ('standardscaler',\n",
              "                                                                   StandardScaler())]),\n",
              "                                                  <sklearn.compose._column_transformer.make_column_selector object at 0x7ff37a0a4850>),\n",
              "                                                 ('pipeline-2',\n",
              "                                                  Pipeline(steps=[('simpleimputer',\n",
              "                                                                   SimpleImputer(strategy='most_frequent')),\n",
              "                                                                  ('onehotencoder',\n",
              "                                                                   OneHotEncoder(handle_unknown='ignore',\n",
              "                                                                                 sparse=False))]),\n",
              "                                                  <sklearn.compose._column_transformer.make_column_selector object at 0x7ff37a963850>)])),\n",
              "                ('linearregression', LinearRegression())])"
            ],
            "text/html": [
              "<style>#sk-bdc3aa48-34b1-48fc-aaef-a7378d2c3e06 {color: black;background-color: white;}#sk-bdc3aa48-34b1-48fc-aaef-a7378d2c3e06 pre{padding: 0;}#sk-bdc3aa48-34b1-48fc-aaef-a7378d2c3e06 div.sk-toggleable {background-color: white;}#sk-bdc3aa48-34b1-48fc-aaef-a7378d2c3e06 label.sk-toggleable__label {cursor: pointer;display: block;width: 100%;margin-bottom: 0;padding: 0.3em;box-sizing: border-box;text-align: center;}#sk-bdc3aa48-34b1-48fc-aaef-a7378d2c3e06 label.sk-toggleable__label-arrow:before {content: \"▸\";float: left;margin-right: 0.25em;color: #696969;}#sk-bdc3aa48-34b1-48fc-aaef-a7378d2c3e06 label.sk-toggleable__label-arrow:hover:before {color: black;}#sk-bdc3aa48-34b1-48fc-aaef-a7378d2c3e06 div.sk-estimator:hover label.sk-toggleable__label-arrow:before {color: black;}#sk-bdc3aa48-34b1-48fc-aaef-a7378d2c3e06 div.sk-toggleable__content {max-height: 0;max-width: 0;overflow: hidden;text-align: left;background-color: #f0f8ff;}#sk-bdc3aa48-34b1-48fc-aaef-a7378d2c3e06 div.sk-toggleable__content pre {margin: 0.2em;color: black;border-radius: 0.25em;background-color: #f0f8ff;}#sk-bdc3aa48-34b1-48fc-aaef-a7378d2c3e06 input.sk-toggleable__control:checked~div.sk-toggleable__content {max-height: 200px;max-width: 100%;overflow: auto;}#sk-bdc3aa48-34b1-48fc-aaef-a7378d2c3e06 input.sk-toggleable__control:checked~label.sk-toggleable__label-arrow:before {content: \"▾\";}#sk-bdc3aa48-34b1-48fc-aaef-a7378d2c3e06 div.sk-estimator input.sk-toggleable__control:checked~label.sk-toggleable__label {background-color: #d4ebff;}#sk-bdc3aa48-34b1-48fc-aaef-a7378d2c3e06 div.sk-label input.sk-toggleable__control:checked~label.sk-toggleable__label {background-color: #d4ebff;}#sk-bdc3aa48-34b1-48fc-aaef-a7378d2c3e06 input.sk-hidden--visually {border: 0;clip: rect(1px 1px 1px 1px);clip: rect(1px, 1px, 1px, 1px);height: 1px;margin: -1px;overflow: hidden;padding: 0;position: absolute;width: 1px;}#sk-bdc3aa48-34b1-48fc-aaef-a7378d2c3e06 div.sk-estimator {font-family: monospace;background-color: #f0f8ff;border: 1px dotted black;border-radius: 0.25em;box-sizing: border-box;margin-bottom: 0.5em;}#sk-bdc3aa48-34b1-48fc-aaef-a7378d2c3e06 div.sk-estimator:hover {background-color: #d4ebff;}#sk-bdc3aa48-34b1-48fc-aaef-a7378d2c3e06 div.sk-parallel-item::after {content: \"\";width: 100%;border-bottom: 1px solid gray;flex-grow: 1;}#sk-bdc3aa48-34b1-48fc-aaef-a7378d2c3e06 div.sk-label:hover label.sk-toggleable__label {background-color: #d4ebff;}#sk-bdc3aa48-34b1-48fc-aaef-a7378d2c3e06 div.sk-serial::before {content: \"\";position: absolute;border-left: 1px solid gray;box-sizing: border-box;top: 2em;bottom: 0;left: 50%;}#sk-bdc3aa48-34b1-48fc-aaef-a7378d2c3e06 div.sk-serial {display: flex;flex-direction: column;align-items: center;background-color: white;padding-right: 0.2em;padding-left: 0.2em;}#sk-bdc3aa48-34b1-48fc-aaef-a7378d2c3e06 div.sk-item {z-index: 1;}#sk-bdc3aa48-34b1-48fc-aaef-a7378d2c3e06 div.sk-parallel {display: flex;align-items: stretch;justify-content: center;background-color: white;}#sk-bdc3aa48-34b1-48fc-aaef-a7378d2c3e06 div.sk-parallel::before {content: \"\";position: absolute;border-left: 1px solid gray;box-sizing: border-box;top: 2em;bottom: 0;left: 50%;}#sk-bdc3aa48-34b1-48fc-aaef-a7378d2c3e06 div.sk-parallel-item {display: flex;flex-direction: column;position: relative;background-color: white;}#sk-bdc3aa48-34b1-48fc-aaef-a7378d2c3e06 div.sk-parallel-item:first-child::after {align-self: flex-end;width: 50%;}#sk-bdc3aa48-34b1-48fc-aaef-a7378d2c3e06 div.sk-parallel-item:last-child::after {align-self: flex-start;width: 50%;}#sk-bdc3aa48-34b1-48fc-aaef-a7378d2c3e06 div.sk-parallel-item:only-child::after {width: 0;}#sk-bdc3aa48-34b1-48fc-aaef-a7378d2c3e06 div.sk-dashed-wrapped {border: 1px dashed gray;margin: 0 0.4em 0.5em 0.4em;box-sizing: border-box;padding-bottom: 0.4em;background-color: white;position: relative;}#sk-bdc3aa48-34b1-48fc-aaef-a7378d2c3e06 div.sk-label label {font-family: monospace;font-weight: bold;background-color: white;display: inline-block;line-height: 1.2em;}#sk-bdc3aa48-34b1-48fc-aaef-a7378d2c3e06 div.sk-label-container {position: relative;z-index: 2;text-align: center;}#sk-bdc3aa48-34b1-48fc-aaef-a7378d2c3e06 div.sk-container {/* jupyter's `normalize.less` sets `[hidden] { display: none; }` but bootstrap.min.css set `[hidden] { display: none !important; }` so we also need the `!important` here to be able to override the default hidden behavior on the sphinx rendered scikit-learn.org. See: https://github.com/scikit-learn/scikit-learn/issues/21755 */display: inline-block !important;position: relative;}#sk-bdc3aa48-34b1-48fc-aaef-a7378d2c3e06 div.sk-text-repr-fallback {display: none;}</style><div id=\"sk-bdc3aa48-34b1-48fc-aaef-a7378d2c3e06\" class=\"sk-top-container\"><div class=\"sk-text-repr-fallback\"><pre>Pipeline(steps=[(&#x27;columntransformer&#x27;,\n",
              "                 ColumnTransformer(remainder=&#x27;passthrough&#x27;,\n",
              "                                   transformers=[(&#x27;pipeline-1&#x27;,\n",
              "                                                  Pipeline(steps=[(&#x27;simpleimputer&#x27;,\n",
              "                                                                   SimpleImputer()),\n",
              "                                                                  (&#x27;standardscaler&#x27;,\n",
              "                                                                   StandardScaler())]),\n",
              "                                                  &lt;sklearn.compose._column_transformer.make_column_selector object at 0x7ff37a0a4850&gt;),\n",
              "                                                 (&#x27;pipeline-2&#x27;,\n",
              "                                                  Pipeline(steps=[(&#x27;simpleimputer&#x27;,\n",
              "                                                                   SimpleImputer(strategy=&#x27;most_frequent&#x27;)),\n",
              "                                                                  (&#x27;onehotencoder&#x27;,\n",
              "                                                                   OneHotEncoder(handle_unknown=&#x27;ignore&#x27;,\n",
              "                                                                                 sparse=False))]),\n",
              "                                                  &lt;sklearn.compose._column_transformer.make_column_selector object at 0x7ff37a963850&gt;)])),\n",
              "                (&#x27;linearregression&#x27;, LinearRegression())])</pre><b>Please rerun this cell to show the HTML repr or trust the notebook.</b></div><div class=\"sk-container\" hidden><div class=\"sk-item sk-dashed-wrapped\"><div class=\"sk-label-container\"><div class=\"sk-label sk-toggleable\"><input class=\"sk-toggleable__control sk-hidden--visually\" id=\"c83674ae-1003-46e1-b225-8b523e59e129\" type=\"checkbox\" ><label for=\"c83674ae-1003-46e1-b225-8b523e59e129\" class=\"sk-toggleable__label sk-toggleable__label-arrow\">Pipeline</label><div class=\"sk-toggleable__content\"><pre>Pipeline(steps=[(&#x27;columntransformer&#x27;,\n",
              "                 ColumnTransformer(remainder=&#x27;passthrough&#x27;,\n",
              "                                   transformers=[(&#x27;pipeline-1&#x27;,\n",
              "                                                  Pipeline(steps=[(&#x27;simpleimputer&#x27;,\n",
              "                                                                   SimpleImputer()),\n",
              "                                                                  (&#x27;standardscaler&#x27;,\n",
              "                                                                   StandardScaler())]),\n",
              "                                                  &lt;sklearn.compose._column_transformer.make_column_selector object at 0x7ff37a0a4850&gt;),\n",
              "                                                 (&#x27;pipeline-2&#x27;,\n",
              "                                                  Pipeline(steps=[(&#x27;simpleimputer&#x27;,\n",
              "                                                                   SimpleImputer(strategy=&#x27;most_frequent&#x27;)),\n",
              "                                                                  (&#x27;onehotencoder&#x27;,\n",
              "                                                                   OneHotEncoder(handle_unknown=&#x27;ignore&#x27;,\n",
              "                                                                                 sparse=False))]),\n",
              "                                                  &lt;sklearn.compose._column_transformer.make_column_selector object at 0x7ff37a963850&gt;)])),\n",
              "                (&#x27;linearregression&#x27;, LinearRegression())])</pre></div></div></div><div class=\"sk-serial\"><div class=\"sk-item sk-dashed-wrapped\"><div class=\"sk-label-container\"><div class=\"sk-label sk-toggleable\"><input class=\"sk-toggleable__control sk-hidden--visually\" id=\"c4f11711-af8a-458c-a564-a2318c8e2c17\" type=\"checkbox\" ><label for=\"c4f11711-af8a-458c-a564-a2318c8e2c17\" class=\"sk-toggleable__label sk-toggleable__label-arrow\">columntransformer: ColumnTransformer</label><div class=\"sk-toggleable__content\"><pre>ColumnTransformer(remainder=&#x27;passthrough&#x27;,\n",
              "                  transformers=[(&#x27;pipeline-1&#x27;,\n",
              "                                 Pipeline(steps=[(&#x27;simpleimputer&#x27;,\n",
              "                                                  SimpleImputer()),\n",
              "                                                 (&#x27;standardscaler&#x27;,\n",
              "                                                  StandardScaler())]),\n",
              "                                 &lt;sklearn.compose._column_transformer.make_column_selector object at 0x7ff37a0a4850&gt;),\n",
              "                                (&#x27;pipeline-2&#x27;,\n",
              "                                 Pipeline(steps=[(&#x27;simpleimputer&#x27;,\n",
              "                                                  SimpleImputer(strategy=&#x27;most_frequent&#x27;)),\n",
              "                                                 (&#x27;onehotencoder&#x27;,\n",
              "                                                  OneHotEncoder(handle_unknown=&#x27;ignore&#x27;,\n",
              "                                                                sparse=False))]),\n",
              "                                 &lt;sklearn.compose._column_transformer.make_column_selector object at 0x7ff37a963850&gt;)])</pre></div></div></div><div class=\"sk-parallel\"><div class=\"sk-parallel-item\"><div class=\"sk-item\"><div class=\"sk-label-container\"><div class=\"sk-label sk-toggleable\"><input class=\"sk-toggleable__control sk-hidden--visually\" id=\"35cdf014-2426-4fef-9b8f-0f0ce5fc5931\" type=\"checkbox\" ><label for=\"35cdf014-2426-4fef-9b8f-0f0ce5fc5931\" class=\"sk-toggleable__label sk-toggleable__label-arrow\">pipeline-1</label><div class=\"sk-toggleable__content\"><pre>&lt;sklearn.compose._column_transformer.make_column_selector object at 0x7ff37a0a4850&gt;</pre></div></div></div><div class=\"sk-serial\"><div class=\"sk-item\"><div class=\"sk-serial\"><div class=\"sk-item\"><div class=\"sk-estimator sk-toggleable\"><input class=\"sk-toggleable__control sk-hidden--visually\" id=\"699386e5-f761-4aa0-8f5b-216229f2b5d5\" type=\"checkbox\" ><label for=\"699386e5-f761-4aa0-8f5b-216229f2b5d5\" class=\"sk-toggleable__label sk-toggleable__label-arrow\">SimpleImputer</label><div class=\"sk-toggleable__content\"><pre>SimpleImputer()</pre></div></div></div><div class=\"sk-item\"><div class=\"sk-estimator sk-toggleable\"><input class=\"sk-toggleable__control sk-hidden--visually\" id=\"0ecba976-3c18-49c7-b4e2-ac740ef6ae5c\" type=\"checkbox\" ><label for=\"0ecba976-3c18-49c7-b4e2-ac740ef6ae5c\" class=\"sk-toggleable__label sk-toggleable__label-arrow\">StandardScaler</label><div class=\"sk-toggleable__content\"><pre>StandardScaler()</pre></div></div></div></div></div></div></div></div><div class=\"sk-parallel-item\"><div class=\"sk-item\"><div class=\"sk-label-container\"><div class=\"sk-label sk-toggleable\"><input class=\"sk-toggleable__control sk-hidden--visually\" id=\"6dd6565a-1a8b-4115-aedb-6ed564867f28\" type=\"checkbox\" ><label for=\"6dd6565a-1a8b-4115-aedb-6ed564867f28\" class=\"sk-toggleable__label sk-toggleable__label-arrow\">pipeline-2</label><div class=\"sk-toggleable__content\"><pre>&lt;sklearn.compose._column_transformer.make_column_selector object at 0x7ff37a963850&gt;</pre></div></div></div><div class=\"sk-serial\"><div class=\"sk-item\"><div class=\"sk-serial\"><div class=\"sk-item\"><div class=\"sk-estimator sk-toggleable\"><input class=\"sk-toggleable__control sk-hidden--visually\" id=\"a35f316f-a2a4-46f4-99c7-5df1b16cb90c\" type=\"checkbox\" ><label for=\"a35f316f-a2a4-46f4-99c7-5df1b16cb90c\" class=\"sk-toggleable__label sk-toggleable__label-arrow\">SimpleImputer</label><div class=\"sk-toggleable__content\"><pre>SimpleImputer(strategy=&#x27;most_frequent&#x27;)</pre></div></div></div><div class=\"sk-item\"><div class=\"sk-estimator sk-toggleable\"><input class=\"sk-toggleable__control sk-hidden--visually\" id=\"ee2b0c80-f38d-47a3-bb0a-6d49059ea749\" type=\"checkbox\" ><label for=\"ee2b0c80-f38d-47a3-bb0a-6d49059ea749\" class=\"sk-toggleable__label sk-toggleable__label-arrow\">OneHotEncoder</label><div class=\"sk-toggleable__content\"><pre>OneHotEncoder(handle_unknown=&#x27;ignore&#x27;, sparse=False)</pre></div></div></div></div></div></div></div></div><div class=\"sk-parallel-item\"><div class=\"sk-item\"><div class=\"sk-label-container\"><div class=\"sk-label sk-toggleable\"><input class=\"sk-toggleable__control sk-hidden--visually\" id=\"1b9a1902-3a27-42ab-b1df-619162c8b97f\" type=\"checkbox\" ><label for=\"1b9a1902-3a27-42ab-b1df-619162c8b97f\" class=\"sk-toggleable__label sk-toggleable__label-arrow\">remainder</label><div class=\"sk-toggleable__content\"><pre>[]</pre></div></div></div><div class=\"sk-serial\"><div class=\"sk-item\"><div class=\"sk-estimator sk-toggleable\"><input class=\"sk-toggleable__control sk-hidden--visually\" id=\"cb0282fc-c645-487b-8b25-153f694d1ac9\" type=\"checkbox\" ><label for=\"cb0282fc-c645-487b-8b25-153f694d1ac9\" class=\"sk-toggleable__label sk-toggleable__label-arrow\">passthrough</label><div class=\"sk-toggleable__content\"><pre>passthrough</pre></div></div></div></div></div></div></div></div><div class=\"sk-item\"><div class=\"sk-estimator sk-toggleable\"><input class=\"sk-toggleable__control sk-hidden--visually\" id=\"35f70688-3282-464d-8547-a5d463a72575\" type=\"checkbox\" ><label for=\"35f70688-3282-464d-8547-a5d463a72575\" class=\"sk-toggleable__label sk-toggleable__label-arrow\">LinearRegression</label><div class=\"sk-toggleable__content\"><pre>LinearRegression()</pre></div></div></div></div></div></div></div>"
            ]
          },
          "metadata": {},
          "execution_count": 268
        }
      ]
    },
    {
      "cell_type": "markdown",
      "source": [
        "### **Metrics**"
      ],
      "metadata": {
        "id": "XDHVupiYfpDr"
      }
    },
    {
      "cell_type": "code",
      "source": [
        "from sklearn.metrics import r2_score, mean_squared_error"
      ],
      "metadata": {
        "id": "OjVAbxDvxyuu"
      },
      "execution_count": null,
      "outputs": []
    },
    {
      "cell_type": "markdown",
      "source": [
        "**To measure performance based on R^2**"
      ],
      "metadata": {
        "id": "7TLnAm8iyZwN"
      }
    },
    {
      "cell_type": "code",
      "source": [
        "## Measuring model performance - using builtin .score()\n",
        "print(f\"Train R-Squared: { round( lin_reg_pipe.score(X_train, y_train),3) }\")\n",
        "print(f\"Test R-Squared: { round( lin_reg_pipe.score(X_test, y_test),3) }\")"
      ],
      "metadata": {
        "colab": {
          "base_uri": "https://localhost:8080/"
        },
        "id": "quynrl3Kx63G",
        "outputId": "317a051b-85da-44df-9e6f-90c2fa43222e"
      },
      "execution_count": 279,
      "outputs": [
        {
          "output_type": "stream",
          "name": "stdout",
          "text": [
            "Train R-Squared: 0.671\n",
            "Test R-Squared: -1.6575880497968222e+19\n"
          ]
        }
      ]
    },
    {
      "cell_type": "markdown",
      "source": [
        "**To measure performance based on RMSE**"
      ],
      "metadata": {
        "id": "21ykEUxJyi8H"
      }
    },
    {
      "cell_type": "code",
      "source": [
        "# get predictions for train and test data\n",
        "y_hat_train = lin_reg_pipe.predict(X_train)\n",
        "y_hat_test = lin_reg_pipe.predict(X_test)"
      ],
      "metadata": {
        "id": "MDu1IsVAyiQp"
      },
      "execution_count": 280,
      "outputs": []
    },
    {
      "cell_type": "code",
      "source": [
        "# Get RMSE for train vs test\n",
        "rmse_train =  mean_squared_error(y_train, y_hat_train, squared=False)\n",
        "rmse_test = mean_squared_error(y_test, y_hat_test, squared=False)\n",
        "print(f\"Train RMSE: { round(rmse_train, 2)}\")\n",
        "print(f\"Test RMSE: { round( rmse_test, 2)}\")"
      ],
      "metadata": {
        "colab": {
          "base_uri": "https://localhost:8080/"
        },
        "id": "ZpPN5eYhy0NF",
        "outputId": "eafd7110-6b51-4058-8c82-7081eebcd55f"
      },
      "execution_count": 281,
      "outputs": [
        {
          "output_type": "stream",
          "name": "stdout",
          "text": [
            "Train RMSE: 986.09\n",
            "Test RMSE: 6762579228319.0\n"
          ]
        }
      ]
    },
    {
      "cell_type": "code",
      "source": [
        "# Metrics for linear regression \n",
        "model_metrics(lin_reg_pipe, x_train=X_train, y_train=y_train,\n",
        "                          x_test=X_test, y_test=y_test,\n",
        "                            model_name='Linear Regrssion')"
      ],
      "metadata": {
        "colab": {
          "base_uri": "https://localhost:8080/"
        },
        "id": "snrBJ16_fuG2",
        "outputId": "eb3a32b6-cc8b-4ea5-c0d3-a29734d08009"
      },
      "execution_count": 269,
      "outputs": [
        {
          "output_type": "stream",
          "name": "stdout",
          "text": [
            "Linear Regrssion Train Scores\n",
            "MAE: 736.1576 \n",
            "MSE: 972,365.2275 \n",
            "RMSE: 986.0858 \n",
            "R2: 0.6714\n",
            "\n",
            "Linear Regrssion Test Scores\n",
            "MAE: 558,742,259,972.5935 \n",
            "MSE: 45,732,477,819,291,585,684,176,896.0000 \n",
            "RMSE: 6,762,579,228,318.9990 \n",
            "R2: -16,575,880,497,968,222,208.0000\n",
            "\n"
          ]
        }
      ]
    },
    {
      "cell_type": "markdown",
      "source": [
        "## Linear Regression Model Observations\n",
        "\n",
        "- This model performs fairly well on the training set. But performs very poorly on the testing set. \n",
        "- Most likely, this data is not well suited for a Linear Model. \n",
        "- Therefore, we will explore using other models to see how they perform.\n",
        "- The R^2 for train score is acceptable, R^2 for test score reveal a negative result, Moreover, it could be underfited by due to the lack of data in our dataset\n",
        "- The RMSE in the test and train scores significantly far apart from each other, though both keep the same units"
      ],
      "metadata": {
        "id": "DfNLJLzypHDI"
      }
    },
    {
      "cell_type": "markdown",
      "source": [
        "### **2. Regression Tree Model to Predict Sales**"
      ],
      "metadata": {
        "id": "BZmoYIgfgbMr"
      }
    },
    {
      "cell_type": "code",
      "source": [
        "## Create a decsing tree\n",
        "dec_tree = DecisionTreeRegressor(random_state = 42)\n",
        "\n",
        "## Pipeline\n",
        "\n",
        "dec_tree_pipe = make_pipeline(preprocessor, dec_tree)\n",
        "\n",
        "# Fit the model\n",
        "dec_tree_pipe.fit(X_train, y_train)"
      ],
      "metadata": {
        "colab": {
          "base_uri": "https://localhost:8080/",
          "height": 222
        },
        "id": "Dfqr1NhPiWEA",
        "outputId": "409baff9-fa04-4f91-cad5-b4a8a450d2a1"
      },
      "execution_count": 282,
      "outputs": [
        {
          "output_type": "execute_result",
          "data": {
            "text/plain": [
              "Pipeline(steps=[('columntransformer',\n",
              "                 ColumnTransformer(remainder='passthrough',\n",
              "                                   transformers=[('pipeline-1',\n",
              "                                                  Pipeline(steps=[('simpleimputer',\n",
              "                                                                   SimpleImputer()),\n",
              "                                                                  ('standardscaler',\n",
              "                                                                   StandardScaler())]),\n",
              "                                                  <sklearn.compose._column_transformer.make_column_selector object at 0x7ff37a0a4850>),\n",
              "                                                 ('pipeline-2',\n",
              "                                                  Pipeline(steps=[('simpleimputer',\n",
              "                                                                   SimpleImputer(strategy='most_frequent')),\n",
              "                                                                  ('onehotencoder',\n",
              "                                                                   OneHotEncoder(handle_unknown='ignore',\n",
              "                                                                                 sparse=False))]),\n",
              "                                                  <sklearn.compose._column_transformer.make_column_selector object at 0x7ff37a963850>)])),\n",
              "                ('decisiontreeregressor',\n",
              "                 DecisionTreeRegressor(random_state=42))])"
            ],
            "text/html": [
              "<style>#sk-4f841d99-eaa2-45d4-bbb3-f7416afd6489 {color: black;background-color: white;}#sk-4f841d99-eaa2-45d4-bbb3-f7416afd6489 pre{padding: 0;}#sk-4f841d99-eaa2-45d4-bbb3-f7416afd6489 div.sk-toggleable {background-color: white;}#sk-4f841d99-eaa2-45d4-bbb3-f7416afd6489 label.sk-toggleable__label {cursor: pointer;display: block;width: 100%;margin-bottom: 0;padding: 0.3em;box-sizing: border-box;text-align: center;}#sk-4f841d99-eaa2-45d4-bbb3-f7416afd6489 label.sk-toggleable__label-arrow:before {content: \"▸\";float: left;margin-right: 0.25em;color: #696969;}#sk-4f841d99-eaa2-45d4-bbb3-f7416afd6489 label.sk-toggleable__label-arrow:hover:before {color: black;}#sk-4f841d99-eaa2-45d4-bbb3-f7416afd6489 div.sk-estimator:hover label.sk-toggleable__label-arrow:before {color: black;}#sk-4f841d99-eaa2-45d4-bbb3-f7416afd6489 div.sk-toggleable__content {max-height: 0;max-width: 0;overflow: hidden;text-align: left;background-color: #f0f8ff;}#sk-4f841d99-eaa2-45d4-bbb3-f7416afd6489 div.sk-toggleable__content pre {margin: 0.2em;color: black;border-radius: 0.25em;background-color: #f0f8ff;}#sk-4f841d99-eaa2-45d4-bbb3-f7416afd6489 input.sk-toggleable__control:checked~div.sk-toggleable__content {max-height: 200px;max-width: 100%;overflow: auto;}#sk-4f841d99-eaa2-45d4-bbb3-f7416afd6489 input.sk-toggleable__control:checked~label.sk-toggleable__label-arrow:before {content: \"▾\";}#sk-4f841d99-eaa2-45d4-bbb3-f7416afd6489 div.sk-estimator input.sk-toggleable__control:checked~label.sk-toggleable__label {background-color: #d4ebff;}#sk-4f841d99-eaa2-45d4-bbb3-f7416afd6489 div.sk-label input.sk-toggleable__control:checked~label.sk-toggleable__label {background-color: #d4ebff;}#sk-4f841d99-eaa2-45d4-bbb3-f7416afd6489 input.sk-hidden--visually {border: 0;clip: rect(1px 1px 1px 1px);clip: rect(1px, 1px, 1px, 1px);height: 1px;margin: -1px;overflow: hidden;padding: 0;position: absolute;width: 1px;}#sk-4f841d99-eaa2-45d4-bbb3-f7416afd6489 div.sk-estimator {font-family: monospace;background-color: #f0f8ff;border: 1px dotted black;border-radius: 0.25em;box-sizing: border-box;margin-bottom: 0.5em;}#sk-4f841d99-eaa2-45d4-bbb3-f7416afd6489 div.sk-estimator:hover {background-color: #d4ebff;}#sk-4f841d99-eaa2-45d4-bbb3-f7416afd6489 div.sk-parallel-item::after {content: \"\";width: 100%;border-bottom: 1px solid gray;flex-grow: 1;}#sk-4f841d99-eaa2-45d4-bbb3-f7416afd6489 div.sk-label:hover label.sk-toggleable__label {background-color: #d4ebff;}#sk-4f841d99-eaa2-45d4-bbb3-f7416afd6489 div.sk-serial::before {content: \"\";position: absolute;border-left: 1px solid gray;box-sizing: border-box;top: 2em;bottom: 0;left: 50%;}#sk-4f841d99-eaa2-45d4-bbb3-f7416afd6489 div.sk-serial {display: flex;flex-direction: column;align-items: center;background-color: white;padding-right: 0.2em;padding-left: 0.2em;}#sk-4f841d99-eaa2-45d4-bbb3-f7416afd6489 div.sk-item {z-index: 1;}#sk-4f841d99-eaa2-45d4-bbb3-f7416afd6489 div.sk-parallel {display: flex;align-items: stretch;justify-content: center;background-color: white;}#sk-4f841d99-eaa2-45d4-bbb3-f7416afd6489 div.sk-parallel::before {content: \"\";position: absolute;border-left: 1px solid gray;box-sizing: border-box;top: 2em;bottom: 0;left: 50%;}#sk-4f841d99-eaa2-45d4-bbb3-f7416afd6489 div.sk-parallel-item {display: flex;flex-direction: column;position: relative;background-color: white;}#sk-4f841d99-eaa2-45d4-bbb3-f7416afd6489 div.sk-parallel-item:first-child::after {align-self: flex-end;width: 50%;}#sk-4f841d99-eaa2-45d4-bbb3-f7416afd6489 div.sk-parallel-item:last-child::after {align-self: flex-start;width: 50%;}#sk-4f841d99-eaa2-45d4-bbb3-f7416afd6489 div.sk-parallel-item:only-child::after {width: 0;}#sk-4f841d99-eaa2-45d4-bbb3-f7416afd6489 div.sk-dashed-wrapped {border: 1px dashed gray;margin: 0 0.4em 0.5em 0.4em;box-sizing: border-box;padding-bottom: 0.4em;background-color: white;position: relative;}#sk-4f841d99-eaa2-45d4-bbb3-f7416afd6489 div.sk-label label {font-family: monospace;font-weight: bold;background-color: white;display: inline-block;line-height: 1.2em;}#sk-4f841d99-eaa2-45d4-bbb3-f7416afd6489 div.sk-label-container {position: relative;z-index: 2;text-align: center;}#sk-4f841d99-eaa2-45d4-bbb3-f7416afd6489 div.sk-container {/* jupyter's `normalize.less` sets `[hidden] { display: none; }` but bootstrap.min.css set `[hidden] { display: none !important; }` so we also need the `!important` here to be able to override the default hidden behavior on the sphinx rendered scikit-learn.org. See: https://github.com/scikit-learn/scikit-learn/issues/21755 */display: inline-block !important;position: relative;}#sk-4f841d99-eaa2-45d4-bbb3-f7416afd6489 div.sk-text-repr-fallback {display: none;}</style><div id=\"sk-4f841d99-eaa2-45d4-bbb3-f7416afd6489\" class=\"sk-top-container\"><div class=\"sk-text-repr-fallback\"><pre>Pipeline(steps=[(&#x27;columntransformer&#x27;,\n",
              "                 ColumnTransformer(remainder=&#x27;passthrough&#x27;,\n",
              "                                   transformers=[(&#x27;pipeline-1&#x27;,\n",
              "                                                  Pipeline(steps=[(&#x27;simpleimputer&#x27;,\n",
              "                                                                   SimpleImputer()),\n",
              "                                                                  (&#x27;standardscaler&#x27;,\n",
              "                                                                   StandardScaler())]),\n",
              "                                                  &lt;sklearn.compose._column_transformer.make_column_selector object at 0x7ff37a0a4850&gt;),\n",
              "                                                 (&#x27;pipeline-2&#x27;,\n",
              "                                                  Pipeline(steps=[(&#x27;simpleimputer&#x27;,\n",
              "                                                                   SimpleImputer(strategy=&#x27;most_frequent&#x27;)),\n",
              "                                                                  (&#x27;onehotencoder&#x27;,\n",
              "                                                                   OneHotEncoder(handle_unknown=&#x27;ignore&#x27;,\n",
              "                                                                                 sparse=False))]),\n",
              "                                                  &lt;sklearn.compose._column_transformer.make_column_selector object at 0x7ff37a963850&gt;)])),\n",
              "                (&#x27;decisiontreeregressor&#x27;,\n",
              "                 DecisionTreeRegressor(random_state=42))])</pre><b>Please rerun this cell to show the HTML repr or trust the notebook.</b></div><div class=\"sk-container\" hidden><div class=\"sk-item sk-dashed-wrapped\"><div class=\"sk-label-container\"><div class=\"sk-label sk-toggleable\"><input class=\"sk-toggleable__control sk-hidden--visually\" id=\"e7749bc1-5587-4d45-a5de-4bfcc3953af6\" type=\"checkbox\" ><label for=\"e7749bc1-5587-4d45-a5de-4bfcc3953af6\" class=\"sk-toggleable__label sk-toggleable__label-arrow\">Pipeline</label><div class=\"sk-toggleable__content\"><pre>Pipeline(steps=[(&#x27;columntransformer&#x27;,\n",
              "                 ColumnTransformer(remainder=&#x27;passthrough&#x27;,\n",
              "                                   transformers=[(&#x27;pipeline-1&#x27;,\n",
              "                                                  Pipeline(steps=[(&#x27;simpleimputer&#x27;,\n",
              "                                                                   SimpleImputer()),\n",
              "                                                                  (&#x27;standardscaler&#x27;,\n",
              "                                                                   StandardScaler())]),\n",
              "                                                  &lt;sklearn.compose._column_transformer.make_column_selector object at 0x7ff37a0a4850&gt;),\n",
              "                                                 (&#x27;pipeline-2&#x27;,\n",
              "                                                  Pipeline(steps=[(&#x27;simpleimputer&#x27;,\n",
              "                                                                   SimpleImputer(strategy=&#x27;most_frequent&#x27;)),\n",
              "                                                                  (&#x27;onehotencoder&#x27;,\n",
              "                                                                   OneHotEncoder(handle_unknown=&#x27;ignore&#x27;,\n",
              "                                                                                 sparse=False))]),\n",
              "                                                  &lt;sklearn.compose._column_transformer.make_column_selector object at 0x7ff37a963850&gt;)])),\n",
              "                (&#x27;decisiontreeregressor&#x27;,\n",
              "                 DecisionTreeRegressor(random_state=42))])</pre></div></div></div><div class=\"sk-serial\"><div class=\"sk-item sk-dashed-wrapped\"><div class=\"sk-label-container\"><div class=\"sk-label sk-toggleable\"><input class=\"sk-toggleable__control sk-hidden--visually\" id=\"06c5110b-5fea-45c6-99a2-0cdbf99ed339\" type=\"checkbox\" ><label for=\"06c5110b-5fea-45c6-99a2-0cdbf99ed339\" class=\"sk-toggleable__label sk-toggleable__label-arrow\">columntransformer: ColumnTransformer</label><div class=\"sk-toggleable__content\"><pre>ColumnTransformer(remainder=&#x27;passthrough&#x27;,\n",
              "                  transformers=[(&#x27;pipeline-1&#x27;,\n",
              "                                 Pipeline(steps=[(&#x27;simpleimputer&#x27;,\n",
              "                                                  SimpleImputer()),\n",
              "                                                 (&#x27;standardscaler&#x27;,\n",
              "                                                  StandardScaler())]),\n",
              "                                 &lt;sklearn.compose._column_transformer.make_column_selector object at 0x7ff37a0a4850&gt;),\n",
              "                                (&#x27;pipeline-2&#x27;,\n",
              "                                 Pipeline(steps=[(&#x27;simpleimputer&#x27;,\n",
              "                                                  SimpleImputer(strategy=&#x27;most_frequent&#x27;)),\n",
              "                                                 (&#x27;onehotencoder&#x27;,\n",
              "                                                  OneHotEncoder(handle_unknown=&#x27;ignore&#x27;,\n",
              "                                                                sparse=False))]),\n",
              "                                 &lt;sklearn.compose._column_transformer.make_column_selector object at 0x7ff37a963850&gt;)])</pre></div></div></div><div class=\"sk-parallel\"><div class=\"sk-parallel-item\"><div class=\"sk-item\"><div class=\"sk-label-container\"><div class=\"sk-label sk-toggleable\"><input class=\"sk-toggleable__control sk-hidden--visually\" id=\"dbc6487a-c71d-49a2-bf2c-aa0a8bd98033\" type=\"checkbox\" ><label for=\"dbc6487a-c71d-49a2-bf2c-aa0a8bd98033\" class=\"sk-toggleable__label sk-toggleable__label-arrow\">pipeline-1</label><div class=\"sk-toggleable__content\"><pre>&lt;sklearn.compose._column_transformer.make_column_selector object at 0x7ff37a0a4850&gt;</pre></div></div></div><div class=\"sk-serial\"><div class=\"sk-item\"><div class=\"sk-serial\"><div class=\"sk-item\"><div class=\"sk-estimator sk-toggleable\"><input class=\"sk-toggleable__control sk-hidden--visually\" id=\"c431b969-d4a4-4f45-a19b-ce4cc0cb79cb\" type=\"checkbox\" ><label for=\"c431b969-d4a4-4f45-a19b-ce4cc0cb79cb\" class=\"sk-toggleable__label sk-toggleable__label-arrow\">SimpleImputer</label><div class=\"sk-toggleable__content\"><pre>SimpleImputer()</pre></div></div></div><div class=\"sk-item\"><div class=\"sk-estimator sk-toggleable\"><input class=\"sk-toggleable__control sk-hidden--visually\" id=\"ca0e0da5-e41c-463e-9436-b6bee2d57ee5\" type=\"checkbox\" ><label for=\"ca0e0da5-e41c-463e-9436-b6bee2d57ee5\" class=\"sk-toggleable__label sk-toggleable__label-arrow\">StandardScaler</label><div class=\"sk-toggleable__content\"><pre>StandardScaler()</pre></div></div></div></div></div></div></div></div><div class=\"sk-parallel-item\"><div class=\"sk-item\"><div class=\"sk-label-container\"><div class=\"sk-label sk-toggleable\"><input class=\"sk-toggleable__control sk-hidden--visually\" id=\"e5c80047-7131-4992-861d-4099e018d96a\" type=\"checkbox\" ><label for=\"e5c80047-7131-4992-861d-4099e018d96a\" class=\"sk-toggleable__label sk-toggleable__label-arrow\">pipeline-2</label><div class=\"sk-toggleable__content\"><pre>&lt;sklearn.compose._column_transformer.make_column_selector object at 0x7ff37a963850&gt;</pre></div></div></div><div class=\"sk-serial\"><div class=\"sk-item\"><div class=\"sk-serial\"><div class=\"sk-item\"><div class=\"sk-estimator sk-toggleable\"><input class=\"sk-toggleable__control sk-hidden--visually\" id=\"15c2a9c6-4d86-4c81-9df9-291f5b1cdde7\" type=\"checkbox\" ><label for=\"15c2a9c6-4d86-4c81-9df9-291f5b1cdde7\" class=\"sk-toggleable__label sk-toggleable__label-arrow\">SimpleImputer</label><div class=\"sk-toggleable__content\"><pre>SimpleImputer(strategy=&#x27;most_frequent&#x27;)</pre></div></div></div><div class=\"sk-item\"><div class=\"sk-estimator sk-toggleable\"><input class=\"sk-toggleable__control sk-hidden--visually\" id=\"69c92445-a345-4e78-8e3c-ce7ded4e496e\" type=\"checkbox\" ><label for=\"69c92445-a345-4e78-8e3c-ce7ded4e496e\" class=\"sk-toggleable__label sk-toggleable__label-arrow\">OneHotEncoder</label><div class=\"sk-toggleable__content\"><pre>OneHotEncoder(handle_unknown=&#x27;ignore&#x27;, sparse=False)</pre></div></div></div></div></div></div></div></div><div class=\"sk-parallel-item\"><div class=\"sk-item\"><div class=\"sk-label-container\"><div class=\"sk-label sk-toggleable\"><input class=\"sk-toggleable__control sk-hidden--visually\" id=\"7a7005ba-74aa-4218-b9d4-e24e0e1c41cf\" type=\"checkbox\" ><label for=\"7a7005ba-74aa-4218-b9d4-e24e0e1c41cf\" class=\"sk-toggleable__label sk-toggleable__label-arrow\">remainder</label><div class=\"sk-toggleable__content\"><pre>[]</pre></div></div></div><div class=\"sk-serial\"><div class=\"sk-item\"><div class=\"sk-estimator sk-toggleable\"><input class=\"sk-toggleable__control sk-hidden--visually\" id=\"cc1b77c6-266f-4daf-b012-ff031732e9b0\" type=\"checkbox\" ><label for=\"cc1b77c6-266f-4daf-b012-ff031732e9b0\" class=\"sk-toggleable__label sk-toggleable__label-arrow\">passthrough</label><div class=\"sk-toggleable__content\"><pre>passthrough</pre></div></div></div></div></div></div></div></div><div class=\"sk-item\"><div class=\"sk-estimator sk-toggleable\"><input class=\"sk-toggleable__control sk-hidden--visually\" id=\"101ce19b-5e03-45ca-b855-17d916797ae1\" type=\"checkbox\" ><label for=\"101ce19b-5e03-45ca-b855-17d916797ae1\" class=\"sk-toggleable__label sk-toggleable__label-arrow\">DecisionTreeRegressor</label><div class=\"sk-toggleable__content\"><pre>DecisionTreeRegressor(random_state=42)</pre></div></div></div></div></div></div></div>"
            ]
          },
          "metadata": {},
          "execution_count": 282
        }
      ]
    },
    {
      "cell_type": "markdown",
      "source": [
        "**To predict the target values for Outlet Sales**"
      ],
      "metadata": {
        "id": "BETB1cxRzfFn"
      }
    },
    {
      "cell_type": "code",
      "source": [
        "train_preds = dec_tree.predict(X_train_processed)\n",
        "test_preds = dec_tree.predict(X_test_processed)"
      ],
      "metadata": {
        "id": "RBd5Oxr5zi7-"
      },
      "execution_count": 283,
      "outputs": []
    },
    {
      "cell_type": "markdown",
      "source": [
        "### **Metrics**"
      ],
      "metadata": {
        "id": "bgzfFGgdidUi"
      }
    },
    {
      "cell_type": "code",
      "source": [
        "# evaluate the model\n",
        "train_score = dec_tree.score(X_train_processed, y_train)\n",
        "test_score = dec_tree.score(X_test_processed, y_test)\n",
        "print(train_score)\n",
        "print(test_score)"
      ],
      "metadata": {
        "colab": {
          "base_uri": "https://localhost:8080/"
        },
        "id": "PoGJxpGx0D-V",
        "outputId": "2c2cb924-9a2a-4f06-dc3f-b4c0201d14b0"
      },
      "execution_count": 284,
      "outputs": [
        {
          "output_type": "stream",
          "name": "stdout",
          "text": [
            "1.0\n",
            "0.23769742878875222\n"
          ]
        }
      ]
    },
    {
      "cell_type": "code",
      "source": [
        "# Metrics for Decision tree regressor\n",
        "model_metrics(dec_tree_pipe, x_train=X_train, y_train=y_train,\n",
        "                            x_test=X_test, y_test=y_test,\n",
        "                              model_name='Decision Tree model')"
      ],
      "metadata": {
        "colab": {
          "base_uri": "https://localhost:8080/"
        },
        "id": "3FegakxCicB3",
        "outputId": "444b2401-1d3f-4761-bbe8-bab80b6ae535"
      },
      "execution_count": 271,
      "outputs": [
        {
          "output_type": "stream",
          "name": "stdout",
          "text": [
            "Decision Tree model Train Scores\n",
            "MAE: 0.0000 \n",
            "MSE: 0.0000 \n",
            "RMSE: 0.0000 \n",
            "R2: 1.0000\n",
            "\n",
            "Decision Tree model Test Scores\n",
            "MAE: 984.1583 \n",
            "MSE: 2,099,666.1777 \n",
            "RMSE: 1,449.0225 \n",
            "R2: 0.2390\n",
            "\n"
          ]
        }
      ]
    },
    {
      "cell_type": "markdown",
      "source": [
        "**To Tune the model for optimized results**"
      ],
      "metadata": {
        "id": "HS9KvZ3C0I0A"
      }
    },
    {
      "cell_type": "code",
      "source": [
        "# Looking at options for tuning this model\n",
        "dec_tree.get_params()"
      ],
      "metadata": {
        "colab": {
          "base_uri": "https://localhost:8080/"
        },
        "id": "N37qQm-q0P7Q",
        "outputId": "99b71506-73c0-4e36-f0ce-347963b8ae3e"
      },
      "execution_count": 285,
      "outputs": [
        {
          "output_type": "execute_result",
          "data": {
            "text/plain": [
              "{'ccp_alpha': 0.0,\n",
              " 'criterion': 'squared_error',\n",
              " 'max_depth': None,\n",
              " 'max_features': None,\n",
              " 'max_leaf_nodes': None,\n",
              " 'min_impurity_decrease': 0.0,\n",
              " 'min_samples_leaf': 1,\n",
              " 'min_samples_split': 2,\n",
              " 'min_weight_fraction_leaf': 0.0,\n",
              " 'random_state': 42,\n",
              " 'splitter': 'best'}"
            ]
          },
          "metadata": {},
          "execution_count": 285
        }
      ]
    },
    {
      "cell_type": "code",
      "source": [
        "# To find the depth of the model\n",
        "dec_tree.get_depth()"
      ],
      "metadata": {
        "colab": {
          "base_uri": "https://localhost:8080/"
        },
        "id": "VGsbBYjV0Sko",
        "outputId": "f2275abb-ec67-4806-b268-509005cd21ce"
      },
      "execution_count": 286,
      "outputs": [
        {
          "output_type": "execute_result",
          "data": {
            "text/plain": [
              "60"
            ]
          },
          "metadata": {},
          "execution_count": 286
        }
      ]
    },
    {
      "cell_type": "code",
      "source": [
        "#To find how many leaf nodes exist in the model\n",
        "dec_tree.get_n_leaves()"
      ],
      "metadata": {
        "colab": {
          "base_uri": "https://localhost:8080/"
        },
        "id": "iJjAdaal0Xvb",
        "outputId": "5fd82a1c-a9be-4a97-cbba-eccbae911eca"
      },
      "execution_count": 287,
      "outputs": [
        {
          "output_type": "execute_result",
          "data": {
            "text/plain": [
              "6255"
            ]
          },
          "metadata": {},
          "execution_count": 287
        }
      ]
    },
    {
      "cell_type": "markdown",
      "source": [
        "**To use the for Loop to get a list of values for max_depth**"
      ],
      "metadata": {
        "id": "jTOX3RRu0fU3"
      }
    },
    {
      "cell_type": "code",
      "source": [
        "# List of values to try for max_depth:\n",
        "depths = list(range(2, 42)) # will try every value between 2 and 36\n",
        "# Data frame to store the score for each value of max_depth:\n",
        "scores = pd.DataFrame(index=depths, columns=['Test Score','Train Score'])\n",
        "for depth in depths:\n",
        "    dec_tree = DecisionTreeRegressor(max_depth=depth, random_state=42)\n",
        "    dec_tree.fit(X_train_processed, y_train)\n",
        "    train_score = dec_tree.score(X_train_processed, y_train)\n",
        "    test_score = dec_tree.score(X_test_processed, y_test)\n",
        "    scores.loc[depth, 'Train Score'] = train_score\n",
        "    scores.loc[depth, 'Test Score'] = test_score"
      ],
      "metadata": {
        "id": "AyQ-fG5P0eQ_"
      },
      "execution_count": 288,
      "outputs": []
    },
    {
      "cell_type": "markdown",
      "source": [
        "**To visualize max_depth values**"
      ],
      "metadata": {
        "id": "AnYJBehv0qmW"
      }
    },
    {
      "cell_type": "code",
      "source": [
        "# Visualize which max_depth leads to the highest r2 score\n",
        "import matplotlib.pyplot as plt\n",
        "plt.plot(depths, scores['Test Score'])\n",
        "plt.xlabel('max_depth')\n",
        "plt.ylabel('R2');"
      ],
      "metadata": {
        "colab": {
          "base_uri": "https://localhost:8080/",
          "height": 280
        },
        "id": "M4aUrYih0y6o",
        "outputId": "47bd0ce3-04ab-49de-9ad3-2321d6e58eac"
      },
      "execution_count": 289,
      "outputs": [
        {
          "output_type": "display_data",
          "data": {
            "text/plain": [
              "<Figure size 432x288 with 1 Axes>"
            ],
            "image/png": "[encoded data removed]"
          },
          "metadata": {}
        }
      ]
    },
    {
      "cell_type": "markdown",
      "source": [
        "**The graph tells us that the max depth for optimum results for this model is 5**"
      ],
      "metadata": {
        "id": "OwDE_YXv021U"
      }
    },
    {
      "cell_type": "code",
      "source": [
        "#To verify that Depth of 5 has the highest scores.\n",
        "sorted_scores = scores.sort_values(by='Test Score', ascending=False)\n",
        "sorted_scores.head()"
      ],
      "metadata": {
        "colab": {
          "base_uri": "https://localhost:8080/",
          "height": 204
        },
        "id": "j1IFfkZS1CRO",
        "outputId": "f1ad5473-3637-4e0a-c63f-d2f0e107a8eb"
      },
      "execution_count": 290,
      "outputs": [
        {
          "output_type": "execute_result",
          "data": {
            "text/plain": [
              "  Test Score Train Score\n",
              "5   0.596056    0.604207\n",
              "6   0.584616    0.615702\n",
              "4   0.583937    0.582705\n",
              "7   0.577384    0.629269\n",
              "8    0.55714    0.641334"
            ],
            "text/html": [
              "\n",
              "  <div id=\"df-e9b2c93d-5c94-4bef-9b75-4f8f0e22ccd5\">\n",
              "    <div class=\"colab-df-container\">\n",
              "      <div>\n",
              "<style scoped>\n",
              "    .dataframe tbody tr th:only-of-type {\n",
              "        vertical-align: middle;\n",
              "    }\n",
              "\n",
              "    .dataframe tbody tr th {\n",
              "        vertical-align: top;\n",
              "    }\n",
              "\n",
              "    .dataframe thead th {\n",
              "        text-align: right;\n",
              "    }\n",
              "</style>\n",
              "<table border=\"1\" class=\"dataframe\">\n",
              "  <thead>\n",
              "    <tr style=\"text-align: right;\">\n",
              "      <th></th>\n",
              "      <th>Test Score</th>\n",
              "      <th>Train Score</th>\n",
              "    </tr>\n",
              "  </thead>\n",
              "  <tbody>\n",
              "    <tr>\n",
              "      <th>5</th>\n",
              "      <td>0.596056</td>\n",
              "      <td>0.604207</td>\n",
              "    </tr>\n",
              "    <tr>\n",
              "      <th>6</th>\n",
              "      <td>0.584616</td>\n",
              "      <td>0.615702</td>\n",
              "    </tr>\n",
              "    <tr>\n",
              "      <th>4</th>\n",
              "      <td>0.583937</td>\n",
              "      <td>0.582705</td>\n",
              "    </tr>\n",
              "    <tr>\n",
              "      <th>7</th>\n",
              "      <td>0.577384</td>\n",
              "      <td>0.629269</td>\n",
              "    </tr>\n",
              "    <tr>\n",
              "      <th>8</th>\n",
              "      <td>0.55714</td>\n",
              "      <td>0.641334</td>\n",
              "    </tr>\n",
              "  </tbody>\n",
              "</table>\n",
              "</div>\n",
              "      <button class=\"colab-df-convert\" onclick=\"convertToInteractive('df-e9b2c93d-5c94-4bef-9b75-4f8f0e22ccd5')\"\n",
              "              title=\"Convert this dataframe to an interactive table.\"\n",
              "              style=\"display:none;\">\n",
              "        \n",
              "  <svg xmlns=\"http://www.w3.org/2000/svg\" height=\"24px\"viewBox=\"0 0 24 24\"\n",
              "       width=\"24px\">\n",
              "    <path d=\"M0 0h24v24H0V0z\" fill=\"none\"/>\n",
              "    <path d=\"M18.56 5.44l.94 2.06.94-2.06 2.06-.94-2.06-.94-.94-2.06-.94 2.06-2.06.94zm-11 1L8.5 8.5l.94-2.06 2.06-.94-2.06-.94L8.5 2.5l-.94 2.06-2.06.94zm10 10l.94 2.06.94-2.06 2.06-.94-2.06-.94-.94-2.06-.94 2.06-2.06.94z\"/><path d=\"M17.41 7.96l-1.37-1.37c-.4-.4-.92-.59-1.43-.59-.52 0-1.04.2-1.43.59L10.3 9.45l-7.72 7.72c-.78.78-.78 2.05 0 2.83L4 21.41c.39.39.9.59 1.41.59.51 0 1.02-.2 1.41-.59l7.78-7.78 2.81-2.81c.8-.78.8-2.07 0-2.86zM5.41 20L4 18.59l7.72-7.72 1.47 1.35L5.41 20z\"/>\n",
              "  </svg>\n",
              "      </button>\n",
              "      \n",
              "  <style>\n",
              "    .colab-df-container {\n",
              "      display:flex;\n",
              "      flex-wrap:wrap;\n",
              "      gap: 12px;\n",
              "    }\n",
              "\n",
              "    .colab-df-convert {\n",
              "      background-color: #E8F0FE;\n",
              "      border: none;\n",
              "      border-radius: 50%;\n",
              "      cursor: pointer;\n",
              "      display: none;\n",
              "      fill: #1967D2;\n",
              "      height: 32px;\n",
              "      padding: 0 0 0 0;\n",
              "      width: 32px;\n",
              "    }\n",
              "\n",
              "    .colab-df-convert:hover {\n",
              "      background-color: #E2EBFA;\n",
              "      box-shadow: 0px 1px 2px rgba(60, 64, 67, 0.3), 0px 1px 3px 1px rgba(60, 64, 67, 0.15);\n",
              "      fill: #174EA6;\n",
              "    }\n",
              "\n",
              "    [theme=dark] .colab-df-convert {\n",
              "      background-color: #3B4455;\n",
              "      fill: #D2E3FC;\n",
              "    }\n",
              "\n",
              "    [theme=dark] .colab-df-convert:hover {\n",
              "      background-color: #434B5C;\n",
              "      box-shadow: 0px 1px 3px 1px rgba(0, 0, 0, 0.15);\n",
              "      filter: drop-shadow(0px 1px 2px rgba(0, 0, 0, 0.3));\n",
              "      fill: #FFFFFF;\n",
              "    }\n",
              "  </style>\n",
              "\n",
              "      <script>\n",
              "        const buttonEl =\n",
              "          document.querySelector('#df-e9b2c93d-5c94-4bef-9b75-4f8f0e22ccd5 button.colab-df-convert');\n",
              "        buttonEl.style.display =\n",
              "          google.colab.kernel.accessAllowed ? 'block' : 'none';\n",
              "\n",
              "        async function convertToInteractive(key) {\n",
              "          const element = document.querySelector('#df-e9b2c93d-5c94-4bef-9b75-4f8f0e22ccd5');\n",
              "          const dataTable =\n",
              "            await google.colab.kernel.invokeFunction('convertToInteractive',\n",
              "                                                     [key], {});\n",
              "          if (!dataTable) return;\n",
              "\n",
              "          const docLinkHtml = 'Like what you see? Visit the ' +\n",
              "            '<a target=\"_blank\" href=https://colab.research.google.com/notebooks/data_table.ipynb>data table notebook</a>'\n",
              "            + ' to learn more about interactive tables.';\n",
              "          element.innerHTML = '';\n",
              "          dataTable['output_type'] = 'display_data';\n",
              "          await google.colab.output.renderOutput(dataTable, element);\n",
              "          const docLink = document.createElement('div');\n",
              "          docLink.innerHTML = docLinkHtml;\n",
              "          element.appendChild(docLink);\n",
              "        }\n",
              "      </script>\n",
              "    </div>\n",
              "  </div>\n",
              "  "
            ]
          },
          "metadata": {},
          "execution_count": 290
        }
      ]
    },
    {
      "cell_type": "markdown",
      "source": [
        "**To Run model with the optimized depth of 5**"
      ],
      "metadata": {
        "id": "d8U-JeXf1I_r"
      }
    },
    {
      "cell_type": "code",
      "source": [
        "# To run the model with the optimized value for max_depth\n",
        "dec_tree_6 = DecisionTreeRegressor(max_depth = 6, random_state = 42)\n",
        "dec_tree_6.fit(X_train_processed, y_train)\n",
        "train_6_preds = dec_tree_6.predict(X_train_processed)\n",
        "test_6_preds = dec_tree_6.predict(X_test_processed)\n",
        "train_6_score = dec_tree_6.score(X_train_processed, y_train)\n",
        "test_6_score = dec_tree_6.score(X_test_processed, y_test)\n",
        "print(train_6_score)\n",
        "print(test_6_score)"
      ],
      "metadata": {
        "colab": {
          "base_uri": "https://localhost:8080/"
        },
        "id": "n3CWLwPG1WKm",
        "outputId": "51735524-f243-4383-d988-e88beadf9538"
      },
      "execution_count": 291,
      "outputs": [
        {
          "output_type": "stream",
          "name": "stdout",
          "text": [
            "0.6157022844525739\n",
            "0.5846155162322847\n"
          ]
        }
      ]
    },
    {
      "cell_type": "markdown",
      "source": [
        "**Test output is not far from the training output**"
      ],
      "metadata": {
        "id": "IKu2q2Jb1ZGQ"
      }
    },
    {
      "cell_type": "markdown",
      "source": [
        "### ** To compare the performance model based on R^2 and RMSE**"
      ],
      "metadata": {
        "id": "CDgWwF_f1hlX"
      }
    },
    {
      "cell_type": "code",
      "source": [
        "#Using eval regression function to calculate R^2 and RMSE\n",
        "def eval_regression(true, pred):\n",
        "  mse = mean_squared_error(true, pred)\n",
        "  rmse = np.sqrt(mse)\n",
        "  r2 = r2_score(true, pred)\n",
        "\n",
        "  print(f'RMSE: {rmse},\\n R^2: {r2} ')"
      ],
      "metadata": {
        "id": "MCQKPNwi1wP3"
      },
      "execution_count": 292,
      "outputs": []
    },
    {
      "cell_type": "code",
      "source": [
        "eval_regression(y_train,dec_tree_6.predict(X_train_processed))\n",
        "eval_regression(y_test,dec_tree_6.predict(X_test_processed))"
      ],
      "metadata": {
        "colab": {
          "base_uri": "https://localhost:8080/"
        },
        "id": "bK69AbEz1zbR",
        "outputId": "67774c48-4639-4d6d-babe-f24bfd690053"
      },
      "execution_count": 293,
      "outputs": [
        {
          "output_type": "stream",
          "name": "stdout",
          "text": [
            "RMSE: 1066.4483421682248,\n",
            " R^2: 0.6157022844525739 \n",
            "RMSE: 1070.5308759780908,\n",
            " R^2: 0.5846155162322847 \n"
          ]
        }
      ]
    },
    {
      "cell_type": "markdown",
      "source": [
        "### **Summary**\n",
        "\n",
        "With the evaluation of both the Decision Trees model and the linear regression model, the Decision tree is my recommended model. The justification is that the output for the R^2 training has higher values than the Linear regression model. The RMSE for the Decision Tree model is less than the Linear regression meaning there are going to me lower erroneous predictions than the Linear regression model."
      ],
      "metadata": {
        "id": "htOq7RkO2Hj3"
      }
    }
  ]
}